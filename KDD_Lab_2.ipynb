{
  "nbformat": 4,
  "nbformat_minor": 0,
  "metadata": {
    "colab": {
      "name": "KDD Lab 2",
      "provenance": [],
      "collapsed_sections": []
    },
    "kernelspec": {
      "display_name": "Python 3",
      "name": "python3"
    },
    "language_info": {
      "name": "python"
    }
  },
  "cells": [
    {
      "cell_type": "code",
      "metadata": {
        "id": "edSV13E65Mod"
      },
      "source": [
        "import pandas as pd\n",
        "import numpy as np"
      ],
      "execution_count": null,
      "outputs": []
    },
    {
      "cell_type": "code",
      "metadata": {
        "colab": {
          "base_uri": "https://localhost:8080/"
        },
        "id": "Dpl8_qE9-IIv",
        "outputId": "ecbb625d-2ed0-45d8-ba08-f59647162f86"
      },
      "source": [
        "# Run this if the data files are stored in your Google Drive\n",
        "from google.colab import drive\n",
        "drive.mount('/content/drive')"
      ],
      "execution_count": null,
      "outputs": [
        {
          "name": "stdout",
          "output_type": "stream",
          "text": [
            "Drive already mounted at /content/drive; to attempt to forcibly remount, call drive.mount(\"/content/drive\", force_remount=True).\n"
          ]
        }
      ]
    },
    {
      "cell_type": "code",
      "metadata": {
        "id": "uZU-gOPHmqLG"
      },
      "source": [
        "def get_data(file_path):\n",
        "  \"\"\"\n",
        "  Params:\n",
        "    file_path - path to data file containing sparse vector representation\n",
        "  Return: a list of rows (where rows are sets)\n",
        "  \"\"\"\n",
        "  f = open(file_path)\n",
        "  d = []\n",
        "  line = f.readline()\n",
        "  while line:\n",
        "    line = set(line.strip().split(\", \")[1:])\n",
        "    d.append(line)\n",
        "    line = f.readline()\n",
        "  return d"
      ],
      "execution_count": null,
      "outputs": []
    },
    {
      "cell_type": "code",
      "metadata": {
        "id": "UNO0rErCugIX"
      },
      "source": [
        "def get_goods_names(file_path):  # TODO: add filepath as arg; also need to new parsing fnxn for bingo dataset psv file\n",
        "  goods = pd.read_csv(file_path)\n",
        "  goods[\"Name\"] = goods[\"Flavor\"] + \" \" + goods[\"Food\"]\n",
        "  goods[\"Name\"] = goods[\"Name\"].apply(lambda x: x.replace(\"'\", \"\"))\n",
        "  goods = goods[[\"Id\", \"Name\"]]\n",
        "  d = {}\n",
        "  for index, row in goods.iterrows():\n",
        "      d[str(row[\"Id\"])] = row[\"Name\"]\n",
        "  return d"
      ],
      "execution_count": null,
      "outputs": []
    },
    {
      "cell_type": "code",
      "metadata": {
        "id": "EBzHfw6MtzPf"
      },
      "source": [
        "def get_named_item(ids_to_names, id):\n",
        "  return ids_to_names[str(id)]"
      ],
      "execution_count": null,
      "outputs": []
    },
    {
      "cell_type": "code",
      "metadata": {
        "id": "eFWpszIpuOWX"
      },
      "source": [
        "def get_named_itemset(ids_to_names, itemset):\n",
        "  return tuple([get_named_item(ids_to_names, id) for id in itemset])"
      ],
      "execution_count": null,
      "outputs": []
    },
    {
      "cell_type": "code",
      "metadata": {
        "id": "UDJgVUeRui_i"
      },
      "source": [
        "def get_named_skyline(ids_to_names, skyline_itemsets):\n",
        "  return [get_named_itemset(ids_to_names, itemset) for itemset in skyline_itemsets]"
      ],
      "execution_count": null,
      "outputs": []
    },
    {
      "cell_type": "code",
      "metadata": {
        "id": "qpGjsJ0gvClV"
      },
      "source": [
        "def get_named_associations(ids_to_names, associations):\n",
        "  \"\"\"\n",
        "  Params:\n",
        "    ids_to_names - dict {id (str): name (str)}\n",
        "    associations - dict returned by find_associations {tuple(left, right): confidence}\n",
        "  Return: a dict identical to associations, except, ids are now the corresponding names\n",
        "  \"\"\"\n",
        "  named_associations = {}\n",
        "  for assoc, conf in associations.items():\n",
        "    named_left = get_named_itemset(ids_to_names, assoc[0])\n",
        "    named_right = get_named_item(ids_to_names, assoc[1])\n",
        "    named_assoc = tuple([named_left, named_right])\n",
        "    named_associations[named_assoc] = conf\n",
        "  return named_associations"
      ],
      "execution_count": null,
      "outputs": []
    },
    {
      "cell_type": "code",
      "metadata": {
        "id": "bvywVdKfCjfC"
      },
      "source": [
        "def get_named_association(ids_to_names, association):\n",
        "  \"\"\"\n",
        "  Params:\n",
        "    ids_to_names - dict {id (str): name (str)}\n",
        "    association - a single id association (i.e. a tuple(tuple(left), right))\n",
        "  Return: the same association as given but with ids changed into names\n",
        "  \"\"\"\n",
        "  named_left = get_named_itemset(ids_to_names, association[0])\n",
        "  named_right = get_named_item(ids_to_names, association[1])\n",
        "  named_assoc = tuple([named_left, named_right])\n",
        "  return named_assoc"
      ],
      "execution_count": null,
      "outputs": []
    },
    {
      "cell_type": "code",
      "metadata": {
        "id": "JvfW25XWGiwb"
      },
      "source": [
        "def print_skyline(skyline_itemsets):\n",
        "  for itemset in skyline_itemsets:\n",
        "    print(f\"  ({', '.join(itemset)})\")\n",
        "\n",
        "def print_associations(associations):\n",
        "  for assoc, conf in associations.items():\n",
        "    print(f\"  {', '.join(assoc[0])} -> {assoc[1]} : conf {conf*100:.2f}%\")"
      ],
      "execution_count": null,
      "outputs": []
    },
    {
      "cell_type": "code",
      "metadata": {
        "id": "4JB0ZFOP_Sg6"
      },
      "source": [
        "def print_skyline_with_freqs(skyline_itemsets, frequent_itemsets_info, ids_to_names, num_rows):\n",
        "  \"\"\"\n",
        "  Print each skyline itemset (with names not ids) along with its frequency.\n",
        "  Params:\n",
        "    skyline_itemsets - list of skyline itemsets (which are tuples of ids)\n",
        "    frequent_itemsets_info - dict of frequent itemsets (tuples of ids) to [skyline_flag, support]\n",
        "    ids_to_names - map ids to names via a dict {id (str): name (str)}\n",
        "    num_rows - the integer length of the dataset (i.e. number of rows, aka number of data points)\n",
        "  \"\"\"\n",
        "  for itemset in skyline_itemsets:\n",
        "    named_itemset = get_named_itemset(ids_to_names, itemset)\n",
        "    print(f\"  ({', '.join(named_itemset)}) has rsupport {frequent_itemsets_info[itemset][1] / num_rows:.3f}\")"
      ],
      "execution_count": null,
      "outputs": []
    },
    {
      "cell_type": "code",
      "metadata": {
        "id": "NW4r77LCALAj"
      },
      "source": [
        "def print_associations_with_sups_and_confs(associations, frequent_itemsets_info, ids_to_names, num_rows):\n",
        "  \"\"\"\n",
        "  Print named associations with the corresponding supports and confidences.\n",
        "  Params:\n",
        "    associations - a dict {tuple(skyline frequent itemset subset in ids (tuple), single item id): confidence (>= minConf)}\n",
        "    frequent_itemsets_info - dict of frequent itemsets (tuples of ids) to [skyline_flag, support]\n",
        "    ids_to_names - map ids to names via a dict {id (str): name (str)}\n",
        "    num_rows - the integer length of the dataset (i.e. number of rows, aka number of data points)\n",
        "  \"\"\"\n",
        "  for assoc, conf in associations.items():\n",
        "    superset = list(set.union(set(assoc[0]), set([assoc[1]])))     # superset (ids) for getting support\n",
        "    superset.sort()                                                # sort so will find key\n",
        "    superset = tuple(superset)\n",
        "    assoc_support = frequent_itemsets_info[superset][1] / num_rows  # calc rule support\n",
        "    named_assoc = get_named_association(ids_to_names, assoc)        # get named version of association\n",
        "    print(f\"  {', '.join(named_assoc[0])} -> {named_assoc[1]} :   rsupport = {assoc_support:0.3f},   conf = {conf*100:.2f}%\")"
      ],
      "execution_count": null,
      "outputs": []
    },
    {
      "cell_type": "code",
      "metadata": {
        "id": "r-jkowtvH5JF"
      },
      "source": [
        "def iterate_minX(fnxn, fnxn_arg1, fnxn_arg2, minBound, maxBound, increment):\n",
        "  \"\"\"\n",
        "  Iterate through a given range of minRSup or minConf values, running the corresponding given function on the given data.\n",
        "  This function is meant to help quickly test sets of parameter values.\n",
        "  It prints out the important results from each iteration and returns all results in a dict keyed by minX value.\n",
        "  Params:\n",
        "    fnxn, fnxn_arg1, fnxn_arg2 - 2 fnxn options where _arg1 and _arg2 are the 1st and 2nd args to pass into that fnxn\n",
        "      apriori(sparse_data, list_of_ids, minRSup)\n",
        "      find_associations(apriori_res[minRSup][0], apriori_res[minRSup][1], minConf)\n",
        "    minBound, maxBound, increment - params to np.linspace() to generate test options for the minX to iterate over\n",
        "      will act as minRSup if apriori() given as fnxn\n",
        "      will act as minConf if find_associations() given as fnxn\n",
        "  Return: dict {minX: return of given fnxn when called with given args and iterated minX value}\n",
        "  \"\"\"\n",
        "  res = {}\n",
        "  for minX in np.linspace(minBound, maxBound, increment):\n",
        "    res[minX] = fnxn(fnxn_arg1, fnxn_arg2, minX)\n",
        "    if fnxn is apriori:\n",
        "      print(f\"minRSup {minX} yielded {len(res[minX][1])} skyline frequent itemsets:\\n{res[minX][1]}\")\n",
        "    elif fnxn is find_associations:\n",
        "      print(f\"minConf {minX} yielded {len(res[minX])} skyline associations:\\n{res[minX]}\")\n",
        "  return res"
      ],
      "execution_count": null,
      "outputs": []
    },
    {
      "cell_type": "code",
      "metadata": {
        "id": "SYrRx-To81gB"
      },
      "source": [
        "def find_supported_items(data, candidates, minRSup):\n",
        "  \"\"\"\n",
        "  Params:\n",
        "    data - a list of rows (where rows are sets)\n",
        "    candidates - a list of (item)sets to search for\n",
        "    minRSup - min relative support\n",
        "  \"\"\"\n",
        "  supports = {tuple(item): 0 for item in candidates}   # init all counts to 0\n",
        "  for row in data:              # loop through rows first (1 disk read)\n",
        "    for cand in candidates:     # then check each itemset in that row\n",
        "      if set(cand).issubset(set(row)):    # increase frequency count if itemset is found\n",
        "        supports[tuple(cand)] += 1\n",
        "  \n",
        "  # return only candidate itemsets meeting min sup\n",
        "  num_rows = len(data)\n",
        "  return {itemset: support for itemset, support in supports.items() if support / num_rows >= minRSup}"
      ],
      "execution_count": null,
      "outputs": []
    },
    {
      "cell_type": "code",
      "metadata": {
        "id": "Br1L0xaCBjIS"
      },
      "source": [
        "def all_subsets_present(superset, itemsets):\n",
        "  \"\"\"\n",
        "  Return whether or not all subsets of superset are in itemsets.\n",
        "  Params:\n",
        "    superset - a list representing the new superset of length k (sorted)\n",
        "    itemsets - a list of tuples (the itemsets of length k-1, also sorted)\n",
        "  \"\"\"\n",
        "  all_found = True\n",
        "  for item in superset:       # loop through all subsets by removing on elmt at a time\n",
        "    subset = superset.copy()\n",
        "    subset.remove(item)\n",
        "    found = tuple(subset) in itemsets\n",
        "    all_found &= found\n",
        "  return all_found"
      ],
      "execution_count": null,
      "outputs": []
    },
    {
      "cell_type": "code",
      "metadata": {
        "id": "szPlYWO453vb"
      },
      "source": [
        "def gen_candidates(Fprev, kprev):\n",
        "  \"\"\"\n",
        "  Return a list of candidate length-k (item)sets\n",
        "  Params:\n",
        "    Fprev - a list of lists; i.e. a list of frequent itemsets (lists) of length k-1\n",
        "    kprev - k-1\n",
        "  \"\"\"\n",
        "  # given a set of itemsets each of length k-1,\n",
        "  # generate a new set of itemsets each of length k\n",
        "  # where each new itemset is a combination of two given itemsets,\n",
        "  #   and all of its other subsets are also in the given set of itemsets\n",
        "  candidates = []\n",
        "  for i, a in enumerate(Fprev):\n",
        "    for j, b in enumerate(Fprev[i+1:]):\n",
        "      cand = sorted(list(set.union(set(a), set(b))))\n",
        "      if (cand not in candidates and        # if not a duplicate superset and\n",
        "          len(cand) == kprev + 1 and        # if the new itemset is of correct length (meaning a,b could be combined) and\n",
        "          all_subsets_present(cand, Fprev)):# if given set of itemsets contains all subsets of new superset:\n",
        "          candidates.append(cand)\n",
        "  \n",
        "  return candidates\n",
        "\n",
        "#gen_candidates([['a','b','c'], ['a','b','d'],['b','c','d'],['b','c','e']], 3)"
      ],
      "execution_count": null,
      "outputs": []
    },
    {
      "cell_type": "code",
      "metadata": {
        "id": "xMKuqNcrQh8f"
      },
      "source": [
        "def get_skyline_items(freq_itemsets):\n",
        "  return [key for key, value in freq_itemsets.items() if value[0] != 0]"
      ],
      "execution_count": null,
      "outputs": []
    },
    {
      "cell_type": "code",
      "metadata": {
        "id": "Co1NcsYG7Asa"
      },
      "source": [
        "def apriori(data, singles, minRSup):\n",
        "  \"\"\"\n",
        "  Params:\n",
        "    data - a list of rows (where rows are sets)\n",
        "    singles - a list of all the singletons\n",
        "    minRSup - min ratio/relative support\n",
        "  \"\"\"\n",
        "  # find supports of singletons to start: dict { tuple(itemset) : freq_count }\n",
        "  single_supports = find_supported_items(data, [set([str(single)]) for single in singles], minRSup)\n",
        "  # dict of frequent itemsets only; values are flag values (1 for skyline, 0 for not)\n",
        "  # dict { tuple(itemset) : [ skyline_flag, freq_count ] }\n",
        "  freq_itemsets = {itemset: [1, support] for itemset, support in single_supports.items()}\n",
        "\n",
        "  # init F1\n",
        "  Fk = [tuple(item) for item in freq_itemsets.keys()]\n",
        "  k = 2\n",
        "  #print(f\"F1 = {Fk}\")\n",
        "  \n",
        "  # main loop\n",
        "  while len(Fk) > 0 and k <= len(data):\n",
        "    candidates = gen_candidates(Fk, k-1)\n",
        "    #print(f'Candidates {k}: {candidates}')\n",
        "\n",
        "    # Calc supports of candidates and prune\n",
        "    freq_counts = find_supported_items(data, candidates, minRSup) # dict: {tuple(itemset): frequency}\n",
        "    \n",
        "    # Handle flags for finding skyline frequent itemsets\n",
        "    for new_freq_item in freq_counts.keys():    # set skyline flag to 1 for all new frequent itemsets\n",
        "      freq_itemsets[new_freq_item] = [1, freq_counts[new_freq_item]]\n",
        "    for old_freq_item in Fk:                    # set skyline flag to 0 for any subsets of new frequent itemsets\n",
        "      # if old is a subset of any of the new, set old flag to 0\n",
        "      for new_freq_item in freq_counts.keys():\n",
        "        if len(set.union(set(old_freq_item), set(new_freq_item))) == k:\n",
        "          freq_itemsets[tuple(old_freq_item)] = [0, freq_itemsets[tuple(old_freq_item)][1]]\n",
        "          continue\n",
        "\n",
        "    Fk = list(freq_counts.keys())  # CAREFUL: don't set Fk to new itemsets until after skyline/flag checks\n",
        "    #print(f\"F{k} = {Fk}\")\n",
        "    k += 1\n",
        "\n",
        "  return freq_itemsets, get_skyline_items(freq_itemsets)"
      ],
      "execution_count": null,
      "outputs": []
    },
    {
      "cell_type": "code",
      "metadata": {
        "id": "ell03LCscOQR"
      },
      "source": [
        "def find_associations(freq_itemsets, skyline_itemsets, minConf):\n",
        "  \"\"\"\n",
        "  Find the associations (meeting min confidence) in the skyline frequent itemsets\n",
        "  Params:\n",
        "    freq_itemsets: a dict {itemset (tuple): [0/1 in skyline, support]}\n",
        "    skyline_itemsets: a list of frequent itemsets (tuples) in the skylines\n",
        "  Return: a dict {tuple(skyline frequent itemset subset (tuple), single item): confidence (>= minConf)}\n",
        "  \"\"\"\n",
        "  confs = {}\n",
        "  #print(freq_itemsets)\n",
        "\n",
        "  for freq_itemset in skyline_itemsets:\n",
        "    #print(f\"Freq itemset ({type(freq_itemset)}): {freq_itemset}\")\n",
        "    if len(freq_itemset) <= 1:    # skip frequent singletons\n",
        "      continue\n",
        "    \n",
        "    # loop through all subsets (remove one item each time to get k subsets)\n",
        "    for item in freq_itemset:\n",
        "      #print(f\"Freq_itemset: {freq_itemset}\")\n",
        "      subset = list(freq_itemset)\n",
        "      subset.remove(item)\n",
        "      subset.sort()\n",
        "      #print(f\"Subset {subset} from {freq_itemset}\")\n",
        "      conf = freq_itemsets[freq_itemset][1] / freq_itemsets[tuple(subset)][1]\n",
        "\n",
        "      if conf >= minConf:\n",
        "        confs[(tuple(subset), item)] = conf\n",
        "  \n",
        "  return confs"
      ],
      "execution_count": null,
      "outputs": []
    },
    {
      "cell_type": "code",
      "metadata": {
        "id": "ktokVWIEb1nR"
      },
      "source": [
        "# THIS IS THE OUTERMOST FUNCTION TO RUN\n",
        "def outer_find_associations(csv_filepath, minRSup, minConf, ids_to_names, rules_and_itemsets=0b11):\n",
        "  \"\"\"\n",
        "  Find the frequent itemsets and association rules in the given dataset as determined by the given min relative support and min confidence.\n",
        "  Print the results, but only the skyline frequent itemsets and skyline frequent association rules.\n",
        "  Params:\n",
        "    csv_filepath - path to csv data file containing sparse vector representation of the data\n",
        "    minRSup - the min relative support value to use\n",
        "    minConf - the min confidence value to use\n",
        "    ids_to_names - a dictionary mapping ids (used in the dataset itself) to more descriptive item names\n",
        "    rules_and_itemsets - 1 to only print itemsets, 2 to only print association rules, 3 to print both (default)\n",
        "  \"\"\"\n",
        "  data = get_data(csv_filepath)   # list of lists\n",
        "  singles = list(ids_to_names.keys())\n",
        "  freq_itemsets_info, skyline_itemsets = apriori(data, singles, minRSup)\n",
        "  associations = find_associations(freq_itemsets_info, skyline_itemsets, minConf)\n",
        "  if rules_and_itemsets & 0b1:\n",
        "    print(f\"There are {len(skyline_itemsets)} skyline frequent itemsets for minRSup {minRSup}:\")\n",
        "    print_skyline_with_freqs(skyline_itemsets, freq_itemsets_info, ids_to_names, len(data))\n",
        "    print(\"\")\n",
        "  if rules_and_itemsets & 0b10:\n",
        "    print(f\"There are {len(associations)} skyline frequent itemset association rules for minConf {minConf*100:.1f}%:\")\n",
        "    print_associations_with_sups_and_confs(associations, freq_itemsets_info, ids_to_names, len(data))"
      ],
      "execution_count": null,
      "outputs": []
    },
    {
      "cell_type": "markdown",
      "metadata": {
        "id": "kJ2W8BcwcfRs"
      },
      "source": [
        "RUN ALL ABOVE THIS POINT, THEN INSERT YOUR TEST LINE(S) HERE CALLING THE FUNCTION outer_find_associations() WITH THE CORRECT PARAMS! IGNORE ALL BELOW!\n",
        "\n",
        "\n",
        "\n",
        "\n",
        "\n",
        "\n",
        "\n",
        "\n"
      ]
    },
    {
      "cell_type": "markdown",
      "metadata": {
        "id": "gETKK2cAVrMT"
      },
      "source": [
        "Start of testing with lab datasets"
      ]
    },
    {
      "cell_type": "markdown",
      "metadata": {
        "id": "hpSHfW9iTmLD"
      },
      "source": [
        "Goods Datasets"
      ]
    },
    {
      "cell_type": "code",
      "metadata": {
        "colab": {
          "base_uri": "https://localhost:8080/"
        },
        "id": "VdT2-G8EuBAm",
        "outputId": "dfffddcc-f603-456c-8bfd-a6714318099c"
      },
      "source": [
        "file_path = \"/content/drive/MyDrive/Data/goods.csv\"\n",
        "#file_path = goods.csv\n",
        "goods_ids_to_names = get_goods_names(file_path)\n",
        "print(f\"Goods (id: name): {goods_ids_to_names}\")\n",
        "good_ids = list(goods_ids_to_names.keys())"
      ],
      "execution_count": null,
      "outputs": [
        {
          "name": "stdout",
          "output_type": "stream",
          "text": [
            "Goods (id: name): {'0': 'Chocolate Cake', '1': 'Lemon Cake', '2': 'Casino Cake', '3': 'Opera Cake', '4': 'Strawberry Cake', '5': 'Truffle Cake', '6': 'Chocolate Eclair', '7': 'Coffee Eclair', '8': 'Vanilla Eclair', '9': 'Napoleon Cake', '10': 'Almond Tart', '11': 'Apple Pie', '12': 'Apple Tart', '13': 'Apricot Tart', '14': 'Berry Tart', '15': 'Blackberry Tart', '16': 'Blueberry Tart', '17': 'Chocolate Tart', '18': 'Cherry Tart', '19': 'Lemon Tart', '20': 'Pecan Tart', '21': 'Ganache Cookie', '22': 'Gongolais Cookie', '23': 'Raspberry Cookie', '24': 'Lemon Cookie', '25': 'Chocolate Meringue', '26': 'Vanilla Meringue', '27': 'Marzipan Cookie', '28': 'Tuile Cookie', '29': 'Walnut Cookie', '30': 'Almond Croissant', '31': 'Apple Croissant', '32': 'Apricot Croissant', '33': 'Cheese Croissant', '34': 'Chocolate Croissant', '35': 'Apricot Danish', '36': 'Apple Danish', '37': 'Almond Twist', '38': 'Almond Bear Claw', '39': 'Blueberry Danish', '40': 'Lemon Lemonade', '41': 'Raspberry Lemonade', '42': 'Orange Juice', '43': 'Green Tea', '44': 'Bottled Water', '45': 'Hot Coffee', '46': 'Chocolate Coffee', '47': 'Vanilla Frappuccino', '48': 'Cherry Soda', '49': 'Single Espresso'}\n"
          ]
        }
      ]
    },
    {
      "cell_type": "markdown",
      "metadata": {
        "id": "rli6NvAxTrHS"
      },
      "source": [
        "Goods 5000 Dataset"
      ]
    },
    {
      "cell_type": "code",
      "metadata": {
        "id": "6s3pA5CdTh6e"
      },
      "source": [
        "goods_5000_data = get_data(\"/content/drive/MyDrive/Data/5000-out1.csv\")\n",
        "#goods_5000_data = get_data(\"5000-out1.csv\")"
      ],
      "execution_count": null,
      "outputs": []
    },
    {
      "cell_type": "code",
      "metadata": {
        "colab": {
          "base_uri": "https://localhost:8080/"
        },
        "id": "WHYjh8wjRwaf",
        "outputId": "a43f73f8-a658-4b39-c6ee-0781afc7acb4"
      },
      "source": [
        "goods_5000_res = iterate_minX(apriori, goods_5000_data, good_ids, 0.005, 0.009, 5)"
      ],
      "execution_count": null,
      "outputs": [
        {
          "name": "stdout",
          "output_type": "stream",
          "text": [
            "minRSup 0.005 yielded 171 skyline frequent itemsets:\n",
            "[('6',), ('20',), ('0', '4'), ('0', '7'), ('0', '28'), ('0', '42'), ('1', '3'), ('1', '4'), ('1', '5'), ('1', '9'), ('1', '17'), ('1', '18'), ('1', '19'), ('1', '22'), ('1', '27'), ('1', '36'), ('1', '40'), ('1', '42'), ('1', '46'), ('1', '48'), ('1', '49'), ('2', '4'), ('2', '7'), ('2', '9'), ('18', '2'), ('2', '42'), ('3', '4'), ('3', '5'), ('3', '9'), ('25', '3'), ('28', '3'), ('3', '33'), ('3', '42'), ('4', '5'), ('4', '7'), ('4', '9'), ('12', '4'), ('13', '4'), ('14', '4'), ('15', '4'), ('16', '4'), ('18', '4'), ('22', '4'), ('25', '4'), ('27', '4'), ('28', '4'), ('30', '4'), ('32', '4'), ('34', '4'), ('35', '4'), ('36', '4'), ('4', '43'), ('4', '44'), ('4', '46'), ('4', '47'), ('5', '7'), ('17', '5'), ('22', '5'), ('27', '5'), ('28', '5'), ('32', '5'), ('35', '5'), ('37', '5'), ('42', '5'), ('44', '5'), ('45', '5'), ('7', '9'), ('12', '7'), ('22', '7'), ('27', '7'), ('28', '7'), ('33', '7'), ('42', '7'), ('46', '7'), ('48', '7'), ('33', '8'), ('35', '8'), ('42', '8'), ('11', '9'), ('14', '9'), ('15', '9'), ('16', '9'), ('18', '9'), ('28', '9'), ('35', '9'), ('36', '9'), ('44', '9'), ('46', '9'), ('47', '9'), ('10', '28'), ('11', '28'), ('11', '42'), ('11', '46'), ('12', '19'), ('12', '27'), ('12', '28'), ('12', '44'), ('13', '22'), ('14', '16'), ('14', '19'), ('14', '28'), ('14', '31'), ('14', '36'), ('14', '37'), ('14', '38'), ('14', '44'), ('14', '45'), ('15', '42'), ('16', '19'), ('16', '21'), ('16', '28'), ('16', '31'), ('16', '36'), ('16', '42'), ('16', '43'), ('17', '28'), ('17', '44'), ('17', '45'), ('18', '22'), ('18', '31'), ('18', '33'), ('18', '37'), ('18', '42'), ('18', '44'), ('19', '28'), ('19', '31'), ('19', '36'), ('19', '42'), ('19', '44'), ('19', '49'), ('22', '27'), ('22', '28'), ('22', '29'), ('22', '33'), ('22', '35'), ('22', '37'), ('22', '42'), ('25', '31'), ('26', '28'), ('27', '28'), ('27', '35'), ('27', '37'), ('27', '42'), ('28', '29'), ('28', '35'), ('28', '36'), ('28', '39'), ('28', '42'), ('28', '43'), ('28', '44'), ('28', '48'), ('28', '49'), ('29', '42'), ('32', '41'), ('32', '42'), ('33', '42'), ('35', '42'), ('36', '44'), ('36', '45'), ('42', '44'), ('42', '46'), ('42', '47'), ('44', '46'), ('0', '2', '46'), ('18', '3', '35'), ('15', '49', '7'), ('16', '32', '45'), ('17', '29', '47'), ('11', '37', '45', '7'), ('12', '31', '36', '48'), ('23', '24', '40', '41', '43')]\n",
            "minRSup 0.006 yielded 64 skyline frequent itemsets:\n",
            "[('6',), ('8',), ('10',), ('13',), ('20',), ('21',), ('25',), ('26',), ('38',), ('0', '4'), ('1', '3'), ('1', '4'), ('1', '5'), ('1', '19'), ('1', '22'), ('1', '48'), ('3', '4'), ('28', '3'), ('4', '5'), ('4', '7'), ('4', '9'), ('12', '4'), ('14', '4'), ('15', '4'), ('16', '4'), ('28', '4'), ('30', '4'), ('34', '4'), ('4', '44'), ('4', '46'), ('4', '47'), ('22', '5'), ('27', '5'), ('28', '5'), ('37', '5'), ('42', '5'), ('28', '9'), ('12', '28'), ('14', '44'), ('16', '28'), ('16', '31'), ('17', '28'), ('18', '22'), ('22', '28'), ('22', '35'), ('22', '37'), ('22', '42'), ('27', '28'), ('28', '35'), ('28', '36'), ('28', '39'), ('28', '44'), ('33', '42'), ('35', '42'), ('36', '45'), ('42', '46'), ('0', '2', '46'), ('18', '3', '35'), ('15', '49', '7'), ('16', '32', '45'), ('17', '29', '47'), ('11', '37', '45', '7'), ('12', '31', '36', '48'), ('23', '24', '40', '41', '43')]\n",
            "minRSup 0.006999999999999999 yielded 32 skyline frequent itemsets:\n",
            "[('6',), ('8',), ('10',), ('13',), ('20',), ('21',), ('25',), ('26',), ('30',), ('34',), ('38',), ('39',), ('1', '5'), ('1', '19'), ('1', '22'), ('4', '9'), ('28', '4'), ('22', '5'), ('28', '5'), ('42', '5'), ('14', '44'), ('27', '28'), ('33', '42'), ('42', '46'), ('0', '2', '46'), ('18', '3', '35'), ('15', '49', '7'), ('16', '32', '45'), ('17', '29', '47'), ('11', '37', '45', '7'), ('12', '31', '36', '48'), ('23', '24', '40', '41', '43')]\n",
            "minRSup 0.008 yielded 26 skyline frequent itemsets:\n",
            "[('6',), ('8',), ('10',), ('13',), ('20',), ('21',), ('25',), ('26',), ('30',), ('34',), ('38',), ('39',), ('1', '19'), ('4', '9'), ('22', '5'), ('14', '44'), ('27', '28'), ('33', '42'), ('0', '2', '46'), ('18', '3', '35'), ('15', '49', '7'), ('16', '32', '45'), ('17', '29', '47'), ('11', '37', '45', '7'), ('12', '31', '36', '48'), ('23', '24', '40', '41', '43')]\n",
            "minRSup 0.009 yielded 26 skyline frequent itemsets:\n",
            "[('6',), ('8',), ('10',), ('13',), ('20',), ('21',), ('25',), ('26',), ('30',), ('34',), ('38',), ('39',), ('1', '19'), ('4', '9'), ('22', '5'), ('14', '44'), ('27', '28'), ('33', '42'), ('0', '2', '46'), ('18', '3', '35'), ('15', '49', '7'), ('16', '32', '45'), ('17', '29', '47'), ('11', '37', '45', '7'), ('12', '31', '36', '48'), ('23', '24', '40', '41', '43')]\n"
          ]
        }
      ]
    },
    {
      "cell_type": "code",
      "metadata": {
        "colab": {
          "base_uri": "https://localhost:8080/"
        },
        "id": "CpJjUgN0rGKs",
        "outputId": "ad880b24-9f65-421a-97f4-32e3e59c3630"
      },
      "source": [
        "goods_5000_res.update(iterate_minX(apriori, goods_5000_data, good_ids, 0.01, 0.09, 9))"
      ],
      "execution_count": null,
      "outputs": [
        {
          "name": "stdout",
          "output_type": "stream",
          "text": [
            "minRSup 0.01 yielded 26 skyline frequent itemsets:\n",
            "[('6',), ('8',), ('10',), ('13',), ('20',), ('21',), ('25',), ('26',), ('30',), ('34',), ('38',), ('39',), ('1', '19'), ('4', '9'), ('22', '5'), ('14', '44'), ('27', '28'), ('33', '42'), ('0', '2', '46'), ('18', '3', '35'), ('15', '49', '7'), ('16', '32', '45'), ('17', '29', '47'), ('11', '37', '45', '7'), ('12', '31', '36', '48'), ('23', '24', '40', '41', '43')]\n",
            "minRSup 0.02 yielded 26 skyline frequent itemsets:\n",
            "[('6',), ('8',), ('10',), ('13',), ('20',), ('21',), ('25',), ('26',), ('30',), ('34',), ('38',), ('39',), ('1', '19'), ('4', '9'), ('22', '5'), ('14', '44'), ('27', '28'), ('33', '42'), ('0', '2', '46'), ('18', '3', '35'), ('15', '49', '7'), ('16', '32', '45'), ('17', '29', '47'), ('11', '37', '45', '7'), ('12', '31', '36', '48'), ('23', '24', '40', '41', '43')]\n",
            "minRSup 0.03 yielded 35 skyline frequent itemsets:\n",
            "[('6',), ('8',), ('10',), ('13',), ('20',), ('21',), ('23',), ('24',), ('25',), ('26',), ('29',), ('30',), ('34',), ('38',), ('39',), ('40',), ('41',), ('43',), ('48',), ('1', '19'), ('4', '9'), ('22', '5'), ('15', '7'), ('12', '31'), ('12', '36'), ('14', '44'), ('15', '49'), ('17', '47'), ('27', '28'), ('31', '36'), ('33', '42'), ('0', '2', '46'), ('18', '3', '35'), ('16', '32', '45'), ('11', '37', '45', '7')]\n",
            "minRSup 0.04 yielded 38 skyline frequent itemsets:\n",
            "[('0',), ('1',), ('2',), ('8',), ('12',), ('13',), ('14',), ('15',), ('17',), ('19',), ('20',), ('23',), ('24',), ('25',), ('29',), ('30',), ('31',), ('34',), ('36',), ('38',), ('39',), ('40',), ('41',), ('43',), ('44',), ('45',), ('46',), ('47',), ('48',), ('49',), ('4', '9'), ('22', '5'), ('11', '7'), ('37', '7'), ('16', '32'), ('27', '28'), ('33', '42'), ('18', '3', '35')]\n",
            "minRSup 0.05 yielded 37 skyline frequent itemsets:\n",
            "[('0',), ('1',), ('2',), ('3',), ('4',), ('5',), ('7',), ('9',), ('11',), ('12',), ('14',), ('15',), ('16',), ('17',), ('19',), ('22',), ('23',), ('24',), ('27',), ('28',), ('29',), ('31',), ('32',), ('33',), ('36',), ('37',), ('40',), ('41',), ('42',), ('43',), ('44',), ('45',), ('46',), ('47',), ('48',), ('49',), ('18', '35')]\n",
            "minRSup 0.060000000000000005 yielded 38 skyline frequent itemsets:\n",
            "[('0',), ('1',), ('2',), ('3',), ('4',), ('5',), ('7',), ('9',), ('11',), ('12',), ('14',), ('15',), ('16',), ('17',), ('18',), ('19',), ('22',), ('23',), ('24',), ('27',), ('28',), ('29',), ('31',), ('32',), ('33',), ('35',), ('36',), ('37',), ('40',), ('41',), ('42',), ('43',), ('44',), ('45',), ('46',), ('47',), ('48',), ('49',)]\n",
            "minRSup 0.06999999999999999 yielded 31 skyline frequent itemsets:\n",
            "[('0',), ('1',), ('2',), ('3',), ('4',), ('5',), ('7',), ('9',), ('11',), ('12',), ('14',), ('15',), ('16',), ('17',), ('18',), ('19',), ('22',), ('27',), ('28',), ('29',), ('31',), ('32',), ('33',), ('35',), ('36',), ('37',), ('42',), ('44',), ('45',), ('46',), ('47',)]\n",
            "minRSup 0.08 yielded 17 skyline frequent itemsets:\n",
            "[('1',), ('3',), ('4',), ('5',), ('7',), ('9',), ('16',), ('18',), ('22',), ('27',), ('28',), ('32',), ('35',), ('37',), ('42',), ('45',), ('46',)]\n",
            "minRSup 0.09 yielded 7 skyline frequent itemsets:\n",
            "[('4',), ('7',), ('18',), ('22',), ('28',), ('42',), ('45',)]\n"
          ]
        }
      ]
    },
    {
      "cell_type": "code",
      "metadata": {
        "colab": {
          "base_uri": "https://localhost:8080/"
        },
        "id": "i5NjIQKLp7jS",
        "outputId": "5e95ba93-78c9-41bf-bb14-99f3d24db499"
      },
      "source": [
        "minRSup = 0.01\n",
        "goods_5000_assoc = iterate_minX(find_associations, goods_5000_res[minRSup][0], goods_5000_res[minRSup][1], 0.9, 1, 11)"
      ],
      "execution_count": null,
      "outputs": [
        {
          "name": "stdout",
          "output_type": "stream",
          "text": [
            "minConf 0.9 yielded 19 skyline associations:\n",
            "{(('2', '46'), '0'): 0.9017341040462428, (('0', '2'), '46'): 0.9122807017543859, (('3', '35'), '18'): 0.9444444444444444, (('18', '3'), '35'): 0.9357798165137615, (('49', '7'), '15'): 0.9662162162162162, (('15', '49'), '7'): 0.910828025477707, (('32', '45'), '16'): 0.9425287356321839, (('16', '45'), '32'): 0.9371428571428572, (('17', '29'), '47'): 0.9300699300699301, (('37', '45', '7'), '11'): 1.0, (('11', '45', '7'), '37'): 1.0, (('11', '37', '45'), '7'): 1.0, (('31', '36', '48'), '12'): 0.991304347826087, (('12', '36', '48'), '31'): 1.0, (('12', '31', '48'), '36'): 0.991304347826087, (('24', '40', '41', '43'), '23'): 1.0, (('23', '40', '41', '43'), '24'): 1.0, (('23', '24', '41', '43'), '40'): 1.0, (('23', '24', '40', '43'), '41'): 1.0}\n",
            "minConf 0.91 yielded 18 skyline associations:\n",
            "{(('0', '2'), '46'): 0.9122807017543859, (('3', '35'), '18'): 0.9444444444444444, (('18', '3'), '35'): 0.9357798165137615, (('49', '7'), '15'): 0.9662162162162162, (('15', '49'), '7'): 0.910828025477707, (('32', '45'), '16'): 0.9425287356321839, (('16', '45'), '32'): 0.9371428571428572, (('17', '29'), '47'): 0.9300699300699301, (('37', '45', '7'), '11'): 1.0, (('11', '45', '7'), '37'): 1.0, (('11', '37', '45'), '7'): 1.0, (('31', '36', '48'), '12'): 0.991304347826087, (('12', '36', '48'), '31'): 1.0, (('12', '31', '48'), '36'): 0.991304347826087, (('24', '40', '41', '43'), '23'): 1.0, (('23', '40', '41', '43'), '24'): 1.0, (('23', '24', '41', '43'), '40'): 1.0, (('23', '24', '40', '43'), '41'): 1.0}\n",
            "minConf 0.92 yielded 16 skyline associations:\n",
            "{(('3', '35'), '18'): 0.9444444444444444, (('18', '3'), '35'): 0.9357798165137615, (('49', '7'), '15'): 0.9662162162162162, (('32', '45'), '16'): 0.9425287356321839, (('16', '45'), '32'): 0.9371428571428572, (('17', '29'), '47'): 0.9300699300699301, (('37', '45', '7'), '11'): 1.0, (('11', '45', '7'), '37'): 1.0, (('11', '37', '45'), '7'): 1.0, (('31', '36', '48'), '12'): 0.991304347826087, (('12', '36', '48'), '31'): 1.0, (('12', '31', '48'), '36'): 0.991304347826087, (('24', '40', '41', '43'), '23'): 1.0, (('23', '40', '41', '43'), '24'): 1.0, (('23', '24', '41', '43'), '40'): 1.0, (('23', '24', '40', '43'), '41'): 1.0}\n",
            "minConf 0.93 yielded 16 skyline associations:\n",
            "{(('3', '35'), '18'): 0.9444444444444444, (('18', '3'), '35'): 0.9357798165137615, (('49', '7'), '15'): 0.9662162162162162, (('32', '45'), '16'): 0.9425287356321839, (('16', '45'), '32'): 0.9371428571428572, (('17', '29'), '47'): 0.9300699300699301, (('37', '45', '7'), '11'): 1.0, (('11', '45', '7'), '37'): 1.0, (('11', '37', '45'), '7'): 1.0, (('31', '36', '48'), '12'): 0.991304347826087, (('12', '36', '48'), '31'): 1.0, (('12', '31', '48'), '36'): 0.991304347826087, (('24', '40', '41', '43'), '23'): 1.0, (('23', '40', '41', '43'), '24'): 1.0, (('23', '24', '41', '43'), '40'): 1.0, (('23', '24', '40', '43'), '41'): 1.0}\n",
            "minConf 0.9400000000000001 yielded 13 skyline associations:\n",
            "{(('3', '35'), '18'): 0.9444444444444444, (('49', '7'), '15'): 0.9662162162162162, (('32', '45'), '16'): 0.9425287356321839, (('37', '45', '7'), '11'): 1.0, (('11', '45', '7'), '37'): 1.0, (('11', '37', '45'), '7'): 1.0, (('31', '36', '48'), '12'): 0.991304347826087, (('12', '36', '48'), '31'): 1.0, (('12', '31', '48'), '36'): 0.991304347826087, (('24', '40', '41', '43'), '23'): 1.0, (('23', '40', '41', '43'), '24'): 1.0, (('23', '24', '41', '43'), '40'): 1.0, (('23', '24', '40', '43'), '41'): 1.0}\n",
            "minConf 0.95 yielded 11 skyline associations:\n",
            "{(('49', '7'), '15'): 0.9662162162162162, (('37', '45', '7'), '11'): 1.0, (('11', '45', '7'), '37'): 1.0, (('11', '37', '45'), '7'): 1.0, (('31', '36', '48'), '12'): 0.991304347826087, (('12', '36', '48'), '31'): 1.0, (('12', '31', '48'), '36'): 0.991304347826087, (('24', '40', '41', '43'), '23'): 1.0, (('23', '40', '41', '43'), '24'): 1.0, (('23', '24', '41', '43'), '40'): 1.0, (('23', '24', '40', '43'), '41'): 1.0}\n",
            "minConf 0.96 yielded 11 skyline associations:\n",
            "{(('49', '7'), '15'): 0.9662162162162162, (('37', '45', '7'), '11'): 1.0, (('11', '45', '7'), '37'): 1.0, (('11', '37', '45'), '7'): 1.0, (('31', '36', '48'), '12'): 0.991304347826087, (('12', '36', '48'), '31'): 1.0, (('12', '31', '48'), '36'): 0.991304347826087, (('24', '40', '41', '43'), '23'): 1.0, (('23', '40', '41', '43'), '24'): 1.0, (('23', '24', '41', '43'), '40'): 1.0, (('23', '24', '40', '43'), '41'): 1.0}\n",
            "minConf 0.97 yielded 10 skyline associations:\n",
            "{(('37', '45', '7'), '11'): 1.0, (('11', '45', '7'), '37'): 1.0, (('11', '37', '45'), '7'): 1.0, (('31', '36', '48'), '12'): 0.991304347826087, (('12', '36', '48'), '31'): 1.0, (('12', '31', '48'), '36'): 0.991304347826087, (('24', '40', '41', '43'), '23'): 1.0, (('23', '40', '41', '43'), '24'): 1.0, (('23', '24', '41', '43'), '40'): 1.0, (('23', '24', '40', '43'), '41'): 1.0}\n",
            "minConf 0.98 yielded 10 skyline associations:\n",
            "{(('37', '45', '7'), '11'): 1.0, (('11', '45', '7'), '37'): 1.0, (('11', '37', '45'), '7'): 1.0, (('31', '36', '48'), '12'): 0.991304347826087, (('12', '36', '48'), '31'): 1.0, (('12', '31', '48'), '36'): 0.991304347826087, (('24', '40', '41', '43'), '23'): 1.0, (('23', '40', '41', '43'), '24'): 1.0, (('23', '24', '41', '43'), '40'): 1.0, (('23', '24', '40', '43'), '41'): 1.0}\n",
            "minConf 0.99 yielded 10 skyline associations:\n",
            "{(('37', '45', '7'), '11'): 1.0, (('11', '45', '7'), '37'): 1.0, (('11', '37', '45'), '7'): 1.0, (('31', '36', '48'), '12'): 0.991304347826087, (('12', '36', '48'), '31'): 1.0, (('12', '31', '48'), '36'): 0.991304347826087, (('24', '40', '41', '43'), '23'): 1.0, (('23', '40', '41', '43'), '24'): 1.0, (('23', '24', '41', '43'), '40'): 1.0, (('23', '24', '40', '43'), '41'): 1.0}\n",
            "minConf 1.0 yielded 8 skyline associations:\n",
            "{(('37', '45', '7'), '11'): 1.0, (('11', '45', '7'), '37'): 1.0, (('11', '37', '45'), '7'): 1.0, (('12', '36', '48'), '31'): 1.0, (('24', '40', '41', '43'), '23'): 1.0, (('23', '40', '41', '43'), '24'): 1.0, (('23', '24', '41', '43'), '40'): 1.0, (('23', '24', '40', '43'), '41'): 1.0}\n"
          ]
        }
      ]
    },
    {
      "cell_type": "code",
      "metadata": {
        "colab": {
          "base_uri": "https://localhost:8080/",
          "height": 415
        },
        "id": "CFIiH-gIs30Z",
        "outputId": "d26a9dde-1b60-4613-f0ca-fa03fa4e4d87"
      },
      "source": [
        "# Extreme minRSup test\n",
        "minRSup = 0.001\n",
        "minConf = 0.95\n",
        "freq_goods_5000 = apriori(goods_5000_data, good_ids, minRSup)\n",
        "freq_assoc_goods_5000 = find_associations(freq_goods_5000[0], freq_goods_5000[1], minConf)\n",
        "print(f\"There are {len(freq_goods_5000[1])} skyline frequent itemsets for minRSup {minRSup}:\")\n",
        "print_skyline(get_named_skyline(goods_ids_to_names, freq_goods_5000[1]))\n",
        "print(f\"There are {len(freq_assoc_goods_5000)} skyline frequent itemset association rule for minConf {minConf*100:.1f}%:\")\n",
        "print_associations(get_named_associations(goods_ids_to_names, freq_assoc_goods_5000))"
      ],
      "execution_count": null,
      "outputs": [
        {
          "ename": "KeyboardInterrupt",
          "evalue": "ignored",
          "output_type": "error",
          "traceback": [
            "\u001b[0;31m---------------------------------------------------------------------------\u001b[0m",
            "\u001b[0;31mKeyboardInterrupt\u001b[0m                         Traceback (most recent call last)",
            "\u001b[0;32m<ipython-input-23-57189a403bae>\u001b[0m in \u001b[0;36m<module>\u001b[0;34m()\u001b[0m\n\u001b[1;32m      2\u001b[0m \u001b[0mminRSup\u001b[0m \u001b[0;34m=\u001b[0m \u001b[0;36m0.001\u001b[0m\u001b[0;34m\u001b[0m\u001b[0;34m\u001b[0m\u001b[0m\n\u001b[1;32m      3\u001b[0m \u001b[0mminConf\u001b[0m \u001b[0;34m=\u001b[0m \u001b[0;36m0.95\u001b[0m\u001b[0;34m\u001b[0m\u001b[0;34m\u001b[0m\u001b[0m\n\u001b[0;32m----> 4\u001b[0;31m \u001b[0mfreq_goods_5000\u001b[0m \u001b[0;34m=\u001b[0m \u001b[0mapriori\u001b[0m\u001b[0;34m(\u001b[0m\u001b[0mgoods_5000_data\u001b[0m\u001b[0;34m,\u001b[0m \u001b[0mgood_ids\u001b[0m\u001b[0;34m,\u001b[0m \u001b[0mminRSup\u001b[0m\u001b[0;34m)\u001b[0m\u001b[0;34m\u001b[0m\u001b[0;34m\u001b[0m\u001b[0m\n\u001b[0m\u001b[1;32m      5\u001b[0m \u001b[0mfreq_assoc_goods_5000\u001b[0m \u001b[0;34m=\u001b[0m \u001b[0mfind_associations\u001b[0m\u001b[0;34m(\u001b[0m\u001b[0mfreq_goods_5000\u001b[0m\u001b[0;34m[\u001b[0m\u001b[0;36m0\u001b[0m\u001b[0;34m]\u001b[0m\u001b[0;34m,\u001b[0m \u001b[0mfreq_goods_5000\u001b[0m\u001b[0;34m[\u001b[0m\u001b[0;36m1\u001b[0m\u001b[0;34m]\u001b[0m\u001b[0;34m,\u001b[0m \u001b[0mminConf\u001b[0m\u001b[0;34m)\u001b[0m\u001b[0;34m\u001b[0m\u001b[0;34m\u001b[0m\u001b[0m\n\u001b[1;32m      6\u001b[0m \u001b[0mprint\u001b[0m\u001b[0;34m(\u001b[0m\u001b[0;34mf\"There are {len(freq_goods_5000[1])} skyline frequent itemsets for minRSup {minRSup}:\"\u001b[0m\u001b[0;34m)\u001b[0m\u001b[0;34m\u001b[0m\u001b[0;34m\u001b[0m\u001b[0m\n",
            "\u001b[0;32m<ipython-input-16-6d1cb455c23f>\u001b[0m in \u001b[0;36mapriori\u001b[0;34m(data, singles, minRSup)\u001b[0m\n\u001b[1;32m     19\u001b[0m   \u001b[0;31m# main loop\u001b[0m\u001b[0;34m\u001b[0m\u001b[0;34m\u001b[0m\u001b[0;34m\u001b[0m\u001b[0m\n\u001b[1;32m     20\u001b[0m   \u001b[0;32mwhile\u001b[0m \u001b[0mlen\u001b[0m\u001b[0;34m(\u001b[0m\u001b[0mFk\u001b[0m\u001b[0;34m)\u001b[0m \u001b[0;34m>\u001b[0m \u001b[0;36m0\u001b[0m \u001b[0;32mand\u001b[0m \u001b[0mk\u001b[0m \u001b[0;34m<=\u001b[0m \u001b[0mlen\u001b[0m\u001b[0;34m(\u001b[0m\u001b[0mdata\u001b[0m\u001b[0;34m)\u001b[0m\u001b[0;34m:\u001b[0m\u001b[0;34m\u001b[0m\u001b[0;34m\u001b[0m\u001b[0m\n\u001b[0;32m---> 21\u001b[0;31m     \u001b[0mcandidates\u001b[0m \u001b[0;34m=\u001b[0m \u001b[0mgen_candidates\u001b[0m\u001b[0;34m(\u001b[0m\u001b[0mFk\u001b[0m\u001b[0;34m,\u001b[0m \u001b[0mk\u001b[0m\u001b[0;34m-\u001b[0m\u001b[0;36m1\u001b[0m\u001b[0;34m)\u001b[0m\u001b[0;34m\u001b[0m\u001b[0;34m\u001b[0m\u001b[0m\n\u001b[0m\u001b[1;32m     22\u001b[0m     \u001b[0;31m#print(f'Candidates {k}: {candidates}')\u001b[0m\u001b[0;34m\u001b[0m\u001b[0;34m\u001b[0m\u001b[0;34m\u001b[0m\u001b[0m\n\u001b[1;32m     23\u001b[0m \u001b[0;34m\u001b[0m\u001b[0m\n",
            "\u001b[0;32m<ipython-input-14-dad84b1a8455>\u001b[0m in \u001b[0;36mgen_candidates\u001b[0;34m(Fprev, kprev)\u001b[0m\n\u001b[1;32m     14\u001b[0m     \u001b[0;32mfor\u001b[0m \u001b[0mj\u001b[0m\u001b[0;34m,\u001b[0m \u001b[0mb\u001b[0m \u001b[0;32min\u001b[0m \u001b[0menumerate\u001b[0m\u001b[0;34m(\u001b[0m\u001b[0mFprev\u001b[0m\u001b[0;34m[\u001b[0m\u001b[0mi\u001b[0m\u001b[0;34m+\u001b[0m\u001b[0;36m1\u001b[0m\u001b[0;34m:\u001b[0m\u001b[0;34m]\u001b[0m\u001b[0;34m)\u001b[0m\u001b[0;34m:\u001b[0m\u001b[0;34m\u001b[0m\u001b[0;34m\u001b[0m\u001b[0m\n\u001b[1;32m     15\u001b[0m       \u001b[0mcand\u001b[0m \u001b[0;34m=\u001b[0m \u001b[0msorted\u001b[0m\u001b[0;34m(\u001b[0m\u001b[0mlist\u001b[0m\u001b[0;34m(\u001b[0m\u001b[0mset\u001b[0m\u001b[0;34m.\u001b[0m\u001b[0munion\u001b[0m\u001b[0;34m(\u001b[0m\u001b[0mset\u001b[0m\u001b[0;34m(\u001b[0m\u001b[0ma\u001b[0m\u001b[0;34m)\u001b[0m\u001b[0;34m,\u001b[0m \u001b[0mset\u001b[0m\u001b[0;34m(\u001b[0m\u001b[0mb\u001b[0m\u001b[0;34m)\u001b[0m\u001b[0;34m)\u001b[0m\u001b[0;34m)\u001b[0m\u001b[0;34m)\u001b[0m\u001b[0;34m\u001b[0m\u001b[0;34m\u001b[0m\u001b[0m\n\u001b[0;32m---> 16\u001b[0;31m       if (cand not in candidates and        # if not a duplicate superset and\n\u001b[0m\u001b[1;32m     17\u001b[0m           \u001b[0mlen\u001b[0m\u001b[0;34m(\u001b[0m\u001b[0mcand\u001b[0m\u001b[0;34m)\u001b[0m \u001b[0;34m==\u001b[0m \u001b[0mkprev\u001b[0m \u001b[0;34m+\u001b[0m \u001b[0;36m1\u001b[0m \u001b[0;32mand\u001b[0m        \u001b[0;31m# if the new itemset is of correct length (meaning a,b could be combined) and\u001b[0m\u001b[0;34m\u001b[0m\u001b[0;34m\u001b[0m\u001b[0m\n\u001b[1;32m     18\u001b[0m           all_subsets_present(cand, Fprev)):# if given set of itemsets contains all subsets of new superset:\n",
            "\u001b[0;31mKeyboardInterrupt\u001b[0m: "
          ]
        }
      ]
    },
    {
      "cell_type": "code",
      "metadata": {
        "colab": {
          "base_uri": "https://localhost:8080/"
        },
        "id": "BkS8ankoNya7",
        "outputId": "3f459a4b-59af-4013-f9cc-3fb2b236c2a0"
      },
      "source": [
        "# Final goods_5000 choices\n",
        "minRSup = 0.02\n",
        "minConf = 0.95\n",
        "freq_goods_5000 = apriori(goods_5000_data, good_ids, minRSup)\n",
        "freq_assoc_goods_5000 = find_associations(freq_goods_5000[0], freq_goods_5000[1], minConf)\n",
        "print(f\"There are {len(freq_goods_5000[1])} skyline frequent itemsets for minRSup {minRSup}:\")\n",
        "print_skyline(get_named_skyline(goods_ids_to_names, freq_goods_5000[1]))\n",
        "print(\"\")\n",
        "print(f\"There are {len(freq_assoc_goods_5000)} skyline frequent itemset association rule for minConf {minConf*100:.1f}%:\")\n",
        "print_associations(get_named_associations(goods_ids_to_names, freq_assoc_goods_5000))"
      ],
      "execution_count": null,
      "outputs": [
        {
          "name": "stdout",
          "output_type": "stream",
          "text": [
            "There are 26 skyline frequent itemsets for minRSup 0.02:\n",
            "  (Chocolate Eclair)\n",
            "  (Vanilla Eclair)\n",
            "  (Almond Tart)\n",
            "  (Apricot Tart)\n",
            "  (Pecan Tart)\n",
            "  (Ganache Cookie)\n",
            "  (Chocolate Meringue)\n",
            "  (Vanilla Meringue)\n",
            "  (Almond Croissant)\n",
            "  (Chocolate Croissant)\n",
            "  (Almond Bear Claw)\n",
            "  (Blueberry Danish)\n",
            "  (Lemon Cake, Lemon Tart)\n",
            "  (Strawberry Cake, Napoleon Cake)\n",
            "  (Gongolais Cookie, Truffle Cake)\n",
            "  (Berry Tart, Bottled Water)\n",
            "  (Marzipan Cookie, Tuile Cookie)\n",
            "  (Cheese Croissant, Orange Juice)\n",
            "  (Chocolate Cake, Casino Cake, Chocolate Coffee)\n",
            "  (Cherry Tart, Opera Cake, Apricot Danish)\n",
            "  (Blackberry Tart, Single Espresso, Coffee Eclair)\n",
            "  (Blueberry Tart, Apricot Croissant, Hot Coffee)\n",
            "  (Chocolate Tart, Walnut Cookie, Vanilla Frappuccino)\n",
            "  (Apple Pie, Almond Twist, Hot Coffee, Coffee Eclair)\n",
            "  (Apple Tart, Apple Croissant, Apple Danish, Cherry Soda)\n",
            "  (Raspberry Cookie, Lemon Cookie, Lemon Lemonade, Raspberry Lemonade, Green Tea)\n",
            "\n",
            "There are 11 skyline frequent itemset association rule for minConf 95.0%:\n",
            "  Single Espresso, Coffee Eclair -> Blackberry Tart : conf 96.62%\n",
            "  Almond Twist, Hot Coffee, Coffee Eclair -> Apple Pie : conf 100.00%\n",
            "  Apple Pie, Hot Coffee, Coffee Eclair -> Almond Twist : conf 100.00%\n",
            "  Apple Pie, Almond Twist, Hot Coffee -> Coffee Eclair : conf 100.00%\n",
            "  Apple Croissant, Apple Danish, Cherry Soda -> Apple Tart : conf 99.13%\n",
            "  Apple Tart, Apple Danish, Cherry Soda -> Apple Croissant : conf 100.00%\n",
            "  Apple Tart, Apple Croissant, Cherry Soda -> Apple Danish : conf 99.13%\n",
            "  Lemon Cookie, Lemon Lemonade, Raspberry Lemonade, Green Tea -> Raspberry Cookie : conf 100.00%\n",
            "  Raspberry Cookie, Lemon Lemonade, Raspberry Lemonade, Green Tea -> Lemon Cookie : conf 100.00%\n",
            "  Raspberry Cookie, Lemon Cookie, Raspberry Lemonade, Green Tea -> Lemon Lemonade : conf 100.00%\n",
            "  Raspberry Cookie, Lemon Cookie, Lemon Lemonade, Green Tea -> Raspberry Lemonade : conf 100.00%\n"
          ]
        }
      ]
    },
    {
      "cell_type": "markdown",
      "metadata": {
        "id": "9DGH5n0MTtdJ"
      },
      "source": [
        "Goods 20000 Dataset"
      ]
    },
    {
      "cell_type": "code",
      "metadata": {
        "id": "DbtE2VuMTvDY"
      },
      "source": [
        "goods_20000_data = get_data(\"/content/drive/MyDrive/Data/20000-out1.csv\")\n",
        "#goods_20000_data = get_data(\"20000-out1.csv\")"
      ],
      "execution_count": null,
      "outputs": []
    },
    {
      "cell_type": "code",
      "metadata": {
        "colab": {
          "base_uri": "https://localhost:8080/"
        },
        "id": "VxHoBcI5Tx3Y",
        "outputId": "060811df-8cdc-4996-e1d4-6fbdf264a86f"
      },
      "source": [
        "goods_20000_res = iterate_minX(apriori, goods_20000_data, good_ids, 0.01, 0.05, 5)"
      ],
      "execution_count": null,
      "outputs": [
        {
          "name": "stdout",
          "output_type": "stream",
          "text": [
            "minRSup 0.01 yielded 26 skyline frequent itemsets:\n",
            "[('6',), ('8',), ('10',), ('13',), ('20',), ('21',), ('25',), ('26',), ('30',), ('34',), ('38',), ('39',), ('1', '19'), ('4', '9'), ('22', '5'), ('14', '44'), ('27', '28'), ('33', '42'), ('0', '2', '46'), ('18', '3', '35'), ('15', '49', '7'), ('16', '32', '45'), ('17', '29', '47'), ('11', '37', '45', '7'), ('12', '31', '36', '48'), ('23', '24', '40', '41', '43')]\n",
            "minRSup 0.02 yielded 26 skyline frequent itemsets:\n",
            "[('6',), ('8',), ('10',), ('13',), ('20',), ('21',), ('25',), ('26',), ('30',), ('34',), ('38',), ('39',), ('1', '19'), ('4', '9'), ('22', '5'), ('14', '44'), ('27', '28'), ('33', '42'), ('0', '2', '46'), ('18', '3', '35'), ('15', '49', '7'), ('16', '32', '45'), ('17', '29', '47'), ('11', '37', '45', '7'), ('12', '31', '36', '48'), ('23', '24', '40', '41', '43')]\n",
            "minRSup 0.03 yielded 39 skyline frequent itemsets:\n",
            "[('6',), ('8',), ('10',), ('12',), ('13',), ('20',), ('21',), ('23',), ('24',), ('25',), ('26',), ('30',), ('31',), ('34',), ('36',), ('38',), ('39',), ('40',), ('41',), ('43',), ('48',), ('1', '19'), ('4', '9'), ('22', '5'), ('15', '7'), ('45', '7'), ('11', '45'), ('14', '44'), ('15', '49'), ('17', '29'), ('17', '47'), ('27', '28'), ('29', '47'), ('33', '42'), ('37', '45'), ('0', '2', '46'), ('18', '3', '35'), ('11', '37', '7'), ('16', '32', '45')]\n",
            "minRSup 0.04 yielded 42 skyline frequent itemsets:\n",
            "[('1',), ('2',), ('6',), ('7',), ('8',), ('10',), ('11',), ('12',), ('13',), ('14',), ('15',), ('17',), ('19',), ('20',), ('21',), ('23',), ('24',), ('25',), ('26',), ('29',), ('30',), ('31',), ('34',), ('36',), ('37',), ('38',), ('39',), ('40',), ('41',), ('43',), ('44',), ('45',), ('47',), ('48',), ('49',), ('0', '46'), ('4', '9'), ('22', '5'), ('16', '32'), ('27', '28'), ('33', '42'), ('18', '3', '35')]\n",
            "minRSup 0.05 yielded 37 skyline frequent itemsets:\n",
            "[('0',), ('1',), ('2',), ('3',), ('4',), ('5',), ('7',), ('9',), ('11',), ('12',), ('14',), ('15',), ('16',), ('17',), ('19',), ('22',), ('23',), ('24',), ('27',), ('28',), ('29',), ('31',), ('32',), ('33',), ('36',), ('37',), ('40',), ('41',), ('42',), ('43',), ('44',), ('45',), ('46',), ('47',), ('48',), ('49',), ('18', '35')]\n"
          ]
        }
      ]
    },
    {
      "cell_type": "code",
      "metadata": {
        "colab": {
          "base_uri": "https://localhost:8080/"
        },
        "id": "5xsdytsKWcg-",
        "outputId": "246bffb8-de19-42af-ab37-ea73753c040e"
      },
      "source": [
        "goods_20000_res.update(iterate_minX(apriori, goods_20000_data, good_ids, 0.005, 0.009, 5))"
      ],
      "execution_count": null,
      "outputs": [
        {
          "name": "stdout",
          "output_type": "stream",
          "text": [
            "minRSup 0.005 yielded 98 skyline frequent itemsets:\n",
            "[('6',), ('8',), ('10',), ('13',), ('20',), ('21',), ('25',), ('26',), ('30',), ('34',), ('38',), ('39',), ('1', '4'), ('1', '5'), ('1', '7'), ('1', '9'), ('1', '14'), ('1', '17'), ('1', '19'), ('1', '22'), ('1', '27'), ('1', '28'), ('1', '31'), ('2', '4'), ('3', '9'), ('22', '3'), ('28', '3'), ('3', '42'), ('4', '9'), ('14', '4'), ('19', '4'), ('27', '4'), ('28', '4'), ('5', '7'), ('5', '9'), ('14', '5'), ('22', '5'), ('28', '5'), ('42', '5'), ('45', '5'), ('47', '5'), ('7', '9'), ('19', '7'), ('28', '7'), ('22', '9'), ('28', '9'), ('42', '9'), ('44', '9'), ('14', '22'), ('14', '27'), ('14', '28'), ('14', '33'), ('14', '42'), ('14', '44'), ('15', '28'), ('16', '27'), ('16', '28'), ('17', '28'), ('18', '22'), ('19', '22'), ('19', '45'), ('22', '24'), ('22', '28'), ('22', '29'), ('22', '33'), ('22', '35'), ('22', '42'), ('22', '45'), ('22', '47'), ('22', '48'), ('23', '28'), ('27', '28'), ('27', '32'), ('27', '33'), ('27', '42'), ('27', '46'), ('28', '29'), ('28', '31'), ('28', '33'), ('28', '35'), ('28', '42'), ('28', '46'), ('28', '49'), ('33', '42'), ('33', '45'), ('33', '47'), ('35', '42'), ('42', '45'), ('42', '48'), ('42', '49'), ('0', '2', '46'), ('18', '3', '35'), ('15', '49', '7'), ('16', '32', '45'), ('17', '29', '47'), ('11', '37', '45', '7'), ('12', '31', '36', '48'), ('23', '24', '40', '41', '43')]\n",
            "minRSup 0.006 yielded 33 skyline frequent itemsets:\n",
            "[('6',), ('8',), ('10',), ('13',), ('20',), ('21',), ('25',), ('26',), ('30',), ('34',), ('38',), ('39',), ('1', '4'), ('1', '19'), ('1', '22'), ('4', '9'), ('27', '4'), ('28', '4'), ('22', '5'), ('14', '42'), ('14', '44'), ('22', '28'), ('27', '28'), ('28', '42'), ('33', '42'), ('0', '2', '46'), ('18', '3', '35'), ('15', '49', '7'), ('16', '32', '45'), ('17', '29', '47'), ('11', '37', '45', '7'), ('12', '31', '36', '48'), ('23', '24', '40', '41', '43')]\n",
            "minRSup 0.006999999999999999 yielded 26 skyline frequent itemsets:\n",
            "[('6',), ('8',), ('10',), ('13',), ('20',), ('21',), ('25',), ('26',), ('30',), ('34',), ('38',), ('39',), ('1', '19'), ('4', '9'), ('22', '5'), ('14', '44'), ('27', '28'), ('33', '42'), ('0', '2', '46'), ('18', '3', '35'), ('15', '49', '7'), ('16', '32', '45'), ('17', '29', '47'), ('11', '37', '45', '7'), ('12', '31', '36', '48'), ('23', '24', '40', '41', '43')]\n",
            "minRSup 0.008 yielded 26 skyline frequent itemsets:\n",
            "[('6',), ('8',), ('10',), ('13',), ('20',), ('21',), ('25',), ('26',), ('30',), ('34',), ('38',), ('39',), ('1', '19'), ('4', '9'), ('22', '5'), ('14', '44'), ('27', '28'), ('33', '42'), ('0', '2', '46'), ('18', '3', '35'), ('15', '49', '7'), ('16', '32', '45'), ('17', '29', '47'), ('11', '37', '45', '7'), ('12', '31', '36', '48'), ('23', '24', '40', '41', '43')]\n",
            "minRSup 0.009 yielded 26 skyline frequent itemsets:\n",
            "[('6',), ('8',), ('10',), ('13',), ('20',), ('21',), ('25',), ('26',), ('30',), ('34',), ('38',), ('39',), ('1', '19'), ('4', '9'), ('22', '5'), ('14', '44'), ('27', '28'), ('33', '42'), ('0', '2', '46'), ('18', '3', '35'), ('15', '49', '7'), ('16', '32', '45'), ('17', '29', '47'), ('11', '37', '45', '7'), ('12', '31', '36', '48'), ('23', '24', '40', '41', '43')]\n"
          ]
        }
      ]
    },
    {
      "cell_type": "markdown",
      "metadata": {
        "id": "r_frs7Ldu0jS"
      },
      "source": [
        "I think that .01 is a good value for minRsupport bc for the next couple lower than it, it remains at 26 then sky rockets to higher values indicating that those after may be too small."
      ]
    },
    {
      "cell_type": "code",
      "metadata": {
        "colab": {
          "base_uri": "https://localhost:8080/"
        },
        "id": "74ZrhpQwTxrf",
        "outputId": "9f30eb12-4074-4bce-aae3-425a05854b3d"
      },
      "source": [
        "minRSup_20000 = 0.01\n",
        "goods_20000_assoc = iterate_minX(find_associations, goods_20000_res[minRSup_20000][0], goods_20000_res[minRSup_20000][1], 0.9, 1, 11)"
      ],
      "execution_count": null,
      "outputs": [
        {
          "name": "stdout",
          "output_type": "stream",
          "text": [
            "minConf 0.9 yielded 19 skyline associations:\n",
            "{(('2', '46'), '0'): 0.9495798319327731, (('0', '2'), '46'): 0.9456066945606695, (('3', '35'), '18'): 0.9457900807381776, (('18', '3'), '35'): 0.9392898052691867, (('49', '7'), '15'): 0.9197952218430034, (('32', '45'), '16'): 0.9287749287749287, (('16', '45'), '32'): 0.9131652661064426, (('29', '47'), '17'): 0.9127625201938611, (('17', '29'), '47'): 0.9247135842880524, (('37', '45', '7'), '11'): 0.9982238010657194, (('11', '45', '7'), '37'): 0.9964539007092199, (('11', '37', '45'), '7'): 0.9946902654867257, (('31', '36', '48'), '12'): 0.9882352941176471, (('12', '36', '48'), '31'): 0.995260663507109, (('12', '31', '48'), '36'): 0.9929078014184397, (('24', '40', '41', '43'), '23'): 0.9975550122249389, (('23', '40', '41', '43'), '24'): 0.9975550122249389, (('23', '24', '41', '43'), '40'): 1.0, (('23', '24', '40', '43'), '41'): 1.0}\n",
            "minConf 0.91 yielded 19 skyline associations:\n",
            "{(('2', '46'), '0'): 0.9495798319327731, (('0', '2'), '46'): 0.9456066945606695, (('3', '35'), '18'): 0.9457900807381776, (('18', '3'), '35'): 0.9392898052691867, (('49', '7'), '15'): 0.9197952218430034, (('32', '45'), '16'): 0.9287749287749287, (('16', '45'), '32'): 0.9131652661064426, (('29', '47'), '17'): 0.9127625201938611, (('17', '29'), '47'): 0.9247135842880524, (('37', '45', '7'), '11'): 0.9982238010657194, (('11', '45', '7'), '37'): 0.9964539007092199, (('11', '37', '45'), '7'): 0.9946902654867257, (('31', '36', '48'), '12'): 0.9882352941176471, (('12', '36', '48'), '31'): 0.995260663507109, (('12', '31', '48'), '36'): 0.9929078014184397, (('24', '40', '41', '43'), '23'): 0.9975550122249389, (('23', '40', '41', '43'), '24'): 0.9975550122249389, (('23', '24', '41', '43'), '40'): 1.0, (('23', '24', '40', '43'), '41'): 1.0}\n",
            "minConf 0.92 yielded 16 skyline associations:\n",
            "{(('2', '46'), '0'): 0.9495798319327731, (('0', '2'), '46'): 0.9456066945606695, (('3', '35'), '18'): 0.9457900807381776, (('18', '3'), '35'): 0.9392898052691867, (('32', '45'), '16'): 0.9287749287749287, (('17', '29'), '47'): 0.9247135842880524, (('37', '45', '7'), '11'): 0.9982238010657194, (('11', '45', '7'), '37'): 0.9964539007092199, (('11', '37', '45'), '7'): 0.9946902654867257, (('31', '36', '48'), '12'): 0.9882352941176471, (('12', '36', '48'), '31'): 0.995260663507109, (('12', '31', '48'), '36'): 0.9929078014184397, (('24', '40', '41', '43'), '23'): 0.9975550122249389, (('23', '40', '41', '43'), '24'): 0.9975550122249389, (('23', '24', '41', '43'), '40'): 1.0, (('23', '24', '40', '43'), '41'): 1.0}\n",
            "minConf 0.93 yielded 14 skyline associations:\n",
            "{(('2', '46'), '0'): 0.9495798319327731, (('0', '2'), '46'): 0.9456066945606695, (('3', '35'), '18'): 0.9457900807381776, (('18', '3'), '35'): 0.9392898052691867, (('37', '45', '7'), '11'): 0.9982238010657194, (('11', '45', '7'), '37'): 0.9964539007092199, (('11', '37', '45'), '7'): 0.9946902654867257, (('31', '36', '48'), '12'): 0.9882352941176471, (('12', '36', '48'), '31'): 0.995260663507109, (('12', '31', '48'), '36'): 0.9929078014184397, (('24', '40', '41', '43'), '23'): 0.9975550122249389, (('23', '40', '41', '43'), '24'): 0.9975550122249389, (('23', '24', '41', '43'), '40'): 1.0, (('23', '24', '40', '43'), '41'): 1.0}\n",
            "minConf 0.9400000000000001 yielded 13 skyline associations:\n",
            "{(('2', '46'), '0'): 0.9495798319327731, (('0', '2'), '46'): 0.9456066945606695, (('3', '35'), '18'): 0.9457900807381776, (('37', '45', '7'), '11'): 0.9982238010657194, (('11', '45', '7'), '37'): 0.9964539007092199, (('11', '37', '45'), '7'): 0.9946902654867257, (('31', '36', '48'), '12'): 0.9882352941176471, (('12', '36', '48'), '31'): 0.995260663507109, (('12', '31', '48'), '36'): 0.9929078014184397, (('24', '40', '41', '43'), '23'): 0.9975550122249389, (('23', '40', '41', '43'), '24'): 0.9975550122249389, (('23', '24', '41', '43'), '40'): 1.0, (('23', '24', '40', '43'), '41'): 1.0}\n",
            "minConf 0.95 yielded 10 skyline associations:\n",
            "{(('37', '45', '7'), '11'): 0.9982238010657194, (('11', '45', '7'), '37'): 0.9964539007092199, (('11', '37', '45'), '7'): 0.9946902654867257, (('31', '36', '48'), '12'): 0.9882352941176471, (('12', '36', '48'), '31'): 0.995260663507109, (('12', '31', '48'), '36'): 0.9929078014184397, (('24', '40', '41', '43'), '23'): 0.9975550122249389, (('23', '40', '41', '43'), '24'): 0.9975550122249389, (('23', '24', '41', '43'), '40'): 1.0, (('23', '24', '40', '43'), '41'): 1.0}\n",
            "minConf 0.96 yielded 10 skyline associations:\n",
            "{(('37', '45', '7'), '11'): 0.9982238010657194, (('11', '45', '7'), '37'): 0.9964539007092199, (('11', '37', '45'), '7'): 0.9946902654867257, (('31', '36', '48'), '12'): 0.9882352941176471, (('12', '36', '48'), '31'): 0.995260663507109, (('12', '31', '48'), '36'): 0.9929078014184397, (('24', '40', '41', '43'), '23'): 0.9975550122249389, (('23', '40', '41', '43'), '24'): 0.9975550122249389, (('23', '24', '41', '43'), '40'): 1.0, (('23', '24', '40', '43'), '41'): 1.0}\n",
            "minConf 0.97 yielded 10 skyline associations:\n",
            "{(('37', '45', '7'), '11'): 0.9982238010657194, (('11', '45', '7'), '37'): 0.9964539007092199, (('11', '37', '45'), '7'): 0.9946902654867257, (('31', '36', '48'), '12'): 0.9882352941176471, (('12', '36', '48'), '31'): 0.995260663507109, (('12', '31', '48'), '36'): 0.9929078014184397, (('24', '40', '41', '43'), '23'): 0.9975550122249389, (('23', '40', '41', '43'), '24'): 0.9975550122249389, (('23', '24', '41', '43'), '40'): 1.0, (('23', '24', '40', '43'), '41'): 1.0}\n",
            "minConf 0.98 yielded 10 skyline associations:\n",
            "{(('37', '45', '7'), '11'): 0.9982238010657194, (('11', '45', '7'), '37'): 0.9964539007092199, (('11', '37', '45'), '7'): 0.9946902654867257, (('31', '36', '48'), '12'): 0.9882352941176471, (('12', '36', '48'), '31'): 0.995260663507109, (('12', '31', '48'), '36'): 0.9929078014184397, (('24', '40', '41', '43'), '23'): 0.9975550122249389, (('23', '40', '41', '43'), '24'): 0.9975550122249389, (('23', '24', '41', '43'), '40'): 1.0, (('23', '24', '40', '43'), '41'): 1.0}\n",
            "minConf 0.99 yielded 9 skyline associations:\n",
            "{(('37', '45', '7'), '11'): 0.9982238010657194, (('11', '45', '7'), '37'): 0.9964539007092199, (('11', '37', '45'), '7'): 0.9946902654867257, (('12', '36', '48'), '31'): 0.995260663507109, (('12', '31', '48'), '36'): 0.9929078014184397, (('24', '40', '41', '43'), '23'): 0.9975550122249389, (('23', '40', '41', '43'), '24'): 0.9975550122249389, (('23', '24', '41', '43'), '40'): 1.0, (('23', '24', '40', '43'), '41'): 1.0}\n",
            "minConf 1.0 yielded 2 skyline associations:\n",
            "{(('23', '24', '41', '43'), '40'): 1.0, (('23', '24', '40', '43'), '41'): 1.0}\n"
          ]
        }
      ]
    },
    {
      "cell_type": "markdown",
      "metadata": {
        "id": "jY1YSccauITU"
      },
      "source": [
        "After the 95% confidence, the skyline seems to remain constant so I think we should do 95% confidence"
      ]
    },
    {
      "cell_type": "code",
      "metadata": {
        "colab": {
          "base_uri": "https://localhost:8080/"
        },
        "id": "PzFt-_VCFCbB",
        "outputId": "89358d44-ad9c-4213-c86c-458270086eae"
      },
      "source": [
        "# Final goods_20000 choices\n",
        "minRSup = 0.02\n",
        "minConf = 0.95\n",
        "freq_goods_20000 = apriori(goods_20000_data, good_ids, minRSup)\n",
        "freq_assoc_goods_20000 = find_associations(freq_goods_20000[0], freq_goods_20000[1], minConf)\n",
        "print(f\"There are {len(freq_goods_20000[1])} skyline frequent itemsets for minRSup {minRSup}:\")\n",
        "print_skyline(get_named_skyline(goods_ids_to_names, freq_goods_20000[1]))\n",
        "print(\"\")\n",
        "print(f\"There are {len(freq_assoc_goods_20000)} skyline frequent itemset association rule for minConf {minConf*100:.1f}%:\")\n",
        "print_associations(get_named_associations(goods_ids_to_names, freq_assoc_goods_20000))"
      ],
      "execution_count": null,
      "outputs": [
        {
          "name": "stdout",
          "output_type": "stream",
          "text": [
            "There are 26 skyline frequent itemsets for minRSup 0.02:\n",
            "  (Chocolate Eclair)\n",
            "  (Vanilla Eclair)\n",
            "  (Almond Tart)\n",
            "  (Apricot Tart)\n",
            "  (Pecan Tart)\n",
            "  (Ganache Cookie)\n",
            "  (Chocolate Meringue)\n",
            "  (Vanilla Meringue)\n",
            "  (Almond Croissant)\n",
            "  (Chocolate Croissant)\n",
            "  (Almond Bear Claw)\n",
            "  (Blueberry Danish)\n",
            "  (Lemon Cake, Lemon Tart)\n",
            "  (Strawberry Cake, Napoleon Cake)\n",
            "  (Gongolais Cookie, Truffle Cake)\n",
            "  (Berry Tart, Bottled Water)\n",
            "  (Marzipan Cookie, Tuile Cookie)\n",
            "  (Cheese Croissant, Orange Juice)\n",
            "  (Chocolate Cake, Casino Cake, Chocolate Coffee)\n",
            "  (Cherry Tart, Opera Cake, Apricot Danish)\n",
            "  (Blackberry Tart, Single Espresso, Coffee Eclair)\n",
            "  (Blueberry Tart, Apricot Croissant, Hot Coffee)\n",
            "  (Chocolate Tart, Walnut Cookie, Vanilla Frappuccino)\n",
            "  (Apple Pie, Almond Twist, Hot Coffee, Coffee Eclair)\n",
            "  (Apple Tart, Apple Croissant, Apple Danish, Cherry Soda)\n",
            "  (Raspberry Cookie, Lemon Cookie, Lemon Lemonade, Raspberry Lemonade, Green Tea)\n",
            "\n",
            "There are 10 skyline frequent itemset association rule for minConf 95.0%:\n",
            "  Almond Twist, Hot Coffee, Coffee Eclair -> Apple Pie : conf 99.82%\n",
            "  Apple Pie, Hot Coffee, Coffee Eclair -> Almond Twist : conf 99.65%\n",
            "  Apple Pie, Almond Twist, Hot Coffee -> Coffee Eclair : conf 99.47%\n",
            "  Apple Croissant, Apple Danish, Cherry Soda -> Apple Tart : conf 98.82%\n",
            "  Apple Tart, Apple Danish, Cherry Soda -> Apple Croissant : conf 99.53%\n",
            "  Apple Tart, Apple Croissant, Cherry Soda -> Apple Danish : conf 99.29%\n",
            "  Lemon Cookie, Lemon Lemonade, Raspberry Lemonade, Green Tea -> Raspberry Cookie : conf 99.76%\n",
            "  Raspberry Cookie, Lemon Lemonade, Raspberry Lemonade, Green Tea -> Lemon Cookie : conf 99.76%\n",
            "  Raspberry Cookie, Lemon Cookie, Raspberry Lemonade, Green Tea -> Lemon Lemonade : conf 100.00%\n",
            "  Raspberry Cookie, Lemon Cookie, Lemon Lemonade, Green Tea -> Raspberry Lemonade : conf 100.00%\n"
          ]
        }
      ]
    },
    {
      "cell_type": "code",
      "metadata": {
        "id": "BkylhMULxF4x"
      },
      "source": [
        "goods_75000_data = get_data(\"/content/drive/MyDrive/Data/75000-out1.csv\")\n",
        "#goods_75000_data = get_data(\"75000-out1.csv\")\n"
      ],
      "execution_count": null,
      "outputs": []
    },
    {
      "cell_type": "code",
      "metadata": {
        "colab": {
          "base_uri": "https://localhost:8080/",
          "height": 312
        },
        "id": "mn_D-JkcyLq2",
        "outputId": "73fea699-d6b4-4048-e4ff-71c6efdf15a6"
      },
      "source": [
        "goods_75000_res = iterate_minX(apriori, goods_75000_data, good_ids, 0.01, 0.05, 5)"
      ],
      "execution_count": null,
      "outputs": [
        {
          "ename": "KeyboardInterrupt",
          "evalue": "ignored",
          "output_type": "error",
          "traceback": [
            "\u001b[0;31m---------------------------------------------------------------------------\u001b[0m",
            "\u001b[0;31mKeyboardInterrupt\u001b[0m                         Traceback (most recent call last)",
            "\u001b[0;32m<ipython-input-26-0732e6769fe6>\u001b[0m in \u001b[0;36m<module>\u001b[0;34m()\u001b[0m\n\u001b[0;32m----> 1\u001b[0;31m \u001b[0mgoods_75000_res\u001b[0m \u001b[0;34m=\u001b[0m \u001b[0miterate_minX\u001b[0m\u001b[0;34m(\u001b[0m\u001b[0mapriori\u001b[0m\u001b[0;34m,\u001b[0m \u001b[0mgoods_75000_data\u001b[0m\u001b[0;34m,\u001b[0m \u001b[0mgood_ids\u001b[0m\u001b[0;34m,\u001b[0m \u001b[0;36m0.01\u001b[0m\u001b[0;34m,\u001b[0m \u001b[0;36m0.05\u001b[0m\u001b[0;34m,\u001b[0m \u001b[0;36m5\u001b[0m\u001b[0;34m)\u001b[0m\u001b[0;34m\u001b[0m\u001b[0;34m\u001b[0m\u001b[0m\n\u001b[0m",
            "\u001b[0;32m<ipython-input-10-e9af938f1396>\u001b[0m in \u001b[0;36miterate_minX\u001b[0;34m(fnxn, fnxn_arg1, fnxn_arg2, minBound, maxBound, increment)\u001b[0m\n\u001b[1;32m     15\u001b[0m   \u001b[0mres\u001b[0m \u001b[0;34m=\u001b[0m \u001b[0;34m{\u001b[0m\u001b[0;34m}\u001b[0m\u001b[0;34m\u001b[0m\u001b[0;34m\u001b[0m\u001b[0m\n\u001b[1;32m     16\u001b[0m   \u001b[0;32mfor\u001b[0m \u001b[0mminX\u001b[0m \u001b[0;32min\u001b[0m \u001b[0mnp\u001b[0m\u001b[0;34m.\u001b[0m\u001b[0mlinspace\u001b[0m\u001b[0;34m(\u001b[0m\u001b[0mminBound\u001b[0m\u001b[0;34m,\u001b[0m \u001b[0mmaxBound\u001b[0m\u001b[0;34m,\u001b[0m \u001b[0mincrement\u001b[0m\u001b[0;34m)\u001b[0m\u001b[0;34m:\u001b[0m\u001b[0;34m\u001b[0m\u001b[0;34m\u001b[0m\u001b[0m\n\u001b[0;32m---> 17\u001b[0;31m     \u001b[0mres\u001b[0m\u001b[0;34m[\u001b[0m\u001b[0mminX\u001b[0m\u001b[0;34m]\u001b[0m \u001b[0;34m=\u001b[0m \u001b[0mfnxn\u001b[0m\u001b[0;34m(\u001b[0m\u001b[0mfnxn_arg1\u001b[0m\u001b[0;34m,\u001b[0m \u001b[0mfnxn_arg2\u001b[0m\u001b[0;34m,\u001b[0m \u001b[0mminX\u001b[0m\u001b[0;34m)\u001b[0m\u001b[0;34m\u001b[0m\u001b[0;34m\u001b[0m\u001b[0m\n\u001b[0m\u001b[1;32m     18\u001b[0m     \u001b[0;32mif\u001b[0m \u001b[0mfnxn\u001b[0m \u001b[0;32mis\u001b[0m \u001b[0mapriori\u001b[0m\u001b[0;34m:\u001b[0m\u001b[0;34m\u001b[0m\u001b[0;34m\u001b[0m\u001b[0m\n\u001b[1;32m     19\u001b[0m       \u001b[0mprint\u001b[0m\u001b[0;34m(\u001b[0m\u001b[0;34mf\"minRSup {minX} yielded {len(res[minX][1])} skyline frequent itemsets:\\n{res[minX][1]}\"\u001b[0m\u001b[0;34m)\u001b[0m\u001b[0;34m\u001b[0m\u001b[0;34m\u001b[0m\u001b[0m\n",
            "\u001b[0;32m<ipython-input-15-6d1cb455c23f>\u001b[0m in \u001b[0;36mapriori\u001b[0;34m(data, singles, minRSup)\u001b[0m\n\u001b[1;32m     23\u001b[0m \u001b[0;34m\u001b[0m\u001b[0m\n\u001b[1;32m     24\u001b[0m     \u001b[0;31m# Calc supports of candidates and prune\u001b[0m\u001b[0;34m\u001b[0m\u001b[0;34m\u001b[0m\u001b[0;34m\u001b[0m\u001b[0m\n\u001b[0;32m---> 25\u001b[0;31m     \u001b[0mfreq_counts\u001b[0m \u001b[0;34m=\u001b[0m \u001b[0mfind_supported_items\u001b[0m\u001b[0;34m(\u001b[0m\u001b[0mdata\u001b[0m\u001b[0;34m,\u001b[0m \u001b[0mcandidates\u001b[0m\u001b[0;34m,\u001b[0m \u001b[0mminRSup\u001b[0m\u001b[0;34m)\u001b[0m \u001b[0;31m# dict: {tuple(itemset): frequency}\u001b[0m\u001b[0;34m\u001b[0m\u001b[0;34m\u001b[0m\u001b[0m\n\u001b[0m\u001b[1;32m     26\u001b[0m \u001b[0;34m\u001b[0m\u001b[0m\n\u001b[1;32m     27\u001b[0m     \u001b[0;31m# Handle flags for finding skyline frequent itemsets\u001b[0m\u001b[0;34m\u001b[0m\u001b[0;34m\u001b[0m\u001b[0;34m\u001b[0m\u001b[0m\n",
            "\u001b[0;32m<ipython-input-11-6a1b20ab5327>\u001b[0m in \u001b[0;36mfind_supported_items\u001b[0;34m(data, candidates, minRSup)\u001b[0m\n\u001b[1;32m      9\u001b[0m   \u001b[0;32mfor\u001b[0m \u001b[0mrow\u001b[0m \u001b[0;32min\u001b[0m \u001b[0mdata\u001b[0m\u001b[0;34m:\u001b[0m              \u001b[0;31m# loop through rows first (1 disk read)\u001b[0m\u001b[0;34m\u001b[0m\u001b[0;34m\u001b[0m\u001b[0m\n\u001b[1;32m     10\u001b[0m     \u001b[0;32mfor\u001b[0m \u001b[0mcand\u001b[0m \u001b[0;32min\u001b[0m \u001b[0mcandidates\u001b[0m\u001b[0;34m:\u001b[0m     \u001b[0;31m# then check each itemset in that row\u001b[0m\u001b[0;34m\u001b[0m\u001b[0;34m\u001b[0m\u001b[0m\n\u001b[0;32m---> 11\u001b[0;31m       \u001b[0;32mif\u001b[0m \u001b[0mset\u001b[0m\u001b[0;34m(\u001b[0m\u001b[0mcand\u001b[0m\u001b[0;34m)\u001b[0m\u001b[0;34m.\u001b[0m\u001b[0missubset\u001b[0m\u001b[0;34m(\u001b[0m\u001b[0mset\u001b[0m\u001b[0;34m(\u001b[0m\u001b[0mrow\u001b[0m\u001b[0;34m)\u001b[0m\u001b[0;34m)\u001b[0m\u001b[0;34m:\u001b[0m    \u001b[0;31m# increase frequency count if itemset is found\u001b[0m\u001b[0;34m\u001b[0m\u001b[0;34m\u001b[0m\u001b[0m\n\u001b[0m\u001b[1;32m     12\u001b[0m         \u001b[0msupports\u001b[0m\u001b[0;34m[\u001b[0m\u001b[0mtuple\u001b[0m\u001b[0;34m(\u001b[0m\u001b[0mcand\u001b[0m\u001b[0;34m)\u001b[0m\u001b[0;34m]\u001b[0m \u001b[0;34m+=\u001b[0m \u001b[0;36m1\u001b[0m\u001b[0;34m\u001b[0m\u001b[0;34m\u001b[0m\u001b[0m\n\u001b[1;32m     13\u001b[0m \u001b[0;34m\u001b[0m\u001b[0m\n",
            "\u001b[0;31mKeyboardInterrupt\u001b[0m: "
          ]
        }
      ]
    },
    {
      "cell_type": "code",
      "metadata": {
        "colab": {
          "base_uri": "https://localhost:8080/",
          "height": 453
        },
        "id": "HyagvLoZzGMu",
        "outputId": "69a902bf-a1f2-4902-85da-06a8794403bd"
      },
      "source": [
        "goods_75000_res.update(iterate_minX(apriori, goods_75000_data, good_ids, 0.005, 0.009, 5))"
      ],
      "execution_count": null,
      "outputs": [
        {
          "name": "stdout",
          "output_type": "stream",
          "text": [
            "minRSup 0.005 yielded 85 skyline frequent itemsets:\n",
            "[('6',), ('8',), ('10',), ('13',), ('20',), ('21',), ('25',), ('26',), ('30',), ('34',), ('38',), ('39',), ('0', '28'), ('1', '4'), ('1', '9'), ('1', '14'), ('1', '18'), ('1', '19'), ('1', '22'), ('1', '27'), ('1', '28'), ('1', '42'), ('4', '5'), ('4', '7'), ('4', '9'), ('14', '4'), ('18', '4'), ('19', '4'), ('22', '4'), ('27', '4'), ('28', '4'), ('35', '4'), ('4', '42'), ('4', '44'), ('14', '5'), ('22', '5'), ('28', '5'), ('33', '5'), ('42', '5'), ('28', '7'), ('14', '9'), ('19', '9'), ('22', '9'), ('27', '9'), ('28', '9'), ('35', '9'), ('14', '18'), ('14', '22'), ('14', '27'), ('14', '28'), ('14', '33'), ('14', '42'), ('14', '44'), ('15', '28'), ('18', '28'), ('18', '42'), ('19', '28'), ('19', '42'), ('22', '27'), ('22', '28'), ('22', '42'), ('27', '28'), ('27', '32'), ('27', '33'), ('27', '42'), ('28', '32'), ('28', '33'), ('28', '35'), ('28', '42'), ('28', '45'), ('28', '46'), ('28', '49'), ('32', '42'), ('33', '42'), ('35', '42'), ('42', '44'), ('42', '47'), ('0', '2', '46'), ('18', '3', '35'), ('15', '49', '7'), ('16', '32', '45'), ('17', '29', '47'), ('11', '37', '45', '7'), ('12', '31', '36', '48'), ('23', '24', '40', '41', '43')]\n",
            "minRSup 0.006 yielded 28 skyline frequent itemsets:\n",
            "[('6',), ('8',), ('10',), ('13',), ('20',), ('21',), ('25',), ('26',), ('30',), ('34',), ('38',), ('39',), ('1', '19'), ('4', '9'), ('28', '4'), ('22', '5'), ('14', '44'), ('22', '28'), ('27', '28'), ('33', '42'), ('0', '2', '46'), ('18', '3', '35'), ('15', '49', '7'), ('16', '32', '45'), ('17', '29', '47'), ('11', '37', '45', '7'), ('12', '31', '36', '48'), ('23', '24', '40', '41', '43')]\n",
            "minRSup 0.006999999999999999 yielded 26 skyline frequent itemsets:\n",
            "[('6',), ('8',), ('10',), ('13',), ('20',), ('21',), ('25',), ('26',), ('30',), ('34',), ('38',), ('39',), ('1', '19'), ('4', '9'), ('22', '5'), ('14', '44'), ('27', '28'), ('33', '42'), ('0', '2', '46'), ('18', '3', '35'), ('15', '49', '7'), ('16', '32', '45'), ('17', '29', '47'), ('11', '37', '45', '7'), ('12', '31', '36', '48'), ('23', '24', '40', '41', '43')]\n"
          ]
        },
        {
          "ename": "KeyboardInterrupt",
          "evalue": "ignored",
          "output_type": "error",
          "traceback": [
            "\u001b[0;31m---------------------------------------------------------------------------\u001b[0m",
            "\u001b[0;31mKeyboardInterrupt\u001b[0m                         Traceback (most recent call last)",
            "\u001b[0;32m<ipython-input-48-93b7ea15213a>\u001b[0m in \u001b[0;36m<module>\u001b[0;34m()\u001b[0m\n\u001b[0;32m----> 1\u001b[0;31m \u001b[0mgoods_75000_res\u001b[0m\u001b[0;34m.\u001b[0m\u001b[0mupdate\u001b[0m\u001b[0;34m(\u001b[0m\u001b[0miterate_minX\u001b[0m\u001b[0;34m(\u001b[0m\u001b[0mapriori\u001b[0m\u001b[0;34m,\u001b[0m \u001b[0mgoods_75000_data\u001b[0m\u001b[0;34m,\u001b[0m \u001b[0mgood_ids\u001b[0m\u001b[0;34m,\u001b[0m \u001b[0;36m0.005\u001b[0m\u001b[0;34m,\u001b[0m \u001b[0;36m0.009\u001b[0m\u001b[0;34m,\u001b[0m \u001b[0;36m5\u001b[0m\u001b[0;34m)\u001b[0m\u001b[0;34m)\u001b[0m\u001b[0;34m\u001b[0m\u001b[0;34m\u001b[0m\u001b[0m\n\u001b[0m",
            "\u001b[0;32m<ipython-input-10-e9af938f1396>\u001b[0m in \u001b[0;36miterate_minX\u001b[0;34m(fnxn, fnxn_arg1, fnxn_arg2, minBound, maxBound, increment)\u001b[0m\n\u001b[1;32m     15\u001b[0m   \u001b[0mres\u001b[0m \u001b[0;34m=\u001b[0m \u001b[0;34m{\u001b[0m\u001b[0;34m}\u001b[0m\u001b[0;34m\u001b[0m\u001b[0;34m\u001b[0m\u001b[0m\n\u001b[1;32m     16\u001b[0m   \u001b[0;32mfor\u001b[0m \u001b[0mminX\u001b[0m \u001b[0;32min\u001b[0m \u001b[0mnp\u001b[0m\u001b[0;34m.\u001b[0m\u001b[0mlinspace\u001b[0m\u001b[0;34m(\u001b[0m\u001b[0mminBound\u001b[0m\u001b[0;34m,\u001b[0m \u001b[0mmaxBound\u001b[0m\u001b[0;34m,\u001b[0m \u001b[0mincrement\u001b[0m\u001b[0;34m)\u001b[0m\u001b[0;34m:\u001b[0m\u001b[0;34m\u001b[0m\u001b[0;34m\u001b[0m\u001b[0m\n\u001b[0;32m---> 17\u001b[0;31m     \u001b[0mres\u001b[0m\u001b[0;34m[\u001b[0m\u001b[0mminX\u001b[0m\u001b[0;34m]\u001b[0m \u001b[0;34m=\u001b[0m \u001b[0mfnxn\u001b[0m\u001b[0;34m(\u001b[0m\u001b[0mfnxn_arg1\u001b[0m\u001b[0;34m,\u001b[0m \u001b[0mfnxn_arg2\u001b[0m\u001b[0;34m,\u001b[0m \u001b[0mminX\u001b[0m\u001b[0;34m)\u001b[0m\u001b[0;34m\u001b[0m\u001b[0;34m\u001b[0m\u001b[0m\n\u001b[0m\u001b[1;32m     18\u001b[0m     \u001b[0;32mif\u001b[0m \u001b[0mfnxn\u001b[0m \u001b[0;32mis\u001b[0m \u001b[0mapriori\u001b[0m\u001b[0;34m:\u001b[0m\u001b[0;34m\u001b[0m\u001b[0;34m\u001b[0m\u001b[0m\n\u001b[1;32m     19\u001b[0m       \u001b[0mprint\u001b[0m\u001b[0;34m(\u001b[0m\u001b[0;34mf\"minRSup {minX} yielded {len(res[minX][1])} skyline frequent itemsets:\\n{res[minX][1]}\"\u001b[0m\u001b[0;34m)\u001b[0m\u001b[0;34m\u001b[0m\u001b[0;34m\u001b[0m\u001b[0m\n",
            "\u001b[0;32m<ipython-input-15-6d1cb455c23f>\u001b[0m in \u001b[0;36mapriori\u001b[0;34m(data, singles, minRSup)\u001b[0m\n\u001b[1;32m     23\u001b[0m \u001b[0;34m\u001b[0m\u001b[0m\n\u001b[1;32m     24\u001b[0m     \u001b[0;31m# Calc supports of candidates and prune\u001b[0m\u001b[0;34m\u001b[0m\u001b[0;34m\u001b[0m\u001b[0;34m\u001b[0m\u001b[0m\n\u001b[0;32m---> 25\u001b[0;31m     \u001b[0mfreq_counts\u001b[0m \u001b[0;34m=\u001b[0m \u001b[0mfind_supported_items\u001b[0m\u001b[0;34m(\u001b[0m\u001b[0mdata\u001b[0m\u001b[0;34m,\u001b[0m \u001b[0mcandidates\u001b[0m\u001b[0;34m,\u001b[0m \u001b[0mminRSup\u001b[0m\u001b[0;34m)\u001b[0m \u001b[0;31m# dict: {tuple(itemset): frequency}\u001b[0m\u001b[0;34m\u001b[0m\u001b[0;34m\u001b[0m\u001b[0m\n\u001b[0m\u001b[1;32m     26\u001b[0m \u001b[0;34m\u001b[0m\u001b[0m\n\u001b[1;32m     27\u001b[0m     \u001b[0;31m# Handle flags for finding skyline frequent itemsets\u001b[0m\u001b[0;34m\u001b[0m\u001b[0;34m\u001b[0m\u001b[0;34m\u001b[0m\u001b[0m\n",
            "\u001b[0;32m<ipython-input-11-6a1b20ab5327>\u001b[0m in \u001b[0;36mfind_supported_items\u001b[0;34m(data, candidates, minRSup)\u001b[0m\n\u001b[1;32m      9\u001b[0m   \u001b[0;32mfor\u001b[0m \u001b[0mrow\u001b[0m \u001b[0;32min\u001b[0m \u001b[0mdata\u001b[0m\u001b[0;34m:\u001b[0m              \u001b[0;31m# loop through rows first (1 disk read)\u001b[0m\u001b[0;34m\u001b[0m\u001b[0;34m\u001b[0m\u001b[0m\n\u001b[1;32m     10\u001b[0m     \u001b[0;32mfor\u001b[0m \u001b[0mcand\u001b[0m \u001b[0;32min\u001b[0m \u001b[0mcandidates\u001b[0m\u001b[0;34m:\u001b[0m     \u001b[0;31m# then check each itemset in that row\u001b[0m\u001b[0;34m\u001b[0m\u001b[0;34m\u001b[0m\u001b[0m\n\u001b[0;32m---> 11\u001b[0;31m       \u001b[0;32mif\u001b[0m \u001b[0mset\u001b[0m\u001b[0;34m(\u001b[0m\u001b[0mcand\u001b[0m\u001b[0;34m)\u001b[0m\u001b[0;34m.\u001b[0m\u001b[0missubset\u001b[0m\u001b[0;34m(\u001b[0m\u001b[0mset\u001b[0m\u001b[0;34m(\u001b[0m\u001b[0mrow\u001b[0m\u001b[0;34m)\u001b[0m\u001b[0;34m)\u001b[0m\u001b[0;34m:\u001b[0m    \u001b[0;31m# increase frequency count if itemset is found\u001b[0m\u001b[0;34m\u001b[0m\u001b[0;34m\u001b[0m\u001b[0m\n\u001b[0m\u001b[1;32m     12\u001b[0m         \u001b[0msupports\u001b[0m\u001b[0;34m[\u001b[0m\u001b[0mtuple\u001b[0m\u001b[0;34m(\u001b[0m\u001b[0mcand\u001b[0m\u001b[0;34m)\u001b[0m\u001b[0;34m]\u001b[0m \u001b[0;34m+=\u001b[0m \u001b[0;36m1\u001b[0m\u001b[0;34m\u001b[0m\u001b[0;34m\u001b[0m\u001b[0m\n\u001b[1;32m     13\u001b[0m \u001b[0;34m\u001b[0m\u001b[0m\n",
            "\u001b[0;31mKeyboardInterrupt\u001b[0m: "
          ]
        }
      ]
    },
    {
      "cell_type": "markdown",
      "metadata": {
        "id": "Ua9QOHjn5L6g"
      },
      "source": [
        ".02 Seems to be a good bc after that everything seems to "
      ]
    },
    {
      "cell_type": "code",
      "metadata": {
        "colab": {
          "base_uri": "https://localhost:8080/"
        },
        "id": "3JhmJb5KKDHL",
        "outputId": "f6a65031-c8f2-46be-ebc7-72addf0d0841"
      },
      "source": [
        "minRSup_75000 = 0.02\n",
        "goods_75000_assoc = iterate_minX(find_associations, goods_75000_res[minRSup_75000][0], goods_75000_res[minRSup_75000][1], 0.9, 1, 11)"
      ],
      "execution_count": null,
      "outputs": [
        {
          "name": "stdout",
          "output_type": "stream",
          "text": [
            "minConf 0.9 yielded 20 skyline associations:\n",
            "{(('2', '46'), '0'): 0.9474082482027999, (('0', '2'), '46'): 0.9395872420262664, (('3', '35'), '18'): 0.9553765106910443, (('18', '3'), '35'): 0.9477405471872118, (('49', '7'), '15'): 0.9222423146473779, (('15', '49'), '7'): 0.9230769230769231, (('32', '45'), '16'): 0.9280060309084056, (('16', '45'), '32'): 0.936834094368341, (('29', '47'), '17'): 0.9396067415730337, (('17', '29'), '47'): 0.9369747899159664, (('37', '45', '7'), '11'): 0.9928876244665719, (('11', '45', '7'), '37'): 0.9938300901756051, (('11', '37', '45'), '7'): 0.9952471482889734, (('31', '36', '48'), '12'): 0.9897435897435898, (('12', '36', '48'), '31'): 0.9929260450160772, (('12', '31', '48'), '36'): 0.9910141206675225, (('24', '40', '41', '43'), '23'): 1.0, (('23', '40', '41', '43'), '24'): 0.9993573264781491, (('23', '24', '41', '43'), '40'): 1.0, (('23', '24', '40', '43'), '41'): 1.0}\n",
            "minConf 0.91 yielded 20 skyline associations:\n",
            "{(('2', '46'), '0'): 0.9474082482027999, (('0', '2'), '46'): 0.9395872420262664, (('3', '35'), '18'): 0.9553765106910443, (('18', '3'), '35'): 0.9477405471872118, (('49', '7'), '15'): 0.9222423146473779, (('15', '49'), '7'): 0.9230769230769231, (('32', '45'), '16'): 0.9280060309084056, (('16', '45'), '32'): 0.936834094368341, (('29', '47'), '17'): 0.9396067415730337, (('17', '29'), '47'): 0.9369747899159664, (('37', '45', '7'), '11'): 0.9928876244665719, (('11', '45', '7'), '37'): 0.9938300901756051, (('11', '37', '45'), '7'): 0.9952471482889734, (('31', '36', '48'), '12'): 0.9897435897435898, (('12', '36', '48'), '31'): 0.9929260450160772, (('12', '31', '48'), '36'): 0.9910141206675225, (('24', '40', '41', '43'), '23'): 1.0, (('23', '40', '41', '43'), '24'): 0.9993573264781491, (('23', '24', '41', '43'), '40'): 1.0, (('23', '24', '40', '43'), '41'): 1.0}\n",
            "minConf 0.92 yielded 20 skyline associations:\n",
            "{(('2', '46'), '0'): 0.9474082482027999, (('0', '2'), '46'): 0.9395872420262664, (('3', '35'), '18'): 0.9553765106910443, (('18', '3'), '35'): 0.9477405471872118, (('49', '7'), '15'): 0.9222423146473779, (('15', '49'), '7'): 0.9230769230769231, (('32', '45'), '16'): 0.9280060309084056, (('16', '45'), '32'): 0.936834094368341, (('29', '47'), '17'): 0.9396067415730337, (('17', '29'), '47'): 0.9369747899159664, (('37', '45', '7'), '11'): 0.9928876244665719, (('11', '45', '7'), '37'): 0.9938300901756051, (('11', '37', '45'), '7'): 0.9952471482889734, (('31', '36', '48'), '12'): 0.9897435897435898, (('12', '36', '48'), '31'): 0.9929260450160772, (('12', '31', '48'), '36'): 0.9910141206675225, (('24', '40', '41', '43'), '23'): 1.0, (('23', '40', '41', '43'), '24'): 0.9993573264781491, (('23', '24', '41', '43'), '40'): 1.0, (('23', '24', '40', '43'), '41'): 1.0}\n",
            "minConf 0.93 yielded 17 skyline associations:\n",
            "{(('2', '46'), '0'): 0.9474082482027999, (('0', '2'), '46'): 0.9395872420262664, (('3', '35'), '18'): 0.9553765106910443, (('18', '3'), '35'): 0.9477405471872118, (('16', '45'), '32'): 0.936834094368341, (('29', '47'), '17'): 0.9396067415730337, (('17', '29'), '47'): 0.9369747899159664, (('37', '45', '7'), '11'): 0.9928876244665719, (('11', '45', '7'), '37'): 0.9938300901756051, (('11', '37', '45'), '7'): 0.9952471482889734, (('31', '36', '48'), '12'): 0.9897435897435898, (('12', '36', '48'), '31'): 0.9929260450160772, (('12', '31', '48'), '36'): 0.9910141206675225, (('24', '40', '41', '43'), '23'): 1.0, (('23', '40', '41', '43'), '24'): 0.9993573264781491, (('23', '24', '41', '43'), '40'): 1.0, (('23', '24', '40', '43'), '41'): 1.0}\n",
            "minConf 0.9400000000000001 yielded 13 skyline associations:\n",
            "{(('2', '46'), '0'): 0.9474082482027999, (('3', '35'), '18'): 0.9553765106910443, (('18', '3'), '35'): 0.9477405471872118, (('37', '45', '7'), '11'): 0.9928876244665719, (('11', '45', '7'), '37'): 0.9938300901756051, (('11', '37', '45'), '7'): 0.9952471482889734, (('31', '36', '48'), '12'): 0.9897435897435898, (('12', '36', '48'), '31'): 0.9929260450160772, (('12', '31', '48'), '36'): 0.9910141206675225, (('24', '40', '41', '43'), '23'): 1.0, (('23', '40', '41', '43'), '24'): 0.9993573264781491, (('23', '24', '41', '43'), '40'): 1.0, (('23', '24', '40', '43'), '41'): 1.0}\n",
            "minConf 0.95 yielded 11 skyline associations:\n",
            "{(('3', '35'), '18'): 0.9553765106910443, (('37', '45', '7'), '11'): 0.9928876244665719, (('11', '45', '7'), '37'): 0.9938300901756051, (('11', '37', '45'), '7'): 0.9952471482889734, (('31', '36', '48'), '12'): 0.9897435897435898, (('12', '36', '48'), '31'): 0.9929260450160772, (('12', '31', '48'), '36'): 0.9910141206675225, (('24', '40', '41', '43'), '23'): 1.0, (('23', '40', '41', '43'), '24'): 0.9993573264781491, (('23', '24', '41', '43'), '40'): 1.0, (('23', '24', '40', '43'), '41'): 1.0}\n",
            "minConf 0.96 yielded 10 skyline associations:\n",
            "{(('37', '45', '7'), '11'): 0.9928876244665719, (('11', '45', '7'), '37'): 0.9938300901756051, (('11', '37', '45'), '7'): 0.9952471482889734, (('31', '36', '48'), '12'): 0.9897435897435898, (('12', '36', '48'), '31'): 0.9929260450160772, (('12', '31', '48'), '36'): 0.9910141206675225, (('24', '40', '41', '43'), '23'): 1.0, (('23', '40', '41', '43'), '24'): 0.9993573264781491, (('23', '24', '41', '43'), '40'): 1.0, (('23', '24', '40', '43'), '41'): 1.0}\n",
            "minConf 0.97 yielded 10 skyline associations:\n",
            "{(('37', '45', '7'), '11'): 0.9928876244665719, (('11', '45', '7'), '37'): 0.9938300901756051, (('11', '37', '45'), '7'): 0.9952471482889734, (('31', '36', '48'), '12'): 0.9897435897435898, (('12', '36', '48'), '31'): 0.9929260450160772, (('12', '31', '48'), '36'): 0.9910141206675225, (('24', '40', '41', '43'), '23'): 1.0, (('23', '40', '41', '43'), '24'): 0.9993573264781491, (('23', '24', '41', '43'), '40'): 1.0, (('23', '24', '40', '43'), '41'): 1.0}\n",
            "minConf 0.98 yielded 10 skyline associations:\n",
            "{(('37', '45', '7'), '11'): 0.9928876244665719, (('11', '45', '7'), '37'): 0.9938300901756051, (('11', '37', '45'), '7'): 0.9952471482889734, (('31', '36', '48'), '12'): 0.9897435897435898, (('12', '36', '48'), '31'): 0.9929260450160772, (('12', '31', '48'), '36'): 0.9910141206675225, (('24', '40', '41', '43'), '23'): 1.0, (('23', '40', '41', '43'), '24'): 0.9993573264781491, (('23', '24', '41', '43'), '40'): 1.0, (('23', '24', '40', '43'), '41'): 1.0}\n",
            "minConf 0.99 yielded 9 skyline associations:\n",
            "{(('37', '45', '7'), '11'): 0.9928876244665719, (('11', '45', '7'), '37'): 0.9938300901756051, (('11', '37', '45'), '7'): 0.9952471482889734, (('12', '36', '48'), '31'): 0.9929260450160772, (('12', '31', '48'), '36'): 0.9910141206675225, (('24', '40', '41', '43'), '23'): 1.0, (('23', '40', '41', '43'), '24'): 0.9993573264781491, (('23', '24', '41', '43'), '40'): 1.0, (('23', '24', '40', '43'), '41'): 1.0}\n",
            "minConf 1.0 yielded 3 skyline associations:\n",
            "{(('24', '40', '41', '43'), '23'): 1.0, (('23', '24', '41', '43'), '40'): 1.0, (('23', '24', '40', '43'), '41'): 1.0}\n"
          ]
        }
      ]
    },
    {
      "cell_type": "code",
      "metadata": {
        "id": "Ia6JNBPKJ9pg"
      },
      "source": [
        "goods_75000_res.update(iterate_minX(apriori, goods_20000_data, good_ids, 0.003, 0.008, 5))"
      ],
      "execution_count": null,
      "outputs": []
    },
    {
      "cell_type": "code",
      "metadata": {
        "colab": {
          "base_uri": "https://localhost:8080/"
        },
        "id": "8uPkrN7vJ4Zd",
        "outputId": "df58633b-8e5b-4d63-8faf-2707849d9c25"
      },
      "source": [
        "# Final goods_75000 choices\n",
        "minRSup = 0.02\n",
        "minConf = 0.97\n",
        "freq_goods_75000 = apriori(goods_75000_data, good_ids, minRSup)\n",
        "freq_assoc_goods_75000 = find_associations(freq_goods_75000[0], freq_goods_75000[1], minConf)\n",
        "print(f\"There are {len(freq_goods_75000[1])} skyline frequent itemsets for minRSup {minRSup}:\")\n",
        "print_skyline(get_named_skyline(goods_ids_to_names, freq_goods_75000[1]))\n",
        "print(\"\")\n",
        "print(f\"There are {len(freq_assoc_goods_75000)} skyline frequent itemset association rule for minConf {minConf*100:.1f}%:\")\n",
        "print_associations(get_named_associations(goods_ids_to_names, freq_assoc_goods_75000))"
      ],
      "execution_count": null,
      "outputs": [
        {
          "name": "stdout",
          "output_type": "stream",
          "text": [
            "There are 26 skyline frequent itemsets for minRSup 0.02:\n",
            "  (Chocolate Eclair)\n",
            "  (Vanilla Eclair)\n",
            "  (Almond Tart)\n",
            "  (Apricot Tart)\n",
            "  (Pecan Tart)\n",
            "  (Ganache Cookie)\n",
            "  (Chocolate Meringue)\n",
            "  (Vanilla Meringue)\n",
            "  (Almond Croissant)\n",
            "  (Chocolate Croissant)\n",
            "  (Almond Bear Claw)\n",
            "  (Blueberry Danish)\n",
            "  (Lemon Cake, Lemon Tart)\n",
            "  (Strawberry Cake, Napoleon Cake)\n",
            "  (Gongolais Cookie, Truffle Cake)\n",
            "  (Berry Tart, Bottled Water)\n",
            "  (Marzipan Cookie, Tuile Cookie)\n",
            "  (Cheese Croissant, Orange Juice)\n",
            "  (Chocolate Cake, Casino Cake, Chocolate Coffee)\n",
            "  (Cherry Tart, Opera Cake, Apricot Danish)\n",
            "  (Blackberry Tart, Single Espresso, Coffee Eclair)\n",
            "  (Blueberry Tart, Apricot Croissant, Hot Coffee)\n",
            "  (Chocolate Tart, Walnut Cookie, Vanilla Frappuccino)\n",
            "  (Apple Pie, Almond Twist, Hot Coffee, Coffee Eclair)\n",
            "  (Apple Tart, Apple Croissant, Apple Danish, Cherry Soda)\n",
            "  (Raspberry Cookie, Lemon Cookie, Lemon Lemonade, Raspberry Lemonade, Green Tea)\n",
            "\n",
            "There are 10 skyline frequent itemset association rule for minConf 97.0%:\n",
            "  Almond Twist, Hot Coffee, Coffee Eclair -> Apple Pie : conf 99.29%\n",
            "  Apple Pie, Hot Coffee, Coffee Eclair -> Almond Twist : conf 99.38%\n",
            "  Apple Pie, Almond Twist, Hot Coffee -> Coffee Eclair : conf 99.52%\n",
            "  Apple Croissant, Apple Danish, Cherry Soda -> Apple Tart : conf 98.97%\n",
            "  Apple Tart, Apple Danish, Cherry Soda -> Apple Croissant : conf 99.29%\n",
            "  Apple Tart, Apple Croissant, Cherry Soda -> Apple Danish : conf 99.10%\n",
            "  Lemon Cookie, Lemon Lemonade, Raspberry Lemonade, Green Tea -> Raspberry Cookie : conf 100.00%\n",
            "  Raspberry Cookie, Lemon Lemonade, Raspberry Lemonade, Green Tea -> Lemon Cookie : conf 99.94%\n",
            "  Raspberry Cookie, Lemon Cookie, Raspberry Lemonade, Green Tea -> Lemon Lemonade : conf 100.00%\n",
            "  Raspberry Cookie, Lemon Cookie, Lemon Lemonade, Green Tea -> Raspberry Lemonade : conf 100.00%\n"
          ]
        }
      ]
    },
    {
      "cell_type": "code",
      "metadata": {
        "colab": {
          "base_uri": "https://localhost:8080/"
        },
        "id": "XrNh2HglEpV-",
        "outputId": "c3796b5e-01ba-4277-cb1a-c83ba9482aab"
      },
      "source": [
        "# Final FINAL goods 75000 output\n",
        "minRSup_75000 = 0.02\n",
        "minConf_75000 = 0.97\n",
        "print(f\"There are {len(freq_goods_75000[1])} skyline frequent itemsets for minRSup {minRSup_75000}:\")\n",
        "print_skyline_with_freqs(freq_goods_75000[1], freq_goods_75000[0], goods_ids_to_names, len(goods_75000_data))\n",
        "print(\"\")\n",
        "print(f\"There are {len(freq_assoc_goods_75000)} skyline frequent itemset association rules for minConf {minConf_75000*100:.1f}%:\")\n",
        "print_associations_with_sups_and_confs(freq_assoc_goods_75000, freq_goods_75000[0], goods_ids_to_names, len(goods_75000_data))"
      ],
      "execution_count": null,
      "outputs": [
        {
          "name": "stdout",
          "output_type": "stream",
          "text": [
            "There are 26 skyline frequent itemsets for minRSup 0.02:\n",
            "  (Chocolate Eclair) has rsupport 0.042\n",
            "  (Vanilla Eclair) has rsupport 0.043\n",
            "  (Almond Tart) has rsupport 0.042\n",
            "  (Apricot Tart) has rsupport 0.042\n",
            "  (Pecan Tart) has rsupport 0.043\n",
            "  (Ganache Cookie) has rsupport 0.043\n",
            "  (Chocolate Meringue) has rsupport 0.042\n",
            "  (Vanilla Meringue) has rsupport 0.042\n",
            "  (Almond Croissant) has rsupport 0.043\n",
            "  (Chocolate Croissant) has rsupport 0.043\n",
            "  (Almond Bear Claw) has rsupport 0.042\n",
            "  (Blueberry Danish) has rsupport 0.044\n",
            "  (Lemon Cake, Lemon Tart) has rsupport 0.037\n",
            "  (Strawberry Cake, Napoleon Cake) has rsupport 0.043\n",
            "  (Gongolais Cookie, Truffle Cake) has rsupport 0.044\n",
            "  (Berry Tart, Bottled Water) has rsupport 0.038\n",
            "  (Marzipan Cookie, Tuile Cookie) has rsupport 0.051\n",
            "  (Cheese Croissant, Orange Juice) has rsupport 0.043\n",
            "  (Chocolate Cake, Casino Cake, Chocolate Coffee) has rsupport 0.033\n",
            "  (Cherry Tart, Opera Cake, Apricot Danish) has rsupport 0.041\n",
            "  (Blackberry Tart, Single Espresso, Coffee Eclair) has rsupport 0.027\n",
            "  (Blueberry Tart, Apricot Croissant, Hot Coffee) has rsupport 0.033\n",
            "  (Chocolate Tart, Walnut Cookie, Vanilla Frappuccino) has rsupport 0.027\n",
            "  (Apple Pie, Almond Twist, Hot Coffee, Coffee Eclair) has rsupport 0.028\n",
            "  (Apple Tart, Apple Croissant, Apple Danish, Cherry Soda) has rsupport 0.021\n",
            "  (Raspberry Cookie, Lemon Cookie, Lemon Lemonade, Raspberry Lemonade, Green Tea) has rsupport 0.021\n",
            "\n",
            "There are 10 skyline frequent itemset association rules for minConf 97.0%:\n",
            "  Almond Twist, Hot Coffee, Coffee Eclair -> Apple Pie :   rsupport = 0.028,   conf = 99.29%\n",
            "  Apple Pie, Hot Coffee, Coffee Eclair -> Almond Twist :   rsupport = 0.028,   conf = 99.38%\n",
            "  Apple Pie, Almond Twist, Hot Coffee -> Coffee Eclair :   rsupport = 0.028,   conf = 99.52%\n",
            "  Apple Croissant, Apple Danish, Cherry Soda -> Apple Tart :   rsupport = 0.021,   conf = 98.97%\n",
            "  Apple Tart, Apple Danish, Cherry Soda -> Apple Croissant :   rsupport = 0.021,   conf = 99.29%\n",
            "  Apple Tart, Apple Croissant, Cherry Soda -> Apple Danish :   rsupport = 0.021,   conf = 99.10%\n",
            "  Lemon Cookie, Lemon Lemonade, Raspberry Lemonade, Green Tea -> Raspberry Cookie :   rsupport = 0.021,   conf = 100.00%\n",
            "  Raspberry Cookie, Lemon Lemonade, Raspberry Lemonade, Green Tea -> Lemon Cookie :   rsupport = 0.021,   conf = 99.94%\n",
            "  Raspberry Cookie, Lemon Cookie, Raspberry Lemonade, Green Tea -> Lemon Lemonade :   rsupport = 0.021,   conf = 100.00%\n",
            "  Raspberry Cookie, Lemon Cookie, Lemon Lemonade, Green Tea -> Raspberry Lemonade :   rsupport = 0.021,   conf = 100.00%\n"
          ]
        }
      ]
    },
    {
      "cell_type": "markdown",
      "metadata": {
        "id": "2wuSVOgCJ0gc"
      },
      "source": [
        "Fantasy Bingo Dataset"
      ]
    },
    {
      "cell_type": "code",
      "metadata": {
        "id": "lqE_x2_PlRju"
      },
      "source": [
        "bingo_baskets = get_data(\"/content/drive/MyDrive/Data/bingoBaskets.csv\")\n",
        "#bingo_baskets = get_data(\"bingoBaskets.csv\")"
      ],
      "execution_count": null,
      "outputs": []
    },
    {
      "cell_type": "code",
      "metadata": {
        "id": "YfzDOnBzlsGl"
      },
      "source": [
        "def get_author_names(file_path):\n",
        "  f = open(file_path)\n",
        "  line = f.readline()\n",
        "  d = {}\n",
        "  while line:\n",
        "    the_line = line.strip().split(' | ')\n",
        "    d[the_line[0]] = the_line[1]\n",
        "    line = f.readline()\n",
        "  return d"
      ],
      "execution_count": null,
      "outputs": []
    },
    {
      "cell_type": "code",
      "metadata": {
        "id": "dY5qjQVjmv9n"
      },
      "source": [
        "file_path = \"/content/drive/MyDrive/Data/authorlist.psv\"\n",
        "#file_path = authorlist.psv\n",
        "author_id_to_names = get_author_names(file_path)\n",
        "author_ids = author_id_to_names.keys()"
      ],
      "execution_count": null,
      "outputs": []
    },
    {
      "cell_type": "code",
      "metadata": {
        "colab": {
          "base_uri": "https://localhost:8080/"
        },
        "id": "NKPOede2mV-c",
        "outputId": "fa9358fa-d506-4475-bd1f-af0c38aaf9b8"
      },
      "source": [
        "bingo_res = iterate_minX(apriori, bingo_baskets, author_ids, 0.03, 0.1, 11)"
      ],
      "execution_count": null,
      "outputs": [
        {
          "name": "stdout",
          "output_type": "stream",
          "text": [
            "minRSup 0.03 yielded 1022 skyline frequent itemsets:\n",
            "[('3',), ('8',), ('18',), ('42',), ('49',), ('85',), ('107',), ('125',), ('136',), ('183',), ('190',), ('195',), ('204',), ('215',), ('239',), ('259',), ('276',), ('279',), ('305',), ('338',), ('347',), ('421',), ('435',), ('441',), ('444',), ('482',), ('507',), ('522',), ('524',), ('548',), ('551',), ('641',), ('648',), ('672',), ('689',), ('725',), ('728',), ('752',), ('753',), ('803',), ('805',), ('818',), ('852',), ('861',), ('863',), ('870',), ('878',), ('912',), ('947',), ('954',), ('965',), ('993',), ('1014',), ('1044',), ('1107',), ('1115',), ('1156',), ('1178',), ('1195',), ('1224',), ('1244',), ('1245',), ('1247',), ('1259',), ('1274',), ('1290',), ('1405',), ('6', '91'), ('368', '6'), ('445', '6'), ('6', '743'), ('1029', '6'), ('1109', '6'), ('13', '32'), ('13', '48'), ('13', '68'), ('109', '13'), ('13', '166'), ('13', '197'), ('13', '218'), ('13', '544'), ('13', '644'), ('13', '668'), ('13', '747'), ('13', '880'), ('1117', '13'), ('1217', '13'), ('1279', '13'), ('13', '1387'), ('32', '445'), ('32', '576'), ('32', '617'), ('32', '644'), ('32', '849'), ('32', '880'), ('1029', '32'), ('1085', '32'), ('1279', '32'), ('1283', '32'), ('48', '88'), ('48', '91'), ('109', '48'), ('166', '48'), ('240', '48'), ('368', '48'), ('48', '617'), ('48', '668'), ('48', '747'), ('48', '857'), ('48', '880'), ('48', '960'), ('1029', '48'), ('1109', '48'), ('1120', '48'), ('1172', '48'), ('1217', '48'), ('1279', '48'), ('1321', '48'), ('68', '91'), ('445', '68'), ('644', '68'), ('68', '960'), ('1029', '68'), ('1109', '68'), ('1283', '68'), ('88', '91'), ('197', '88'), ('240', '88'), ('368', '88'), ('445', '88'), ('467', '88'), ('576', '88'), ('743', '88'), ('747', '88'), ('802', '88'), ('849', '88'), ('88', '880'), ('88', '977'), ('1029', '88'), ('1085', '88'), ('1117', '88'), ('1120', '88'), ('1206', '88'), ('1279', '88'), ('1283', '88'), ('1291', '88'), ('1321', '88'), ('91', '95'), ('109', '91'), ('113', '91'), ('188', '91'), ('199', '91'), ('218', '91'), ('272', '91'), ('358', '91'), ('398', '91'), ('433', '91'), ('449', '91'), ('651', '91'), ('757', '91'), ('814', '91'), ('857', '91'), ('1023', '91'), ('1027', '91'), ('1038', '91'), ('1088', '91'), ('1110', '91'), ('1172', '91'), ('1190', '91'), ('1264', '91'), ('1271', '91'), ('1310', '91'), ('1323', '91'), ('1353', '91'), ('1406', '91'), ('644', '95'), ('743', '95'), ('1029', '95'), ('1109', '95'), ('109', '166'), ('109', '576'), ('109', '606'), ('109', '644'), ('109', '747'), ('109', '880'), ('109', '960'), ('109', '1109'), ('109', '1279'), ('109', '1310'), ('113', '166'), ('113', '368'), ('113', '576'), ('113', '644'), ('113', '743'), ('113', '880'), ('1109', '113'), ('123', '166'), ('123', '368'), ('123', '467'), ('123', '576'), ('123', '644'), ('123', '743'), ('123', '747'), ('123', '781'), ('123', '880'), ('123', '955'), ('1085', '123'), ('123', '1279'), ('123', '1283'), ('127', '880'), ('166', '188'), ('166', '197'), ('166', '199'), ('166', '358'), ('166', '445'), ('166', '544'), ('166', '668'), ('166', '694'), ('166', '711'), ('166', '757'), ('166', '802'), ('166', '828'), ('166', '849'), ('166', '857'), ('166', '955'), ('1117', '166'), ('1120', '166'), ('1172', '166'), ('1217', '166'), ('1283', '166'), ('1291', '166'), ('1310', '166'), ('1366', '166'), ('1377', '166'), ('1403', '166'), ('1406', '166'), ('1217', '168'), ('1109', '169'), ('181', '564'), ('181', '644'), ('181', '802'), ('1029', '181'), ('1109', '181'), ('188', '240'), ('188', '644'), ('188', '747'), ('197', '658'), ('197', '668'), ('197', '802'), ('197', '849'), ('197', '880'), ('1377', '197'), ('1403', '197'), ('199', '240'), ('199', '544'), ('199', '644'), ('199', '960'), ('1109', '199'), ('1279', '199'), ('1279', '218'), ('224', '644'), ('1109', '224'), ('240', '382'), ('240', '576'), ('240', '747'), ('240', '780'), ('240', '781'), ('240', '906'), ('240', '955'), ('1085', '240'), ('1117', '240'), ('1206', '240'), ('1279', '240'), ('1366', '240'), ('251', '644'), ('272', '445'), ('272', '960'), ('1029', '272'), ('1109', '272'), ('306', '413'), ('357', '828'), ('358', '368'), ('358', '445'), ('358', '576'), ('358', '644'), ('358', '743'), ('358', '747'), ('358', '802'), ('358', '880'), ('358', '996'), ('1029', '358'), ('1085', '358'), ('1109', '358'), ('1217', '358'), ('1283', '358'), ('368', '467'), ('368', '617'), ('368', '651'), ('368', '857'), ('368', '955'), ('368', '996'), ('1084', '368'), ('1117', '368'), ('1120', '368'), ('1279', '368'), ('1284', '368'), ('1353', '368'), ('1377', '368'), ('1406', '368'), ('387', '576'), ('387', '644'), ('387', '955'), ('1109', '387'), ('398', '467'), ('398', '644'), ('398', '880'), ('445', '658'), ('445', '996'), ('1027', '445'), ('1084', '445'), ('1088', '445'), ('1099', '445'), ('1110', '445'), ('1120', '445'), ('1279', '445'), ('1323', '445'), ('1366', '445'), ('1387', '445'), ('467', '576'), ('467', '747'), ('467', '780'), ('467', '849'), ('467', '880'), ('467', '955'), ('1120', '467'), ('1217', '467'), ('1366', '467'), ('544', '576'), ('544', '644'), ('544', '668'), ('544', '694'), ('1217', '544'), ('1283', '544'), ('564', '576'), ('564', '644'), ('564', '668'), ('564', '694'), ('564', '880'), ('1085', '564'), ('1403', '564'), ('572', '644'), ('1109', '572'), ('576', '651'), ('576', '668'), ('576', '711'), ('576', '747'), ('576', '781'), ('576', '828'), ('576', '845'), ('576', '857'), ('576', '955'), ('1120', '576'), ('1172', '576'), ('1283', '576'), ('1284', '576'), ('1310', '576'), ('1321', '576'), ('1366', '576'), ('1377', '576'), ('1387', '576'), ('1109', '597'), ('617', '747'), ('1029', '617'), ('1109', '617'), ('1120', '617'), ('1283', '617'), ('1337', '617'), ('1109', '629'), ('644', '651'), ('644', '668'), ('644', '711'), ('644', '757'), ('644', '781'), ('644', '828'), ('644', '845'), ('644', '849'), ('644', '857'), ('644', '906'), ('644', '973'), ('644', '977'), ('644', '996'), ('1033', '644'), ('1110', '644'), ('1117', '644'), ('1120', '644'), ('1172', '644'), ('1206', '644'), ('1285', '644'), ('1291', '644'), ('1310', '644'), ('1337', '644'), ('1342', '644'), ('1366', '644'), ('1377', '644'), ('1381', '644'), ('1387', '644'), ('1403', '644'), ('651', '857'), ('651', '880'), ('651', '960'), ('1109', '651'), ('1206', '651'), ('1279', '651'), ('1387', '651'), ('658', '743'), ('1085', '658'), ('1217', '658'), ('668', '880'), ('1029', '668'), ('1085', '668'), ('1283', '668'), ('1387', '668'), ('1084', '694'), ('1117', '694'), ('1283', '694'), ('1377', '694'), ('711', '743'), ('711', '880'), ('711', '960'), ('743', '747'), ('743', '780'), ('743', '828'), ('1023', '743'), ('1027', '743'), ('1099', '743'), ('1117', '743'), ('1172', '743'), ('1190', '743'), ('1279', '743'), ('1284', '743'), ('1323', '743'), ('1342', '743'), ('747', '802'), ('747', '828'), ('747', '849'), ('747', '973'), ('1117', '747'), ('1283', '747'), ('1321', '747'), ('1366', '747'), ('1387', '747'), ('1403', '747'), ('1109', '757'), ('1217', '780'), ('1283', '780'), ('1366', '780'), ('802', '828'), ('802', '849'), ('802', '880'), ('1084', '802'), ('1110', '802'), ('1117', '802'), ('1279', '802'), ('1085', '814'), ('1109', '814'), ('828', '880'), ('828', '960'), ('1403', '845'), ('849', '880'), ('1283', '849'), ('1377', '849'), ('1387', '849'), ('857', '880'), ('1109', '857'), ('1120', '857'), ('1279', '857'), ('1283', '857'), ('880', '955'), ('1027', '880'), ('1172', '880'), ('1284', '880'), ('1310', '880'), ('1366', '880'), ('1377', '880'), ('1387', '880'), ('1403', '880'), ('955', '960'), ('1085', '955'), ('1279', '955'), ('1403', '955'), ('1117', '960'), ('1120', '960'), ('1366', '960'), ('1387', '960'), ('1403', '960'), ('1085', '996'), ('1109', '996'), ('1217', '996'), ('1023', '1109'), ('1027', '1029'), ('1029', '1084'), ('1029', '1110'), ('1029', '1120'), ('1029', '1279'), ('1029', '1310'), ('1029', '1321'), ('1029', '1323'), ('1029', '1337'), ('1038', '1109'), ('1084', '1109'), ('1085', '1117'), ('1085', '1120'), ('1085', '1172'), ('1085', '1279'), ('1085', '1323'), ('1085', '1353'), ('1085', '1377'), ('1085', '1403'), ('1088', '1109'), ('1099', '1109'), ('1099', '1217'), ('1109', '1117'), ('1109', '1120'), ('1109', '1172'), ('1109', '1190'), ('1109', '1264'), ('1109', '1310'), ('1109', '1321'), ('1109', '1323'), ('1109', '1342'), ('1109', '1353'), ('1109', '1381'), ('1109', '1403'), ('1117', '1283'), ('1120', '1279'), ('1120', '1283'), ('1172', '1279'), ('1201', '1385'), ('1206', '1279'), ('1217', '1403'), ('1279', '1283'), ('1279', '1366'), ('1283', '1366'), ('1283', '1403'), ('1284', '1403'), ('13', '576', '91'), ('13', '694', '91'), ('13', '849', '91'), ('13', '91', '960'), ('13', '368', '802'), ('1029', '13', '368'), ('1109', '13', '368'), ('13', '445', '694'), ('13', '445', '849'), ('1109', '13', '445'), ('1283', '13', '445'), ('13', '564', '743'), ('1029', '13', '564'), ('1109', '13', '564'), ('1029', '13', '694'), ('1085', '13', '743'), ('1109', '13', '743'), ('1283', '13', '802'), ('1029', '13', '849'), ('1109', '13', '849'), ('1029', '13', '960'), ('1109', '13', '960'), ('1029', '1109', '13'), ('1109', '1283', '13'), ('1109', '32', '91'), ('1109', '32', '743'), ('48', '576', '644'), ('166', '644', '88'), ('644', '88', '960'), ('1109', '644', '88'), ('123', '240', '91'), ('1109', '123', '91'), ('166', '368', '91'), ('166', '467', '91'), ('166', '576', '91'), ('166', '617', '91'), ('166', '644', '91'), ('166', '743', '91'), ('166', '880', '91'), ('166', '91', '960'), ('1109', '166', '91'), ('1279', '166', '91'), ('181', '368', '91'), ('181', '445', '91'), ('197', '368', '91'), ('197', '445', '91'), ('197', '564', '91'), ('197', '576', '91'), ('197', '91', '960'), ('1085', '197', '91'), ('240', '368', '91'), ('240', '445', '91'), ('240', '467', '91'), ('240', '644', '91'), ('1029', '240', '91'), ('1283', '240', '91'), ('368', '544', '91'), ('368', '576', '91'), ('368', '658', '91'), ('368', '668', '91'), ('368', '747', '91'), ('368', '780', '91'), ('368', '849', '91'), ('1283', '368', '91'), ('1387', '368', '91'), ('1403', '368', '91'), ('445', '544', '91'), ('445', '668', '91'), ('445', '880', '91'), ('445', '91', '955'), ('1085', '445', '91'), ('467', '617', '91'), ('467', '743', '91'), ('467', '91', '960'), ('1109', '467', '91'), ('544', '743', '91'), ('544', '849', '91'), ('544', '91', '960'), ('1109', '544', '91'), ('564', '91', '960'), ('1109', '564', '91'), ('576', '880', '91'), ('1029', '576', '91'), ('1085', '576', '91'), ('1217', '576', '91'), ('617', '644', '91'), ('617', '91', '960'), ('1279', '617', '91'), ('644', '694', '91'), ('644', '802', '91'), ('644', '880', '91'), ('644', '91', '955'), ('1029', '644', '91'), ('1279', '644', '91'), ('1283', '644', '91'), ('1284', '644', '91'), ('668', '694', '91'), ('668', '743', '91'), ('668', '91', '960'), ('1109', '668', '91'), ('694', '802', '91'), ('1085', '694', '91'), ('1109', '711', '91'), ('743', '849', '91'), ('743', '880', '91'), ('743', '91', '960'), ('1085', '743', '91'), ('1120', '743', '91'), ('1377', '743', '91'), ('1387', '743', '91'), ('1029', '747', '91'), ('1109', '747', '91'), ('1217', '747', '91'), ('1284', '747', '91'), ('780', '91', '960'), ('1109', '780', '91'), ('802', '91', '960'), ('1085', '802', '91'), ('1217', '802', '91'), ('1029', '828', '91'), ('849', '91', '960'), ('1217', '849', '91'), ('880', '91', '960'), ('1029', '880', '91'), ('1085', '880', '91'), ('1217', '880', '91'), ('1321', '880', '91'), ('1029', '91', '955'), ('1109', '91', '955'), ('1283', '91', '955'), ('1085', '91', '960'), ('1283', '91', '960'), ('1029', '1085', '91'), ('1029', '1117', '91'), ('1029', '1366', '91'), ('1029', '1403', '91'), ('1085', '1109', '91'), ('1085', '1217', '91'), ('1109', '1279', '91'), ('1109', '1366', '91'), ('1109', '1377', '91'), ('1109', '1387', '91'), ('1120', '1217', '91'), ('1109', '123', '445'), ('166', '240', '644'), ('166', '467', '644'), ('166', '576', '644'), ('166', '576', '880'), ('1279', '166', '576'), ('166', '617', '644'), ('1279', '166', '617'), ('166', '644', '747'), ('166', '644', '880'), ('166', '644', '960'), ('1109', '166', '644'), ('1279', '166', '644'), ('1321', '166', '644'), ('1279', '166', '747'), ('1279', '166', '880'), ('1109', '166', '960'), ('1279', '166', '960'), ('1029', '1109', '166'), ('1085', '1109', '166'), ('1109', '1279', '166'), ('1279', '1321', '166'), ('1109', '168', '743'), ('181', '445', '743'), ('1217', '181', '445'), ('1283', '181', '445'), ('1283', '181', '743'), ('197', '368', '445'), ('1109', '197', '368'), ('197', '445', '564'), ('197', '445', '960'), ('1217', '197', '445'), ('197', '564', '743'), ('1109', '197', '564'), ('197', '576', '694'), ('197', '576', '743'), ('1109', '197', '576'), ('1109', '197', '644'), ('1109', '197', '694'), ('197', '743', '960'), ('1085', '197', '743'), ('1217', '197', '743'), ('1029', '197', '960'), ('1109', '197', '960'), ('1085', '1109', '197'), ('1109', '1283', '197'), ('1217', '1283', '197'), ('240', '368', '880'), ('1109', '240', '368'), ('1109', '240', '445'), ('240', '644', '960'), ('1109', '240', '644'), ('1283', '240', '644'), ('1109', '240', '960'), ('1109', '1217', '240'), ('1109', '1283', '240'), ('1109', '1387', '240'), ('368', '445', '644'), ('368', '445', '694'), ('368', '445', '880'), ('1029', '368', '445'), ('1085', '368', '445'), ('1109', '368', '445'), ('1217', '368', '445'), ('1109', '368', '544'), ('368', '564', '802'), ('1029', '368', '564'), ('368', '576', '694'), ('1085', '368', '576'), ('1109', '368', '576'), ('368', '644', '694'), ('368', '644', '743'), ('368', '644', '802'), ('368', '644', '880'), ('368', '644', '960'), ('368', '694', '802'), ('1085', '368', '694'), ('1109', '368', '694'), ('368', '743', '880'), ('368', '743', '960'), ('1029', '368', '743'), ('1085', '368', '743'), ('1217', '368', '743'), ('368', '747', '880'), ('1109', '368', '747'), ('1029', '368', '802'), ('1109', '368', '802'), ('1217', '368', '880'), ('1029', '1283', '368'), ('1085', '1109', '368'), ('1109', '1387', '368'), ('1109', '398', '743'), ('1109', '445', '467'), ('445', '544', '743'), ('1109', '445', '544'), ('445', '564', '802'), ('1109', '445', '564'), ('445', '576', '644'), ('445', '576', '694'), ('1029', '445', '576'), ('1109', '445', '576'), ('1217', '445', '576'), ('445', '644', '694'), ('445', '644', '802'), ('445', '644', '960'), ('1029', '445', '644'), ('1217', '445', '644'), ('1283', '445', '644'), ('1085', '445', '694'), ('1109', '445', '694'), ('445', '743', '880'), ('445', '743', '960'), ('1085', '445', '743'), ('1403', '445', '743'), ('445', '747', '880'), ('445', '747', '955'), ('1029', '445', '747'), ('1109', '445', '747'), ('445', '802', '960'), ('1217', '445', '802'), ('1029', '445', '828'), ('445', '849', '960'), ('1217', '445', '849'), ('445', '880', '960'), ('1029', '445', '880'), ('1109', '445', '880'), ('1109', '445', '955'), ('1029', '1217', '445'), ('1085', '1283', '445'), ('1217', '1283', '445'), ('1279', '467', '644'), ('1109', '467', '743'), ('1109', '467', '960'), ('1029', '1109', '467'), ('1085', '1109', '467'), ('1029', '544', '743'), ('1085', '544', '743'), ('1109', '544', '960'), ('1109', '564', '743'), ('1109', '564', '849'), ('1029', '1109', '564'), ('1029', '1217', '564'), ('1109', '1283', '564'), ('1217', '1283', '564'), ('576', '644', '694'), ('576', '644', '743'), ('576', '644', '802'), ('576', '644', '880'), ('576', '644', '960'), ('1279', '576', '644'), ('576', '694', '960'), ('1085', '576', '694'), ('576', '743', '960'), ('1029', '576', '743'), ('1085', '576', '743'), ('1109', '576', '802'), ('1217', '576', '802'), ('1109', '576', '849'), ('576', '880', '960'), ('1029', '576', '880'), ('1085', '576', '880'), ('1117', '576', '880'), ('1085', '576', '960'), ('1109', '576', '960'), ('1029', '1109', '576'), ('1029', '1217', '576'), ('1109', '1217', '576'), ('1279', '617', '644'), ('1109', '644', '694'), ('644', '743', '802'), ('1085', '644', '743'), ('1109', '644', '743'), ('1283', '644', '743'), ('644', '747', '960'), ('1109', '644', '747'), ('1279', '644', '747'), ('1284', '644', '747'), ('1109', '644', '802'), ('1109', '644', '880'), ('1109', '644', '955'), ('1217', '644', '960'), ('1279', '644', '960'), ('1283', '644', '960'), ('1321', '644', '960'), ('1029', '1109', '644'), ('1029', '1283', '644'), ('1109', '1279', '644'), ('1109', '1283', '644'), ('1109', '1284', '644'), ('1029', '1109', '658'), ('694', '743', '802'), ('694', '743', '880'), ('1085', '694', '743'), ('1109', '694', '743'), ('1029', '694', '802'), ('1109', '694', '802'), ('1109', '694', '828'), ('1109', '694', '849'), ('1085', '694', '960'), ('1029', '1109', '694'), ('1085', '1109', '694'), ('1109', '1217', '694'), ('1029', '743', '802'), ('1085', '743', '802'), ('1109', '743', '802'), ('1029', '743', '849'), ('1109', '743', '849'), ('1217', '743', '849'), ('1029', '743', '880'), ('1109', '743', '880'), ('1109', '743', '955'), ('1029', '743', '960'), ('1085', '743', '960'), ('1109', '743', '960'), ('1029', '1085', '743'), ('1085', '1109', '743'), ('1085', '1217', '743'), ('1085', '1283', '743'), ('1085', '1366', '743'), ('1109', '1366', '743'), ('1109', '747', '880'), ('1109', '747', '955'), ('1109', '747', '960'), ('1085', '1109', '747'), ('1109', '802', '960'), ('1029', '1283', '802'), ('1085', '1109', '802'), ('1109', '1283', '802'), ('1029', '1085', '828'), ('1109', '849', '960'), ('1029', '1109', '849'), ('1085', '1109', '849'), ('1109', '1217', '849'), ('1109', '1366', '849'), ('1029', '880', '960'), ('1085', '880', '960'), ('1109', '880', '960'), ('1029', '1085', '880'), ('1029', '1109', '880'), ('1085', '1109', '880'), ('1109', '1217', '880'), ('1029', '1109', '955'), ('1085', '1109', '960'), ('1109', '1283', '960'), ('1029', '1109', '1283'), ('1085', '1109', '1217'), ('1109', '1217', '1283'), ('13', '368', '445', '91'), ('13', '368', '564', '91'), ('13', '445', '743', '91'), ('13', '564', '802', '91'), ('13', '743', '802', '91'), ('1283', '13', '743', '91'), ('1109', '13', '802', '91'), ('13', '368', '445', '743'), ('1029', '13', '445', '743'), ('1109', '197', '743', '91'), ('1283', '197', '743', '91'), ('1109', '240', '743', '91'), ('368', '445', '564', '91'), ('368', '445', '743', '91'), ('1109', '368', '644', '91'), ('368', '743', '802', '91'), ('1109', '368', '743', '91'), ('1109', '368', '880', '91'), ('1109', '368', '91', '960'), ('1217', '368', '91', '960'), ('1029', '1109', '368', '91'), ('1029', '1217', '368', '91'), ('1109', '1217', '368', '91'), ('445', '564', '743', '91'), ('1029', '445', '564', '91'), ('1283', '445', '564', '91'), ('445', '576', '743', '91'), ('445', '644', '743', '91'), ('1109', '445', '644', '91'), ('445', '694', '743', '91'), ('1029', '445', '694', '91'), ('445', '743', '802', '91'), ('1029', '445', '743', '91'), ('1109', '445', '743', '91'), ('1217', '445', '743', '91'), ('1283', '445', '743', '91'), ('1029', '445', '849', '91'), ('1109', '445', '849', '91'), ('1029', '445', '91', '960'), ('1109', '445', '91', '960'), ('1217', '445', '91', '960'), ('1029', '1109', '445', '91'), ('1029', '1283', '445', '91'), ('1109', '1217', '445', '91'), ('1029', '564', '743', '91'), ('1283', '564', '743', '91'), ('1109', '576', '644', '91'), ('576', '694', '743', '91'), ('576', '743', '802', '91'), ('1109', '576', '743', '91'), ('1109', '644', '91', '960'), ('1109', '1217', '644', '91'), ('1109', '694', '91', '960'), ('1283', '743', '802', '91'), ('1029', '1109', '743', '91'), ('1029', '1217', '743', '91'), ('1029', '1283', '743', '91'), ('1109', '1217', '743', '91'), ('1109', '1283', '743', '91'), ('1217', '1283', '743', '91'), ('1029', '1109', '802', '91'), ('1029', '1109', '91', '960'), ('1109', '1217', '91', '960'), ('1029', '1109', '1217', '91'), ('1029', '1217', '1283', '91'), ('1283', '197', '445', '743'), ('1029', '1109', '197', '445'), ('1283', '368', '445', '564'), ('368', '445', '743', '802'), ('1283', '368', '445', '743'), ('1283', '368', '743', '802'), ('1029', '445', '564', '743'), ('1283', '445', '564', '743'), ('1283', '445', '743', '802'), ('1029', '1109', '445', '743'), ('1029', '1283', '445', '743'), ('1109', '1217', '445', '743'), ('1109', '1283', '445', '743'), ('1029', '1109', '445', '802'), ('1029', '1085', '1109', '445'), ('1283', '564', '743', '802'), ('1029', '1283', '564', '743'), ('1085', '1109', '576', '644'), ('1109', '576', '694', '880'), ('1029', '1109', '1217', '743'), ('1029', '1217', '1283', '743'), ('1029', '13', '445', '802', '91')]\n",
            "minRSup 0.037 yielded 774 skyline frequent itemsets:\n",
            "[('8',), ('18',), ('42',), ('49',), ('107',), ('125',), ('127',), ('183',), ('195',), ('204',), ('215',), ('259',), ('272',), ('279',), ('347',), ('382',), ('421',), ('435',), ('441',), ('449',), ('507',), ('522',), ('548',), ('606',), ('629',), ('641',), ('648',), ('672',), ('689',), ('725',), ('752',), ('803',), ('818',), ('861',), ('863',), ('870',), ('878',), ('906',), ('912',), ('965',), ('973',), ('1038',), ('1107',), ('1115',), ('1156',), ('1178',), ('1224',), ('1244',), ('1245',), ('1247',), ('1259',), ('1342',), ('1405',), ('6', '91'), ('368', '6'), ('445', '6'), ('6', '743'), ('1029', '6'), ('1109', '6'), ('13', '48'), ('13', '166'), ('13', '197'), ('13', '544'), ('13', '644'), ('13', '694'), ('13', '747'), ('13', '880'), ('1085', '13'), ('1117', '13'), ('1217', '13'), ('1279', '13'), ('13', '1387'), ('32', '91'), ('32', '445'), ('32', '576'), ('32', '743'), ('32', '880'), ('1085', '32'), ('1109', '32'), ('1283', '32'), ('48', '88'), ('48', '91'), ('109', '48'), ('166', '48'), ('368', '48'), ('48', '576'), ('48', '617'), ('48', '644'), ('48', '668'), ('48', '747'), ('48', '857'), ('48', '880'), ('1029', '48'), ('1109', '48'), ('1120', '48'), ('1172', '48'), ('1279', '48'), ('1321', '48'), ('68', '91'), ('68', '960'), ('1109', '68'), ('1283', '68'), ('88', '91'), ('166', '88'), ('197', '88'), ('240', '88'), ('368', '88'), ('445', '88'), ('467', '88'), ('576', '88'), ('743', '88'), ('747', '88'), ('802', '88'), ('849', '88'), ('88', '880'), ('88', '977'), ('1029', '88'), ('1085', '88'), ('1117', '88'), ('1120', '88'), ('1283', '88'), ('91', '95'), ('113', '91'), ('123', '91'), ('181', '91'), ('188', '91'), ('199', '91'), ('218', '91'), ('358', '91'), ('398', '91'), ('433', '91'), ('651', '91'), ('658', '91'), ('711', '91'), ('757', '91'), ('780', '91'), ('857', '91'), ('1023', '91'), ('1027', '91'), ('1110', '91'), ('1120', '91'), ('1172', '91'), ('1271', '91'), ('1310', '91'), ('1377', '91'), ('1387', '91'), ('1406', '91'), ('644', '95'), ('1109', '95'), ('109', '166'), ('109', '576'), ('109', '644'), ('109', '747'), ('109', '880'), ('109', '960'), ('109', '1279'), ('113', '166'), ('113', '368'), ('113', '576'), ('113', '644'), ('113', '743'), ('113', '880'), ('1109', '113'), ('123', '166'), ('123', '240'), ('123', '368'), ('123', '445'), ('123', '467'), ('123', '644'), ('123', '743'), ('123', '747'), ('123', '880'), ('123', '955'), ('1085', '123'), ('1109', '123'), ('123', '1279'), ('123', '1283'), ('166', '188'), ('166', '197'), ('166', '240'), ('166', '358'), ('166', '368'), ('166', '445'), ('166', '544'), ('166', '694'), ('166', '711'), ('166', '743'), ('166', '802'), ('166', '828'), ('166', '849'), ('166', '857'), ('166', '955'), ('1085', '166'), ('1117', '166'), ('1120', '166'), ('1172', '166'), ('1217', '166'), ('1283', '166'), ('1291', '166'), ('1366', '166'), ('1403', '166'), ('1109', '168'), ('1109', '169'), ('181', '368'), ('1029', '181'), ('1109', '181'), ('1217', '181'), ('1283', '181'), ('188', '240'), ('197', '668'), ('197', '802'), ('199', '240'), ('199', '544'), ('199', '644'), ('199', '960'), ('1109', '199'), ('1109', '224'), ('240', '445'), ('240', '576'), ('240', '747'), ('240', '780'), ('240', '781'), ('240', '880'), ('240', '955'), ('1117', '240'), ('1206', '240'), ('1279', '240'), ('1366', '240'), ('251', '644'), ('306', '413'), ('357', '828'), ('358', '368'), ('358', '445'), ('358', '576'), ('358', '644'), ('358', '747'), ('358', '802'), ('358', '996'), ('1029', '358'), ('1085', '358'), ('1109', '358'), ('1217', '358'), ('1283', '358'), ('368', '467'), ('368', '544'), ('368', '617'), ('368', '658'), ('368', '747'), ('368', '780'), ('368', '849'), ('368', '857'), ('368', '955'), ('368', '996'), ('1120', '368'), ('1279', '368'), ('1284', '368'), ('1377', '368'), ('1387', '368'), ('387', '576'), ('387', '644'), ('387', '955'), ('398', '743'), ('1109', '398'), ('445', '658'), ('445', '668'), ('445', '828'), ('445', '996'), ('1084', '445'), ('1099', '445'), ('1110', '445'), ('1120', '445'), ('1279', '445'), ('1323', '445'), ('1387', '445'), ('1403', '445'), ('467', '576'), ('467', '617'), ('467', '880'), ('1029', '467'), ('1279', '467'), ('1366', '467'), ('544', '644'), ('544', '668'), ('544', '849'), ('544', '960'), ('1085', '544'), ('1217', '544'), ('1283', '544'), ('564', '694'), ('564', '849'), ('564', '880'), ('564', '960'), ('1085', '564'), ('1217', '564'), ('1403', '564'), ('1109', '572'), ('576', '668'), ('576', '711'), ('576', '747'), ('576', '828'), ('576', '845'), ('576', '849'), ('576', '857'), ('576', '955'), ('1117', '576'), ('1120', '576'), ('1172', '576'), ('1279', '576'), ('1283', '576'), ('1284', '576'), ('1321', '576'), ('1387', '576'), ('617', '747'), ('617', '960'), ('1029', '617'), ('1120', '617'), ('644', '651'), ('644', '668'), ('644', '711'), ('644', '757'), ('644', '781'), ('644', '849'), ('644', '857'), ('644', '996'), ('1033', '644'), ('1117', '644'), ('1120', '644'), ('1172', '644'), ('1206', '644'), ('1285', '644'), ('1291', '644'), ('1310', '644'), ('1337', '644'), ('1366', '644'), ('1387', '644'), ('1403', '644'), ('651', '880'), ('1109', '651'), ('1279', '651'), ('658', '743'), ('1085', '658'), ('668', '694'), ('668', '880'), ('1283', '668'), ('694', '828'), ('694', '849'), ('1217', '694'), ('1283', '694'), ('1377', '694'), ('711', '880'), ('711', '960'), ('1109', '711'), ('743', '747'), ('743', '780'), ('743', '828'), ('743', '955'), ('1027', '743'), ('1099', '743'), ('1117', '743'), ('1120', '743'), ('1190', '743'), ('1279', '743'), ('1377', '743'), ('1387', '743'), ('1403', '743'), ('747', '802'), ('747', '828'), ('747', '849'), ('1029', '747'), ('1085', '747'), ('1117', '747'), ('1217', '747'), ('1283', '747'), ('1284', '747'), ('1321', '747'), ('1387', '747'), ('780', '960'), ('1109', '780'), ('1283', '780'), ('1085', '802'), ('1117', '802'), ('1217', '802'), ('1279', '802'), ('1085', '814'), ('1109', '814'), ('1085', '828'), ('1109', '828'), ('849', '880'), ('1283', '849'), ('1366', '849'), ('1377', '849'), ('1387', '849'), ('1109', '857'), ('1120', '857'), ('1279', '857'), ('880', '955'), ('1117', '880'), ('1172', '880'), ('1217', '880'), ('1284', '880'), ('1377', '880'), ('1403', '880'), ('955', '960'), ('1085', '955'), ('1283', '955'), ('1117', '960'), ('1366', '960'), ('1387', '960'), ('1403', '960'), ('1085', '996'), ('1109', '996'), ('1027', '1029'), ('1029', '1084'), ('1029', '1120'), ('1029', '1279'), ('1029', '1323'), ('1029', '1366'), ('1084', '1109'), ('1085', '1117'), ('1085', '1172'), ('1085', '1279'), ('1085', '1353'), ('1085', '1366'), ('1085', '1377'), ('1085', '1403'), ('1088', '1109'), ('1099', '1217'), ('1109', '1117'), ('1109', '1120'), ('1109', '1172'), ('1109', '1264'), ('1109', '1284'), ('1109', '1321'), ('1109', '1323'), ('1109', '1353'), ('1109', '1377'), ('1109', '1381'), ('1109', '1387'), ('1109', '1403'), ('1120', '1217'), ('1120', '1279'), ('1120', '1283'), ('1172', '1279'), ('1201', '1385'), ('1217', '1403'), ('1279', '1283'), ('1279', '1321'), ('1279', '1366'), ('1283', '1366'), ('1284', '1403'), ('13', '368', '91'), ('13', '564', '91'), ('13', '576', '91'), ('13', '849', '91'), ('13', '91', '960'), ('1283', '13', '91'), ('13', '368', '445'), ('13', '368', '743'), ('13', '445', '849'), ('1109', '13', '445'), ('1283', '13', '445'), ('13', '743', '802'), ('1029', '13', '743'), ('1109', '13', '743'), ('1283', '13', '743'), ('1283', '13', '802'), ('1109', '13', '849'), ('1109', '13', '960'), ('1029', '1109', '13'), ('644', '88', '960'), ('1109', '644', '88'), ('166', '467', '91'), ('166', '576', '91'), ('166', '644', '91'), ('166', '91', '960'), ('1109', '166', '91'), ('1279', '166', '91'), ('197', '445', '91'), ('197', '91', '960'), ('240', '467', '91'), ('240', '644', '91'), ('1029', '240', '91'), ('1109', '240', '91'), ('1283', '240', '91'), ('368', '445', '91'), ('368', '564', '91'), ('368', '668', '91'), ('368', '802', '91'), ('368', '880', '91'), ('1029', '368', '91'), ('1403', '368', '91'), ('445', '544', '91'), ('445', '576', '91'), ('445', '644', '91'), ('445', '694', '91'), ('445', '849', '91'), ('445', '880', '91'), ('1085', '445', '91'), ('467', '91', '960'), ('1109', '467', '91'), ('544', '743', '91'), ('1109', '544', '91'), ('564', '802', '91'), ('1109', '564', '91'), ('576', '880', '91'), ('1029', '576', '91'), ('1085', '576', '91'), ('1217', '576', '91'), ('617', '644', '91'), ('1279', '617', '91'), ('644', '694', '91'), ('644', '743', '91'), ('644', '802', '91'), ('1029', '644', '91'), ('1217', '644', '91'), ('1279', '644', '91'), ('1283', '644', '91'), ('1284', '644', '91'), ('668', '743', '91'), ('668', '91', '960'), ('1109', '668', '91'), ('694', '802', '91'), ('694', '91', '960'), ('1029', '694', '91'), ('1085', '694', '91'), ('1109', '694', '91'), ('743', '849', '91'), ('743', '880', '91'), ('743', '91', '960'), ('1085', '743', '91'), ('1109', '747', '91'), ('802', '91', '960'), ('1283', '802', '91'), ('1029', '828', '91'), ('849', '91', '960'), ('1029', '849', '91'), ('1109', '849', '91'), ('1029', '880', '91'), ('1109', '880', '91'), ('1321', '880', '91'), ('1109', '91', '955'), ('1283', '91', '960'), ('1029', '1085', '91'), ('1029', '1117', '91'), ('1029', '1403', '91'), ('1085', '1109', '91'), ('1085', '1217', '91'), ('1109', '1366', '91'), ('1217', '1283', '91'), ('166', '467', '644'), ('166', '576', '644'), ('166', '576', '880'), ('166', '617', '644'), ('1279', '166', '617'), ('166', '644', '747'), ('166', '644', '880'), ('166', '644', '960'), ('1109', '166', '644'), ('1279', '166', '644'), ('1321', '166', '644'), ('1279', '166', '880'), ('1109', '166', '960'), ('1029', '1109', '166'), ('181', '445', '743'), ('1109', '197', '368'), ('197', '445', '743'), ('197', '445', '960'), ('1029', '197', '445'), ('1109', '197', '445'), ('1217', '197', '445'), ('1283', '197', '445'), ('197', '564', '743'), ('1109', '197', '564'), ('197', '576', '694'), ('197', '576', '743'), ('1109', '197', '576'), ('1109', '197', '644'), ('1109', '197', '694'), ('197', '743', '960'), ('1085', '197', '743'), ('1283', '197', '743'), ('1109', '197', '960'), ('1029', '1109', '197'), ('1085', '1109', '197'), ('1109', '1283', '197'), ('1109', '240', '368'), ('240', '644', '960'), ('1109', '240', '644'), ('1283', '240', '644'), ('1109', '240', '743'), ('1109', '240', '960'), ('1109', '1217', '240'), ('1109', '1283', '240'), ('368', '445', '564'), ('368', '445', '743'), ('368', '445', '802'), ('1109', '368', '445'), ('1217', '368', '445'), ('1283', '368', '445'), ('1029', '368', '564'), ('1283', '368', '564'), ('1085', '368', '576'), ('368', '644', '743'), ('368', '644', '802'), ('368', '694', '802'), ('1109', '368', '694'), ('368', '743', '802'), ('1029', '368', '743'), ('1085', '368', '743'), ('1283', '368', '743'), ('1029', '368', '802'), ('1109', '368', '802'), ('1283', '368', '802'), ('1109', '368', '880'), ('1029', '1109', '368'), ('1029', '1217', '368'), ('1085', '1109', '368'), ('1109', '1217', '368'), ('1109', '445', '467'), ('1109', '445', '564'), ('445', '576', '644'), ('445', '576', '694'), ('445', '576', '743'), ('1029', '445', '576'), ('1109', '445', '576'), ('445', '644', '694'), ('445', '644', '743'), ('445', '644', '802'), ('1109', '445', '644'), ('1217', '445', '644'), ('1283', '445', '644'), ('445', '694', '743'), ('1029', '445', '694'), ('1109', '445', '694'), ('445', '743', '960'), ('1085', '445', '743'), ('445', '747', '880'), ('1109', '445', '747'), ('445', '802', '960'), ('1109', '445', '802'), ('1109', '445', '849'), ('445', '880', '960'), ('1029', '445', '880'), ('1109', '445', '880'), ('1109', '445', '955'), ('1029', '445', '960'), ('1109', '445', '960'), ('1029', '1217', '445'), ('1109', '1283', '445'), ('1217', '1283', '445'), ('1109', '467', '743'), ('1109', '467', '960'), ('1085', '1109', '467'), ('1029', '544', '743'), ('1029', '564', '743'), ('1109', '564', '743'), ('1029', '1109', '564'), ('1029', '1283', '564'), ('576', '644', '694'), ('576', '644', '743'), ('576', '644', '802'), ('576', '644', '880'), ('576', '644', '960'), ('1085', '576', '644'), ('576', '694', '880'), ('1085', '576', '694'), ('1109', '576', '694'), ('1109', '576', '743'), ('1109', '576', '802'), ('1029', '576', '880'), ('1085', '576', '880'), ('1109', '576', '880'), ('1109', '576', '960'), ('1029', '1109', '576'), ('1085', '1109', '576'), ('1279', '617', '644'), ('1109', '644', '694'), ('1085', '644', '743'), ('1109', '644', '743'), ('1283', '644', '743'), ('1109', '644', '747'), ('1279', '644', '747'), ('1109', '644', '802'), ('1109', '644', '880'), ('1109', '644', '955'), ('1217', '644', '960'), ('1279', '644', '960'), ('1321', '644', '960'), ('1029', '1109', '644'), ('1029', '1283', '644'), ('1085', '1109', '644'), ('1109', '1217', '644'), ('1109', '1279', '644'), ('1109', '1283', '644'), ('1029', '1109', '658'), ('1085', '694', '743'), ('1109', '694', '743'), ('1029', '694', '802'), ('1109', '694', '802'), ('1109', '694', '880'), ('1085', '694', '960'), ('1109', '694', '960'), ('1029', '1109', '694'), ('1085', '1109', '694'), ('1109', '743', '802'), ('1029', '743', '849'), ('1109', '743', '849'), ('1109', '743', '880'), ('1029', '743', '960'), ('1085', '743', '960'), ('1109', '743', '960'), ('1029', '1085', '743'), ('1085', '1109', '743'), ('1085', '1283', '743'), ('1109', '1366', '743'), ('1217', '1283', '743'), ('1109', '747', '955'), ('1109', '747', '960'), ('1109', '802', '960'), ('1029', '1283', '802'), ('1109', '1283', '802'), ('1109', '849', '960'), ('1029', '1109', '849'), ('1085', '1109', '849'), ('1109', '1217', '849'), ('1085', '880', '960'), ('1109', '880', '960'), ('1029', '1109', '880'), ('1085', '1109', '880'), ('1029', '1109', '955'), ('1085', '1109', '960'), ('1109', '1217', '960'), ('1109', '1283', '960'), ('1029', '1109', '1283'), ('1029', '1217', '1283'), ('1085', '1109', '1217'), ('13', '445', '743', '91'), ('13', '445', '802', '91'), ('1029', '13', '445', '91'), ('1029', '13', '802', '91'), ('1109', '13', '802', '91'), ('1109', '197', '743', '91'), ('1109', '368', '644', '91'), ('1109', '368', '743', '91'), ('1109', '368', '91', '960'), ('1217', '368', '91', '960'), ('445', '564', '743', '91'), ('1029', '445', '564', '91'), ('445', '743', '802', '91'), ('1029', '445', '743', '91'), ('1109', '445', '743', '91'), ('1217', '445', '743', '91'), ('1283', '445', '743', '91'), ('1029', '445', '802', '91'), ('1217', '445', '91', '960'), ('1029', '1109', '445', '91'), ('1029', '1283', '445', '91'), ('1109', '1217', '445', '91'), ('1283', '564', '743', '91'), ('1109', '576', '644', '91'), ('576', '694', '743', '91'), ('576', '743', '802', '91'), ('1109', '644', '91', '960'), ('1029', '1109', '743', '91'), ('1029', '1217', '743', '91'), ('1029', '1283', '743', '91'), ('1109', '1217', '743', '91'), ('1109', '1283', '743', '91'), ('1029', '1109', '802', '91'), ('1029', '1109', '91', '960'), ('1029', '1109', '1217', '91'), ('1283', '445', '564', '743'), ('1283', '445', '743', '802'), ('1029', '1085', '1109', '445')]\n",
            "minRSup 0.044 yielded 489 skyline frequent itemsets:\n",
            "[('6',), ('18',), ('42',), ('49',), ('107',), ('127',), ('169',), ('183',), ('215',), ('218',), ('259',), ('272',), ('279',), ('347',), ('357',), ('382',), ('433',), ('441',), ('449',), ('522',), ('572',), ('606',), ('648',), ('672',), ('689',), ('725',), ('752',), ('781',), ('803',), ('814',), ('845',), ('861',), ('863',), ('870',), ('906',), ('973',), ('977',), ('1023',), ('1033',), ('1038',), ('1099',), ('1110',), ('1115',), ('1178',), ('1190',), ('1206',), ('1224',), ('1244',), ('1245',), ('1247',), ('1264',), ('1271',), ('1285',), ('1323',), ('1337',), ('1342',), ('1353',), ('1381',), ('1385',), ('1405',), ('1406',), ('13', '564'), ('13', '576'), ('13', '644'), ('13', '694'), ('13', '747'), ('13', '960'), ('1085', '13'), ('1283', '13'), ('32', '91'), ('32', '445'), ('32', '743'), ('1085', '32'), ('1109', '32'), ('1283', '32'), ('48', '88'), ('48', '91'), ('166', '48'), ('48', '576'), ('48', '644'), ('48', '880'), ('1029', '48'), ('1279', '48'), ('68', '91'), ('1109', '68'), ('88', '91'), ('166', '88'), ('240', '88'), ('368', '88'), ('576', '88'), ('644', '88'), ('743', '88'), ('88', '960'), ('1029', '88'), ('1085', '88'), ('1109', '88'), ('113', '91'), ('123', '91'), ('181', '91'), ('188', '91'), ('199', '91'), ('358', '91'), ('398', '91'), ('467', '91'), ('544', '91'), ('617', '91'), ('668', '91'), ('780', '91'), ('1027', '91'), ('1117', '91'), ('1120', '91'), ('1172', '91'), ('1279', '91'), ('1284', '91'), ('1321', '91'), ('1366', '91'), ('1377', '91'), ('1387', '91'), ('1403', '91'), ('644', '95'), ('1109', '95'), ('109', '644'), ('109', '747'), ('123', '166'), ('123', '240'), ('123', '467'), ('123', '644'), ('123', '880'), ('123', '955'), ('1109', '123'), ('123', '1279'), ('166', '188'), ('166', '240'), ('166', '358'), ('166', '368'), ('166', '445'), ('166', '467'), ('166', '694'), ('166', '743'), ('166', '802'), ('166', '880'), ('1029', '166'), ('1085', '166'), ('1117', '166'), ('1217', '166'), ('1283', '166'), ('1321', '166'), ('1366', '166'), ('1109', '168'), ('181', '368'), ('181', '445'), ('181', '743'), ('1029', '181'), ('1217', '181'), ('197', '368'), ('197', '564'), ('197', '644'), ('197', '694'), ('1085', '197'), ('1217', '197'), ('1109', '224'), ('240', '368'), ('240', '445'), ('240', '467'), ('240', '576'), ('240', '747'), ('240', '880'), ('240', '960'), ('1029', '240'), ('1366', '240'), ('251', '644'), ('306', '413'), ('1029', '358'), ('1085', '358'), ('1109', '358'), ('1217', '358'), ('368', '467'), ('368', '544'), ('368', '576'), ('368', '668'), ('368', '747'), ('368', '849'), ('368', '955'), ('368', '996'), ('1085', '368'), ('1120', '368'), ('1387', '368'), ('1403', '368'), ('387', '644'), ('1109', '398'), ('445', '467'), ('445', '544'), ('445', '668'), ('445', '747'), ('1120', '445'), ('1279', '445'), ('1403', '445'), ('467', '576'), ('467', '617'), ('467', '644'), ('467', '743'), ('467', '880'), ('467', '960'), ('1029', '467'), ('1085', '467'), ('1109', '467'), ('1279', '467'), ('544', '644'), ('544', '743'), ('544', '849'), ('1029', '544'), ('1085', '544'), ('1109', '544'), ('1283', '544'), ('564', '802'), ('564', '960'), ('1109', '564'), ('1217', '564'), ('576', '711'), ('576', '747'), ('576', '849'), ('1117', '576'), ('1120', '576'), ('1172', '576'), ('1217', '576'), ('1279', '576'), ('1283', '576'), ('1321', '576'), ('1387', '576'), ('617', '960'), ('1279', '617'), ('644', '668'), ('644', '711'), ('644', '757'), ('644', '802'), ('644', '849'), ('644', '857'), ('1117', '644'), ('1120', '644'), ('1172', '644'), ('1284', '644'), ('1291', '644'), ('1310', '644'), ('1321', '644'), ('1366', '644'), ('1387', '644'), ('1403', '644'), ('1279', '651'), ('1029', '658'), ('1109', '658'), ('668', '694'), ('668', '743'), ('668', '960'), ('1109', '668'), ('694', '802'), ('694', '828'), ('694', '849'), ('1283', '694'), ('1109', '711'), ('743', '747'), ('743', '880'), ('743', '955'), ('1120', '743'), ('1366', '743'), ('1403', '743'), ('747', '880'), ('747', '955'), ('747', '960'), ('1029', '747'), ('1085', '747'), ('1217', '747'), ('1279', '747'), ('1284', '747'), ('1321', '747'), ('1387', '747'), ('1109', '780'), ('802', '960'), ('1085', '802'), ('1117', '802'), ('1217', '802'), ('1029', '828'), ('1085', '828'), ('1109', '828'), ('849', '960'), ('1029', '849'), ('1085', '849'), ('1217', '849'), ('1279', '857'), ('880', '955'), ('880', '960'), ('1117', '880'), ('1217', '880'), ('1279', '880'), ('1321', '880'), ('1377', '880'), ('1403', '880'), ('1029', '955'), ('1117', '960'), ('1279', '960'), ('1283', '960'), ('1321', '960'), ('1387', '960'), ('1403', '960'), ('1085', '996'), ('1029', '1117'), ('1029', '1279'), ('1029', '1366'), ('1029', '1403'), ('1084', '1109'), ('1085', '1217'), ('1085', '1283'), ('1085', '1366'), ('1088', '1109'), ('1109', '1120'), ('1109', '1284'), ('1109', '1366'), ('1109', '1387'), ('1109', '1403'), ('1120', '1217'), ('1120', '1283'), ('1279', '1283'), ('1283', '1366'), ('13', '445', '91'), ('13', '743', '91'), ('13', '802', '91'), ('13', '849', '91'), ('1029', '13', '91'), ('1109', '13', '91'), ('13', '368', '445'), ('13', '445', '743'), ('13', '445', '802'), ('1029', '13', '445'), ('1109', '13', '445'), ('1109', '13', '849'), ('166', '644', '91'), ('197', '743', '91'), ('1109', '197', '91'), ('1109', '240', '91'), ('368', '445', '91'), ('368', '564', '91'), ('368', '644', '91'), ('368', '743', '91'), ('368', '802', '91'), ('368', '880', '91'), ('368', '91', '960'), ('1029', '368', '91'), ('1109', '368', '91'), ('1217', '368', '91'), ('445', '564', '91'), ('445', '644', '91'), ('445', '694', '91'), ('445', '849', '91'), ('445', '91', '960'), ('1283', '445', '91'), ('564', '743', '91'), ('1029', '564', '91'), ('1283', '564', '91'), ('576', '644', '91'), ('576', '694', '91'), ('576', '743', '91'), ('576', '802', '91'), ('576', '880', '91'), ('1029', '576', '91'), ('1109', '576', '91'), ('644', '743', '91'), ('644', '91', '960'), ('1029', '644', '91'), ('1109', '644', '91'), ('1217', '644', '91'), ('694', '743', '91'), ('1029', '694', '91'), ('1109', '694', '91'), ('743', '802', '91'), ('743', '91', '960'), ('1085', '743', '91'), ('1109', '743', '91'), ('1283', '743', '91'), ('1109', '747', '91'), ('1109', '802', '91'), ('1283', '802', '91'), ('1109', '849', '91'), ('1029', '880', '91'), ('1109', '880', '91'), ('1109', '91', '955'), ('1217', '91', '960'), ('1029', '1085', '91'), ('1029', '1283', '91'), ('1085', '1109', '91'), ('1109', '1217', '91'), ('1109', '1283', '91'), ('166', '576', '644'), ('166', '617', '644'), ('166', '644', '747'), ('166', '644', '960'), ('1109', '166', '644'), ('1279', '166', '644'), ('1109', '197', '445'), ('1109', '197', '576'), ('1109', '197', '743'), ('1283', '197', '743'), ('1109', '197', '960'), ('1029', '1109', '197'), ('1109', '240', '644'), ('1109', '240', '743'), ('1109', '1283', '240'), ('368', '445', '564'), ('368', '445', '743'), ('1109', '368', '445'), ('1283', '368', '445'), ('1109', '368', '644'), ('1109', '368', '694'), ('368', '743', '802'), ('1109', '368', '743'), ('1283', '368', '743'), ('1109', '368', '802'), ('1109', '368', '880'), ('1109', '368', '960'), ('1029', '1109', '368'), ('1109', '1217', '368'), ('445', '564', '743'), ('1029', '445', '564'), ('1283', '445', '564'), ('445', '576', '743'), ('1109', '445', '644'), ('445', '694', '743'), ('1109', '445', '694'), ('445', '743', '802'), ('1085', '445', '743'), ('1109', '445', '743'), ('1283', '445', '743'), ('1283', '445', '802'), ('1109', '445', '849'), ('1109', '445', '880'), ('1109', '445', '955'), ('1029', '445', '960'), ('1109', '445', '960'), ('1217', '445', '960'), ('1029', '1085', '445'), ('1029', '1283', '445'), ('1085', '1109', '445'), ('1109', '1217', '445'), ('1109', '1283', '445'), ('1029', '564', '743'), ('1283', '564', '743'), ('576', '644', '960'), ('1109', '576', '644'), ('576', '694', '743'), ('576', '694', '880'), ('1085', '576', '694'), ('1109', '576', '694'), ('576', '743', '802'), ('1109', '576', '743'), ('1109', '576', '880'), ('1109', '576', '960'), ('1085', '1109', '576'), ('1109', '644', '694'), ('1109', '644', '743'), ('1283', '644', '743'), ('1109', '644', '747'), ('1109', '644', '880'), ('1109', '644', '955'), ('1109', '644', '960'), ('1085', '1109', '644'), ('1109', '1217', '644'), ('1109', '1279', '644'), ('1109', '1283', '644'), ('1109', '694', '960'), ('1029', '1109', '694'), ('1283', '743', '802'), ('1109', '743', '849'), ('1109', '743', '960'), ('1029', '1085', '743'), ('1029', '1109', '743'), ('1029', '1283', '743'), ('1085', '1109', '743'), ('1109', '1217', '743'), ('1109', '1283', '743'), ('1029', '1109', '802'), ('1085', '1109', '880'), ('1085', '1109', '960'), ('1029', '1085', '1109'), ('1029', '1109', '1217'), ('1029', '1217', '1283'), ('1029', '445', '743', '91'), ('1217', '445', '743', '91'), ('1029', '445', '802', '91'), ('1029', '1109', '445', '91'), ('1029', '1217', '743', '91'), ('1029', '1109', '91', '960')]\n",
            "minRSup 0.051000000000000004 yielded 329 skyline frequent itemsets:\n",
            "[('6',), ('95',), ('127',), ('168',), ('169',), ('188',), ('199',), ('215',), ('218',), ('251',), ('259',), ('272',), ('279',), ('347',), ('382',), ('387',), ('398',), ('433',), ('449',), ('572',), ('606',), ('658',), ('672',), ('752',), ('781',), ('814',), ('845',), ('861',), ('863',), ('870',), ('906',), ('973',), ('977',), ('996',), ('1023',), ('1027',), ('1033',), ('1038',), ('1088',), ('1099',), ('1110',), ('1115',), ('1190',), ('1206',), ('1245',), ('1264',), ('1271',), ('1285',), ('1291',), ('1323',), ('1337',), ('1342',), ('1353',), ('1381',), ('1406',), ('13', '368'), ('13', '445'), ('13', '576'), ('13', '743'), ('13', '960'), ('1283', '13'), ('1109', '32'), ('166', '48'), ('48', '576'), ('48', '644'), ('48', '880'), ('1109', '68'), ('88', '91'), ('644', '88'), ('743', '88'), ('88', '960'), ('1029', '88'), ('1085', '88'), ('1109', '88'), ('113', '91'), ('123', '91'), ('166', '91'), ('467', '91'), ('544', '91'), ('617', '91'), ('668', '91'), ('694', '91'), ('747', '91'), ('780', '91'), ('91', '955'), ('1117', '91'), ('1120', '91'), ('1172', '91'), ('1279', '91'), ('1284', '91'), ('1321', '91'), ('1366', '91'), ('1377', '91'), ('1387', '91'), ('1403', '91'), ('109', '644'), ('123', '644'), ('123', '955'), ('1109', '123'), ('166', '240'), ('166', '358'), ('166', '368'), ('166', '445'), ('166', '467'), ('166', '576'), ('166', '617'), ('166', '743'), ('166', '747'), ('166', '880'), ('166', '960'), ('1029', '166'), ('1085', '166'), ('1109', '166'), ('1217', '166'), ('1283', '166'), ('1366', '166'), ('181', '445'), ('181', '743'), ('197', '368'), ('197', '445'), ('197', '564'), ('197', '576'), ('197', '644'), ('197', '694'), ('197', '960'), ('1029', '197'), ('1085', '197'), ('1283', '197'), ('1109', '224'), ('240', '368'), ('240', '467'), ('240', '644'), ('240', '880'), ('240', '960'), ('1283', '240'), ('306', '413'), ('1029', '358'), ('368', '544'), ('368', '564'), ('368', '576'), ('368', '668'), ('368', '694'), ('368', '747'), ('1085', '368'), ('1283', '368'), ('1403', '368'), ('445', '467'), ('445', '544'), ('445', '576'), ('445', '694'), ('445', '747'), ('445', '880'), ('445', '955'), ('467', '644'), ('467', '743'), ('467', '960'), ('1085', '467'), ('1109', '467'), ('1279', '467'), ('544', '743'), ('1029', '544'), ('1109', '544'), ('1109', '564'), ('1217', '564'), ('576', '802'), ('1085', '576'), ('1117', '576'), ('1217', '576'), ('1279', '576'), ('1321', '576'), ('1387', '576'), ('617', '644'), ('1279', '617'), ('644', '694'), ('644', '747'), ('644', '757'), ('644', '802'), ('644', '857'), ('644', '880'), ('644', '955'), ('1029', '644'), ('1085', '644'), ('1120', '644'), ('1172', '644'), ('1284', '644'), ('1310', '644'), ('1321', '644'), ('1366', '644'), ('1279', '651'), ('668', '694'), ('1109', '668'), ('694', '802'), ('694', '828'), ('1029', '694'), ('1085', '694'), ('1109', '711'), ('743', '747'), ('743', '849'), ('743', '880'), ('743', '955'), ('743', '960'), ('1120', '743'), ('1403', '743'), ('747', '880'), ('747', '955'), ('747', '960'), ('1029', '747'), ('1109', '747'), ('1279', '747'), ('1284', '747'), ('802', '960'), ('1085', '802'), ('1217', '802'), ('1283', '802'), ('1029', '828'), ('849', '960'), ('1029', '849'), ('1085', '849'), ('1217', '849'), ('880', '960'), ('1085', '880'), ('1117', '880'), ('1217', '880'), ('1279', '880'), ('1109', '955'), ('1117', '960'), ('1279', '960'), ('1283', '960'), ('1321', '960'), ('1084', '1109'), ('1085', '1217'), ('1085', '1283'), ('1109', '1279'), ('1109', '1366'), ('1109', '1387'), ('1217', '1283'), ('13', '802', '91'), ('1029', '13', '91'), ('1109', '13', '91'), ('1109', '13', '849'), ('197', '743', '91'), ('1109', '197', '91'), ('1109', '240', '91'), ('368', '445', '91'), ('368', '644', '91'), ('368', '743', '91'), ('368', '802', '91'), ('368', '91', '960'), ('1029', '368', '91'), ('1109', '368', '91'), ('1217', '368', '91'), ('445', '564', '91'), ('445', '743', '91'), ('445', '802', '91'), ('445', '91', '960'), ('1029', '445', '91'), ('1109', '445', '91'), ('1217', '445', '91'), ('1283', '445', '91'), ('564', '743', '91'), ('1029', '564', '91'), ('576', '644', '91'), ('576', '743', '91'), ('576', '880', '91'), ('1029', '576', '91'), ('1109', '576', '91'), ('644', '743', '91'), ('644', '91', '960'), ('1109', '644', '91'), ('743', '802', '91'), ('1029', '743', '91'), ('1085', '743', '91'), ('1109', '743', '91'), ('1217', '743', '91'), ('1283', '743', '91'), ('1029', '802', '91'), ('1109', '802', '91'), ('1109', '849', '91'), ('1029', '880', '91'), ('1109', '880', '91'), ('1029', '91', '960'), ('1109', '91', '960'), ('1217', '91', '960'), ('1029', '1109', '91'), ('1029', '1217', '91'), ('1029', '1283', '91'), ('1085', '1109', '91'), ('1109', '1217', '91'), ('1109', '1283', '91'), ('1279', '166', '644'), ('1109', '197', '743'), ('1109', '368', '644'), ('368', '743', '802'), ('1109', '368', '743'), ('1109', '368', '880'), ('1109', '445', '644'), ('445', '743', '802'), ('1029', '445', '743'), ('1109', '445', '743'), ('1217', '445', '743'), ('1283', '445', '743'), ('1029', '445', '802'), ('1109', '445', '849'), ('1109', '445', '960'), ('1029', '1109', '445'), ('1085', '1109', '445'), ('1109', '1217', '445'), ('1283', '564', '743'), ('576', '644', '960'), ('1109', '576', '644'), ('576', '694', '743'), ('576', '694', '880'), ('1109', '576', '694'), ('1109', '576', '743'), ('1109', '644', '743'), ('1109', '644', '960'), ('1109', '1217', '644'), ('1109', '1283', '644'), ('1109', '694', '960'), ('1029', '1109', '743'), ('1029', '1283', '743'), ('1085', '1109', '743'), ('1109', '1217', '743'), ('1109', '1283', '743'), ('1029', '1109', '802'), ('1029', '1109', '960'), ('1085', '1109', '960'), ('1029', '1085', '1109'), ('1029', '1109', '1217')]\n",
            "minRSup 0.058 yielded 229 skyline frequent itemsets:\n",
            "[('6',), ('32',), ('68',), ('95',), ('109',), ('113',), ('168',), ('181',), ('188',), ('199',), ('218',), ('224',), ('251',), ('272',), ('358',), ('382',), ('387',), ('398',), ('572',), ('606',), ('658',), ('711',), ('757',), ('781',), ('814',), ('828',), ('845',), ('857',), ('861',), ('906',), ('973',), ('996',), ('1023',), ('1027',), ('1038',), ('1084',), ('1088',), ('1099',), ('1190',), ('1206',), ('1271',), ('1291',), ('1310',), ('1323',), ('1337',), ('1353',), ('1381',), ('1406',), ('13', '91'), ('13', '368'), ('13', '445'), ('13', '576'), ('13', '743'), ('13', '802'), ('13', '849'), ('13', '960'), ('1029', '13'), ('1109', '13'), ('48', '576'), ('48', '644'), ('48', '880'), ('88', '91'), ('644', '88'), ('1109', '88'), ('123', '91'), ('166', '91'), ('197', '91'), ('240', '91'), ('467', '91'), ('544', '91'), ('564', '91'), ('617', '91'), ('668', '91'), ('694', '91'), ('747', '91'), ('780', '91'), ('880', '91'), ('91', '955'), ('1117', '91'), ('1120', '91'), ('1172', '91'), ('1279', '91'), ('1284', '91'), ('1321', '91'), ('1366', '91'), ('1377', '91'), ('1403', '91'), ('166', '240'), ('166', '368'), ('166', '467'), ('166', '576'), ('166', '747'), ('166', '880'), ('166', '960'), ('1029', '166'), ('1085', '166'), ('1109', '166'), ('1217', '166'), ('197', '445'), ('197', '576'), ('197', '743'), ('197', '960'), ('1029', '197'), ('1109', '197'), ('1283', '197'), ('240', '368'), ('240', '644'), ('1109', '240'), ('1283', '240'), ('368', '445'), ('368', '564'), ('368', '694'), ('368', '802'), ('368', '880'), ('1029', '368'), ('1085', '368'), ('1217', '368'), ('1283', '368'), ('445', '564'), ('445', '576'), ('445', '644'), ('445', '694'), ('445', '747'), ('445', '802'), ('445', '849'), ('445', '880'), ('445', '960'), ('1085', '445'), ('1217', '445'), ('467', '644'), ('467', '960'), ('1085', '467'), ('1109', '467'), ('544', '743'), ('1109', '544'), ('564', '743'), ('1029', '564'), ('1109', '564'), ('1283', '564'), ('576', '694'), ('576', '802'), ('576', '880'), ('576', '960'), ('1029', '576'), ('1085', '576'), ('1217', '576'), ('617', '644'), ('1279', '617'), ('644', '694'), ('644', '743'), ('644', '747'), ('644', '802'), ('644', '880'), ('644', '955'), ('1029', '644'), ('1085', '644'), ('1120', '644'), ('1172', '644'), ('1217', '644'), ('1283', '644'), ('1321', '644'), ('1366', '644'), ('1279', '651'), ('694', '743'), ('694', '802'), ('694', '880'), ('694', '960'), ('1029', '694'), ('1085', '694'), ('1109', '694'), ('743', '802'), ('743', '849'), ('743', '880'), ('743', '960'), ('1403', '743'), ('747', '880'), ('747', '960'), ('1029', '747'), ('1109', '747'), ('1279', '747'), ('802', '960'), ('1283', '802'), ('880', '960'), ('1029', '880'), ('1085', '880'), ('1109', '880'), ('1109', '955'), ('1029', '960'), ('1217', '960'), ('1029', '1085'), ('1029', '1283'), ('1109', '1279'), ('1109', '1366'), ('1109', '1387'), ('1217', '1283'), ('368', '743', '91'), ('368', '91', '960'), ('1109', '368', '91'), ('445', '743', '91'), ('1029', '445', '91'), ('1109', '445', '91'), ('576', '743', '91'), ('1109', '576', '91'), ('1109', '644', '91'), ('1029', '743', '91'), ('1109', '743', '91'), ('1217', '743', '91'), ('1283', '743', '91'), ('1029', '802', '91'), ('1109', '802', '91'), ('1109', '849', '91'), ('1109', '91', '960'), ('1029', '1109', '91'), ('1029', '1217', '91'), ('1085', '1109', '91'), ('1109', '1217', '91'), ('1279', '166', '644'), ('1109', '368', '644'), ('1029', '445', '743'), ('1109', '445', '743'), ('1283', '445', '743'), ('1029', '1109', '445'), ('1109', '576', '644'), ('1109', '576', '743'), ('1109', '644', '960'), ('1029', '1109', '743'), ('1085', '1109', '743'), ('1109', '1283', '743'), ('1085', '1109', '960')]\n",
            "minRSup 0.065 yielded 200 skyline frequent itemsets:\n",
            "[('6',), ('32',), ('68',), ('95',), ('109',), ('113',), ('123',), ('168',), ('181',), ('188',), ('199',), ('218',), ('224',), ('272',), ('358',), ('382',), ('387',), ('398',), ('572',), ('606',), ('651',), ('658',), ('711',), ('757',), ('780',), ('781',), ('814',), ('828',), ('845',), ('857',), ('973',), ('996',), ('1023',), ('1027',), ('1038',), ('1084',), ('1088',), ('1190',), ('1206',), ('1291',), ('1310',), ('1337',), ('1353',), ('1377',), ('1387',), ('1406',), ('13', '91'), ('13', '445'), ('13', '743'), ('13', '849'), ('1029', '13'), ('1109', '13'), ('48', '644'), ('644', '88'), ('1109', '88'), ('166', '91'), ('197', '91'), ('240', '91'), ('467', '91'), ('544', '91'), ('564', '91'), ('617', '91'), ('668', '91'), ('694', '91'), ('747', '91'), ('802', '91'), ('849', '91'), ('880', '91'), ('91', '955'), ('1085', '91'), ('1117', '91'), ('1120', '91'), ('1172', '91'), ('1279', '91'), ('1284', '91'), ('1403', '91'), ('166', '240'), ('166', '467'), ('166', '576'), ('166', '644'), ('166', '747'), ('166', '880'), ('166', '960'), ('1029', '166'), ('1085', '166'), ('1109', '166'), ('1279', '166'), ('197', '445'), ('197', '576'), ('197', '743'), ('197', '960'), ('1109', '197'), ('1283', '197'), ('240', '644'), ('1109', '240'), ('1283', '240'), ('368', '445'), ('368', '644'), ('368', '694'), ('368', '802'), ('368', '880'), ('368', '960'), ('1029', '368'), ('1085', '368'), ('1217', '368'), ('1283', '368'), ('445', '564'), ('445', '576'), ('445', '644'), ('445', '694'), ('445', '747'), ('445', '802'), ('445', '849'), ('445', '880'), ('445', '960'), ('1085', '445'), ('1217', '445'), ('1283', '445'), ('467', '644'), ('467', '960'), ('1109', '467'), ('544', '743'), ('1109', '544'), ('564', '743'), ('1029', '564'), ('1109', '564'), ('1283', '564'), ('576', '644'), ('576', '694'), ('576', '802'), ('576', '880'), ('576', '960'), ('1029', '576'), ('1085', '576'), ('1217', '576'), ('617', '644'), ('644', '694'), ('644', '743'), ('644', '747'), ('644', '802'), ('644', '880'), ('644', '955'), ('1029', '644'), ('1085', '644'), ('1120', '644'), ('1172', '644'), ('1217', '644'), ('1279', '644'), ('1283', '644'), ('1321', '644'), ('694', '743'), ('694', '880'), ('694', '960'), ('1029', '694'), ('1085', '694'), ('1109', '694'), ('743', '802'), ('743', '849'), ('743', '880'), ('743', '960'), ('747', '880'), ('747', '960'), ('1029', '747'), ('1109', '747'), ('1029', '802'), ('1109', '802'), ('1283', '802'), ('1109', '849'), ('880', '960'), ('1029', '880'), ('1085', '880'), ('1109', '880'), ('1109', '955'), ('1029', '960'), ('1085', '960'), ('1217', '960'), ('1029', '1085'), ('1029', '1283'), ('1109', '1279'), ('1109', '1366'), ('368', '743', '91'), ('1109', '368', '91'), ('445', '743', '91'), ('1029', '445', '91'), ('1109', '445', '91'), ('576', '743', '91'), ('1109', '576', '91'), ('1109', '644', '91'), ('1029', '743', '91'), ('1109', '743', '91'), ('1217', '743', '91'), ('1283', '743', '91'), ('1109', '91', '960'), ('1029', '1109', '91'), ('1029', '1217', '91'), ('1109', '1217', '91'), ('1029', '1109', '445'), ('1109', '644', '960'), ('1085', '1109', '743'), ('1109', '1283', '743')]\n",
            "minRSup 0.07200000000000001 yielded 162 skyline frequent itemsets:\n",
            "[('32',), ('68',), ('95',), ('109',), ('113',), ('123',), ('181',), ('188',), ('199',), ('218',), ('224',), ('358',), ('387',), ('398',), ('606',), ('651',), ('711',), ('757',), ('780',), ('781',), ('814',), ('828',), ('845',), ('857',), ('973',), ('996',), ('1027',), ('1038',), ('1084',), ('1120',), ('1172',), ('1206',), ('1284',), ('1291',), ('1310',), ('1321',), ('1337',), ('1377',), ('1387',), ('1403',), ('1406',), ('13', '91'), ('13', '445'), ('1109', '13'), ('48', '644'), ('644', '88'), ('166', '91'), ('197', '91'), ('240', '91'), ('467', '91'), ('544', '91'), ('564', '91'), ('576', '91'), ('617', '91'), ('668', '91'), ('694', '91'), ('747', '91'), ('802', '91'), ('849', '91'), ('880', '91'), ('1085', '91'), ('1117', '91'), ('1279', '91'), ('1283', '91'), ('166', '467'), ('166', '576'), ('166', '644'), ('166', '880'), ('166', '960'), ('1029', '166'), ('1109', '166'), ('1279', '166'), ('197', '445'), ('197', '743'), ('1109', '197'), ('240', '644'), ('1109', '240'), ('368', '445'), ('368', '644'), ('368', '694'), ('368', '743'), ('368', '802'), ('368', '880'), ('368', '960'), ('1029', '368'), ('1217', '368'), ('1283', '368'), ('445', '564'), ('445', '576'), ('445', '644'), ('445', '694'), ('445', '747'), ('445', '802'), ('445', '849'), ('445', '880'), ('445', '960'), ('1085', '445'), ('1217', '445'), ('1283', '445'), ('1109', '467'), ('1029', '564'), ('1109', '564'), ('576', '644'), ('576', '694'), ('576', '743'), ('576', '802'), ('576', '880'), ('576', '960'), ('1029', '576'), ('1085', '576'), ('1109', '576'), ('617', '644'), ('644', '743'), ('644', '747'), ('644', '802'), ('644', '880'), ('644', '960'), ('1029', '644'), ('1085', '644'), ('1217', '644'), ('1279', '644'), ('1283', '644'), ('694', '743'), ('1085', '694'), ('1109', '694'), ('743', '802'), ('743', '880'), ('743', '960'), ('1085', '743'), ('1283', '743'), ('747', '880'), ('1109', '747'), ('1029', '802'), ('1109', '802'), ('1283', '802'), ('1109', '849'), ('880', '960'), ('1029', '880'), ('1085', '880'), ('1109', '880'), ('1109', '955'), ('1029', '960'), ('1085', '960'), ('1217', '960'), ('1029', '1085'), ('1029', '1217'), ('1029', '1283'), ('1085', '1109'), ('1109', '1217'), ('1109', '1279'), ('1109', '1283'), ('1109', '1366'), ('1109', '368', '91'), ('445', '743', '91'), ('1029', '445', '91'), ('1109', '445', '91'), ('1109', '644', '91'), ('1029', '743', '91'), ('1109', '743', '91'), ('1217', '743', '91'), ('1109', '91', '960'), ('1029', '1109', '91')]\n",
            "minRSup 0.07900000000000001 yielded 127 skyline frequent itemsets:\n",
            "[('32',), ('48',), ('68',), ('95',), ('109',), ('113',), ('123',), ('181',), ('188',), ('199',), ('224',), ('358',), ('387',), ('398',), ('606',), ('617',), ('651',), ('711',), ('757',), ('780',), ('781',), ('828',), ('857',), ('973',), ('996',), ('1117',), ('1120',), ('1172',), ('1206',), ('1284',), ('1291',), ('1310',), ('1321',), ('1337',), ('1366',), ('1377',), ('1387',), ('1403',), ('13', '91'), ('1109', '13'), ('644', '88'), ('166', '91'), ('240', '91'), ('467', '91'), ('544', '91'), ('564', '91'), ('576', '91'), ('668', '91'), ('694', '91'), ('747', '91'), ('802', '91'), ('849', '91'), ('880', '91'), ('1085', '91'), ('1217', '91'), ('1283', '91'), ('166', '576'), ('166', '644'), ('166', '880'), ('1109', '166'), ('1279', '166'), ('197', '743'), ('1109', '197'), ('240', '644'), ('1109', '240'), ('368', '445'), ('368', '644'), ('368', '743'), ('368', '802'), ('368', '880'), ('1217', '368'), ('445', '576'), ('445', '644'), ('445', '802'), ('445', '880'), ('445', '960'), ('1029', '445'), ('1085', '445'), ('1109', '445'), ('1217', '445'), ('1283', '445'), ('1109', '467'), ('576', '644'), ('576', '694'), ('576', '743'), ('576', '802'), ('576', '880'), ('576', '960'), ('1029', '576'), ('1085', '576'), ('1109', '576'), ('644', '743'), ('644', '747'), ('644', '880'), ('644', '960'), ('1029', '644'), ('1217', '644'), ('1279', '644'), ('1283', '644'), ('1109', '694'), ('743', '802'), ('743', '960'), ('1029', '743'), ('1085', '743'), ('1217', '743'), ('1283', '743'), ('1109', '747'), ('1029', '802'), ('1109', '802'), ('1109', '849'), ('1029', '880'), ('1109', '880'), ('1109', '955'), ('1029', '960'), ('1085', '960'), ('1029', '1085'), ('1029', '1217'), ('1029', '1283'), ('1085', '1109'), ('1109', '1217'), ('1109', '1283'), ('1109', '368', '91'), ('445', '743', '91'), ('1109', '644', '91'), ('1109', '743', '91'), ('1109', '91', '960'), ('1029', '1109', '91')]\n",
            "minRSup 0.08600000000000001 yielded 116 skyline frequent itemsets:\n",
            "[('32',), ('48',), ('68',), ('95',), ('109',), ('113',), ('123',), ('181',), ('188',), ('199',), ('224',), ('358',), ('387',), ('398',), ('564',), ('617',), ('651',), ('668',), ('711',), ('757',), ('780',), ('781',), ('828',), ('857',), ('955',), ('973',), ('996',), ('1117',), ('1120',), ('1172',), ('1206',), ('1284',), ('1291',), ('1310',), ('1321',), ('1337',), ('1366',), ('1377',), ('1387',), ('1403',), ('13', '91'), ('1109', '13'), ('644', '88'), ('166', '91'), ('240', '91'), ('368', '91'), ('445', '91'), ('467', '91'), ('544', '91'), ('576', '91'), ('644', '91'), ('694', '91'), ('802', '91'), ('880', '91'), ('1029', '91'), ('1085', '91'), ('1217', '91'), ('1283', '91'), ('166', '644'), ('166', '880'), ('1109', '166'), ('1279', '166'), ('197', '743'), ('1109', '197'), ('240', '644'), ('1109', '240'), ('368', '445'), ('368', '644'), ('368', '743'), ('368', '802'), ('368', '880'), ('1109', '368'), ('1217', '368'), ('445', '644'), ('445', '743'), ('445', '802'), ('445', '960'), ('1029', '445'), ('1085', '445'), ('1109', '445'), ('1217', '445'), ('1283', '445'), ('1109', '467'), ('576', '644'), ('576', '694'), ('576', '743'), ('576', '880'), ('576', '960'), ('1109', '576'), ('644', '743'), ('644', '747'), ('644', '880'), ('644', '960'), ('1109', '644'), ('1279', '644'), ('1283', '644'), ('1109', '694'), ('743', '802'), ('1029', '743'), ('1085', '743'), ('1217', '743'), ('1283', '743'), ('1109', '747'), ('1029', '802'), ('1109', '802'), ('1109', '849'), ('1029', '880'), ('1109', '880'), ('1029', '1109'), ('1029', '1217'), ('1029', '1283'), ('1085', '1109'), ('1109', '1217'), ('1109', '1283'), ('1109', '743', '91'), ('1109', '91', '960')]\n",
            "minRSup 0.09300000000000001 yielded 92 skyline frequent itemsets:\n",
            "[('32',), ('48',), ('68',), ('88',), ('95',), ('109',), ('113',), ('123',), ('181',), ('358',), ('467',), ('544',), ('564',), ('617',), ('651',), ('668',), ('711',), ('757',), ('780',), ('857',), ('955',), ('996',), ('1117',), ('1120',), ('1172',), ('1206',), ('1284',), ('1310',), ('1321',), ('1366',), ('1377',), ('1387',), ('1403',), ('13', '91'), ('1109', '13'), ('166', '91'), ('240', '91'), ('368', '91'), ('445', '91'), ('576', '91'), ('644', '91'), ('743', '91'), ('802', '91'), ('880', '91'), ('91', '960'), ('1029', '91'), ('1085', '91'), ('1109', '91'), ('1217', '91'), ('1283', '91'), ('166', '644'), ('1279', '166'), ('1109', '197'), ('1109', '240'), ('368', '743'), ('368', '880'), ('1109', '368'), ('445', '644'), ('445', '743'), ('445', '802'), ('445', '960'), ('1029', '445'), ('1109', '445'), ('1217', '445'), ('1283', '445'), ('576', '644'), ('576', '694'), ('576', '743'), ('576', '880'), ('1109', '576'), ('644', '743'), ('644', '747'), ('644', '960'), ('1109', '644'), ('1279', '644'), ('1109', '694'), ('743', '802'), ('1029', '743'), ('1085', '743'), ('1109', '743'), ('1217', '743'), ('1283', '743'), ('1029', '802'), ('1109', '802'), ('1109', '849'), ('1109', '880'), ('1109', '960'), ('1029', '1109'), ('1029', '1217'), ('1085', '1109'), ('1109', '1217'), ('1109', '1283')]\n",
            "minRSup 0.1 yielded 69 skyline frequent itemsets:\n",
            "[('13',), ('48',), ('88',), ('95',), ('109',), ('123',), ('181',), ('240',), ('358',), ('467',), ('544',), ('564',), ('617',), ('651',), ('668',), ('711',), ('780',), ('857',), ('955',), ('1117',), ('1120',), ('1172',), ('1206',), ('1284',), ('1310',), ('1321',), ('1366',), ('1387',), ('1403',), ('166', '91'), ('368', '91'), ('445', '91'), ('576', '91'), ('644', '91'), ('743', '91'), ('802', '91'), ('880', '91'), ('91', '960'), ('1029', '91'), ('1085', '91'), ('1109', '91'), ('1217', '91'), ('1283', '91'), ('166', '644'), ('1109', '197'), ('368', '743'), ('1109', '368'), ('445', '743'), ('1029', '445'), ('1109', '445'), ('576', '644'), ('576', '743'), ('1109', '576'), ('644', '747'), ('644', '960'), ('1109', '644'), ('1279', '644'), ('1109', '694'), ('1029', '743'), ('1085', '743'), ('1109', '743'), ('1283', '743'), ('1109', '849'), ('1109', '880'), ('1109', '960'), ('1029', '1109'), ('1085', '1109'), ('1109', '1217'), ('1109', '1283')]\n"
          ]
        }
      ]
    },
    {
      "cell_type": "code",
      "metadata": {
        "colab": {
          "base_uri": "https://localhost:8080/"
        },
        "id": "dEbszfmr3DN8",
        "outputId": "2afa6954-998c-4a77-9882-e78d46be63d3"
      },
      "source": [
        "bingo_res = iterate_minX(apriori, bingo_baskets, author_ids, 0.027, 0.029, 3)"
      ],
      "execution_count": null,
      "outputs": [
        {
          "name": "stdout",
          "output_type": "stream",
          "text": [
            "minRSup 0.027 yielded 1353 skyline frequent itemsets:\n",
            "[('2',), ('3',), ('8',), ('25',), ('42',), ('49',), ('72',), ('85',), ('107',), ('125',), ('136',), ('190',), ('195',), ('204',), ('210',), ('239',), ('276',), ('295',), ('305',), ('338',), ('339',), ('421',), ('435',), ('441',), ('444',), ('482',), ('512',), ('522',), ('524',), ('548',), ('551',), ('631',), ('633',), ('641',), ('648',), ('687',), ('689',), ('697',), ('728',), ('753',), ('760',), ('803',), ('805',), ('818',), ('851',), ('852',), ('863',), ('878',), ('912',), ('947',), ('954',), ('965',), ('993',), ('1014',), ('1044',), ('1087',), ('1107',), ('1156',), ('1178',), ('1195',), ('1199',), ('1214',), ('1224',), ('1233',), ('1259',), ('1274',), ('1282',), ('1290',), ('1322',), ('1334',), ('1362',), ('1405',), ('445', '6'), ('564', '6'), ('1109', '6'), ('1283', '6'), ('13', '32'), ('13', '48'), ('13', '68'), ('109', '13'), ('13', '166'), ('13', '168'), ('13', '197'), ('13', '240'), ('13', '668'), ('13', '747'), ('13', '880'), ('1084', '13'), ('1117', '13'), ('1279', '13'), ('13', '1387'), ('18', '644'), ('197', '32'), ('32', '445'), ('32', '576'), ('32', '617'), ('32', '644'), ('32', '802'), ('32', '814'), ('32', '849'), ('32', '880'), ('32', '960'), ('1029', '32'), ('1279', '32'), ('109', '48'), ('240', '48'), ('368', '48'), ('467', '48'), ('48', '617'), ('48', '651'), ('48', '668'), ('48', '743'), ('48', '747'), ('48', '857'), ('48', '960'), ('1109', '48'), ('1117', '48'), ('1120', '48'), ('1217', '48'), ('1321', '48'), ('445', '68'), ('576', '68'), ('644', '68'), ('68', '743'), ('1029', '68'), ('88', '95'), ('197', '88'), ('199', '88'), ('240', '88'), ('358', '88'), ('368', '88'), ('445', '88'), ('467', '88'), ('606', '88'), ('651', '88'), ('694', '88'), ('747', '88'), ('780', '88'), ('802', '88'), ('849', '88'), ('857', '88'), ('88', '880'), ('88', '977'), ('1117', '88'), ('1120', '88'), ('1206', '88'), ('1217', '88'), ('1279', '88'), ('1283', '88'), ('1291', '88'), ('1353', '88'), ('1387', '88'), ('91', '95'), ('109', '91'), ('188', '91'), ('199', '91'), ('272', '91'), ('382', '91'), ('433', '91'), ('449', '91'), ('651', '91'), ('725', '91'), ('757', '91'), ('814', '91'), ('845', '91'), ('857', '91'), ('870', '91'), ('91', '996'), ('1023', '91'), ('1038', '91'), ('1084', '91'), ('1088', '91'), ('1099', '91'), ('1115', '91'), ('1206', '91'), ('1244', '91'), ('1264', '91'), ('1271', '91'), ('1310', '91'), ('1323', '91'), ('1337', '91'), ('1353', '91'), ('1381', '91'), ('1406', '91'), ('576', '95'), ('644', '95'), ('743', '95'), ('1029', '95'), ('1109', '95'), ('1120', '95'), ('1206', '95'), ('1279', '95'), ('1283', '95'), ('109', '166'), ('109', '576'), ('109', '606'), ('109', '617'), ('109', '644'), ('109', '743'), ('109', '747'), ('109', '880'), ('109', '960'), ('109', '1109'), ('109', '1117'), ('109', '1279'), ('109', '1291'), ('109', '1310'), ('113', '166'), ('113', '368'), ('113', '467'), ('113', '576'), ('113', '644'), ('113', '849'), ('113', '880'), ('1085', '113'), ('1109', '113'), ('123', '368'), ('123', '467'), ('123', '544'), ('123', '576'), ('123', '743'), ('123', '747'), ('123', '781'), ('123', '960'), ('1085', '123'), ('123', '1279'), ('123', '1283'), ('127', '576'), ('127', '644'), ('127', '880'), ('166', '188'), ('166', '197'), ('166', '199'), ('166', '259'), ('166', '358'), ('166', '387'), ('166', '544'), ('166', '564'), ('166', '668'), ('166', '711'), ('166', '757'), ('166', '781'), ('166', '802'), ('166', '814'), ('166', '828'), ('166', '849'), ('166', '857'), ('166', '955'), ('1033', '166'), ('1117', '166'), ('1172', '166'), ('1283', '166'), ('1310', '166'), ('1323', '166'), ('1366', '166'), ('1377', '166'), ('1403', '166'), ('1406', '166'), ('168', '445'), ('169', '644'), ('1109', '169'), ('181', '564'), ('181', '644'), ('181', '802'), ('181', '880'), ('1109', '181'), ('1029', '183'), ('188', '240'), ('188', '576'), ('188', '644'), ('188', '747'), ('1217', '188'), ('197', '658'), ('197', '747'), ('197', '814'), ('197', '828'), ('197', '849'), ('197', '880'), ('1377', '197'), ('1387', '197'), ('1403', '197'), ('199', '240'), ('199', '467'), ('199', '544'), ('199', '644'), ('199', '651'), ('199', '960'), ('1109', '199'), ('1279', '199'), ('215', '644'), ('1109', '215'), ('218', '368'), ('218', '445'), ('218', '576'), ('218', '743'), ('1109', '218'), ('1279', '218'), ('224', '644'), ('240', '382'), ('240', '576'), ('240', '711'), ('240', '747'), ('240', '757'), ('240', '781'), ('240', '802'), ('240', '906'), ('1117', '240'), ('1172', '240'), ('1206', '240'), ('1279', '240'), ('1310', '240'), ('1321', '240'), ('1337', '240'), ('1366', '240'), ('1310', '251'), ('272', '445'), ('272', '747'), ('272', '960'), ('1029', '272'), ('1109', '272'), ('279', '880'), ('347', '368'), ('357', '828'), ('358', '368'), ('358', '445'), ('358', '576'), ('358', '644'), ('358', '694'), ('358', '743'), ('358', '747'), ('358', '802'), ('358', '880'), ('358', '977'), ('1283', '358'), ('1291', '358'), ('368', '398'), ('368', '617'), ('368', '651'), ('368', '845'), ('368', '857'), ('368', '996'), ('1027', '368'), ('1117', '368'), ('1120', '368'), ('1190', '368'), ('1245', '368'), ('1279', '368'), ('1284', '368'), ('1353', '368'), ('1381', '368'), ('1406', '368'), ('382', '644'), ('1109', '382'), ('1285', '382'), ('387', '576'), ('387', '644'), ('387', '743'), ('387', '747'), ('387', '955'), ('1109', '387'), ('1279', '387'), ('398', '467'), ('398', '564'), ('398', '576'), ('398', '644'), ('398', '668'), ('398', '880'), ('1120', '433'), ('445', '814'), ('445', '845'), ('445', '996'), ('1023', '445'), ('1027', '445'), ('1088', '445'), ('1115', '445'), ('1117', '445'), ('1120', '445'), ('1172', '445'), ('1323', '445'), ('1366', '445'), ('449', '672'), ('449', '743'), ('1217', '449'), ('467', '576'), ('467', '668'), ('467', '747'), ('467', '849'), ('467', '857'), ('467', '880'), ('467', '955'), ('1117', '467'), ('1120', '467'), ('1217', '467'), ('1321', '467'), ('1337', '467'), ('507', '694'), ('544', '576'), ('544', '747'), ('1120', '544'), ('1279', '544'), ('1283', '544'), ('564', '658'), ('564', '780'), ('1027', '564'), ('572', '644'), ('1109', '572'), ('1217', '572'), ('576', '617'), ('576', '651'), ('576', '747'), ('576', '781'), ('576', '845'), ('576', '857'), ('576', '955'), ('1206', '576'), ('1323', '576'), ('1366', '576'), ('1377', '576'), ('1109', '597'), ('606', '644'), ('1283', '606'), ('617', '849'), ('617', '880'), ('1117', '617'), ('1120', '617'), ('1172', '617'), ('1337', '617'), ('1109', '629'), ('644', '668'), ('644', '725'), ('644', '752'), ('644', '757'), ('644', '780'), ('644', '781'), ('644', '814'), ('644', '828'), ('644', '845'), ('644', '861'), ('644', '870'), ('644', '906'), ('644', '973'), ('644', '977'), ('644', '996'), ('1023', '644'), ('1033', '644'), ('1084', '644'), ('1110', '644'), ('1117', '644'), ('1206', '644'), ('1247', '644'), ('1264', '644'), ('1271', '644'), ('1285', '644'), ('1337', '644'), ('1342', '644'), ('1377', '644'), ('1381', '644'), ('1403', '644'), ('651', '802'), ('651', '857'), ('651', '880'), ('651', '960'), ('1029', '651'), ('1109', '651'), ('1206', '651'), ('1387', '651'), ('658', '960'), ('1217', '658'), ('668', '747'), ('668', '802'), ('668', '849'), ('668', '880'), ('1029', '668'), ('1085', '668'), ('1217', '668'), ('1283', '668'), ('1377', '668'), ('1387', '668'), ('694', '747'), ('694', '955'), ('1084', '694'), ('1117', '694'), ('1284', '694'), ('1377', '694'), ('711', '743'), ('711', '880'), ('1117', '711'), ('1217', '711'), ('743', '814'), ('743', '996'), ('1023', '743'), ('1084', '743'), ('1117', '743'), ('1206', '743'), ('1284', '743'), ('1310', '743'), ('1323', '743'), ('1342', '743'), ('747', '802'), ('747', '845'), ('747', '849'), ('747', '857'), ('747', '973'), ('747', '996'), ('1084', '747'), ('1117', '747'), ('1271', '747'), ('1283', '747'), ('1291', '747'), ('1310', '747'), ('1366', '747'), ('1387', '747'), ('1403', '747'), ('1029', '757'), ('1109', '757'), ('1172', '757'), ('1217', '780'), ('1283', '780'), ('1366', '780'), ('802', '845'), ('802', '880'), ('802', '955'), ('1084', '802'), ('1110', '802'), ('1117', '802'), ('1279', '802'), ('1029', '814'), ('1085', '814'), ('1109', '814'), ('828', '880'), ('828', '955'), ('828', '960'), ('1283', '828'), ('1323', '828'), ('845', '880'), ('1217', '845'), ('1403', '845'), ('1120', '849'), ('1279', '849'), ('1283', '849'), ('1377', '849'), ('1403', '849'), ('857', '880'), ('857', '960'), ('1029', '857'), ('1109', '857'), ('1120', '857'), ('1217', '857'), ('1283', '857'), ('1027', '880'), ('1172', '880'), ('1283', '880'), ('1284', '880'), ('1310', '880'), ('1366', '880'), ('1387', '880'), ('1403', '880'), ('955', '960'), ('1217', '955'), ('1279', '955'), ('960', '973'), ('1023', '960'), ('1027', '960'), ('1117', '960'), ('1120', '960'), ('1206', '960'), ('1284', '960'), ('1353', '960'), ('1387', '960'), ('1403', '960'), ('1109', '973'), ('1217', '973'), ('1029', '996'), ('1109', '996'), ('1217', '996'), ('1283', '996'), ('1291', '996'), ('1023', '1109'), ('1027', '1109'), ('1027', '1403'), ('1029', '1038'), ('1029', '1088'), ('1029', '1110'), ('1029', '1120'), ('1029', '1172'), ('1029', '1279'), ('1029', '1284'), ('1029', '1310'), ('1029', '1321'), ('1029', '1323'), ('1029', '1337'), ('1029', '1387'), ('1038', '1109'), ('1085', '1117'), ('1085', '1120'), ('1085', '1279'), ('1085', '1323'), ('1085', '1353'), ('1085', '1377'), ('1085', '1403'), ('1088', '1109'), ('1099', '1109'), ('1109', '1110'), ('1109', '1117'), ('1109', '1190'), ('1109', '1264'), ('1109', '1285'), ('1109', '1310'), ('1109', '1321'), ('1109', '1323'), ('1109', '1337'), ('1109', '1342'), ('1109', '1353'), ('1109', '1381'), ('1109', '1403'), ('1109', '1406'), ('1117', '1172'), ('1117', '1279'), ('1117', '1283'), ('1117', '1377'), ('1120', '1279'), ('1120', '1283'), ('1172', '1310'), ('1190', '1217'), ('1201', '1385'), ('1206', '1279'), ('1217', '1284'), ('1217', '1321'), ('1217', '1323'), ('1217', '1366'), ('1217', '1403'), ('1279', '1283'), ('1283', '1387'), ('1284', '1321'), ('1284', '1403'), ('1310', '1387'), ('368', '6', '91'), ('1029', '6', '743'), ('13', '218', '91'), ('13', '544', '91'), ('13', '576', '91'), ('13', '644', '91'), ('13', '91', '960'), ('1217', '13', '91'), ('1283', '13', '368'), ('13', '445', '644'), ('13', '445', '694'), ('1085', '13', '445'), ('1109', '13', '544'), ('1109', '13', '644'), ('1029', '13', '658'), ('1029', '13', '694'), ('13', '743', '849'), ('1085', '13', '743'), ('1109', '13', '743'), ('1217', '13', '743'), ('13', '802', '849'), ('1029', '13', '828'), ('13', '849', '960'), ('1029', '13', '960'), ('1109', '13', '960'), ('1085', '1109', '13'), ('1109', '1283', '13'), ('1109', '32', '91'), ('1109', '32', '743'), ('1283', '32', '743'), ('1085', '1109', '32'), ('1109', '1283', '32'), ('48', '644', '88'), ('1029', '48', '91'), ('166', '48', '644'), ('48', '576', '644'), ('48', '644', '880'), ('1172', '48', '644'), ('1279', '48', '644'), ('1109', '68', '91'), ('1109', '68', '960'), ('1109', '1283', '68'), ('1029', '88', '91'), ('1109', '88', '91'), ('166', '644', '88'), ('576', '644', '88'), ('644', '743', '88'), ('644', '88', '960'), ('1109', '644', '88'), ('1321', '644', '88'), ('1109', '743', '88'), ('1029', '1085', '88'), ('1029', '1109', '88'), ('113', '743', '91'), ('123', '240', '91'), ('123', '880', '91'), ('123', '91', '955'), ('1109', '123', '91'), ('166', '368', '91'), ('166', '467', '91'), ('166', '576', '91'), ('166', '617', '91'), ('166', '644', '91'), ('166', '743', '91'), ('166', '880', '91'), ('166', '91', '960'), ('1029', '166', '91'), ('1109', '166', '91'), ('1120', '166', '91'), ('1217', '166', '91'), ('1279', '166', '91'), ('1321', '166', '91'), ('181', '368', '91'), ('197', '368', '91'), ('197', '564', '91'), ('197', '576', '91'), ('197', '644', '91'), ('1029', '197', '91'), ('1085', '197', '91'), ('1217', '197', '91'), ('240', '368', '91'), ('240', '467', '91'), ('240', '617', '91'), ('240', '644', '91'), ('240', '880', '91'), ('240', '91', '955'), ('1029', '240', '91'), ('1283', '240', '91'), ('1029', '358', '91'), ('1217', '358', '91'), ('368', '544', '91'), ('368', '576', '91'), ('368', '658', '91'), ('368', '668', '91'), ('368', '694', '91'), ('368', '780', '91'), ('368', '91', '955'), ('1085', '368', '91'), ('1377', '368', '91'), ('1387', '368', '91'), ('1403', '368', '91'), ('398', '743', '91'), ('445', '467', '91'), ('445', '668', '91'), ('1110', '445', '91'), ('1387', '445', '91'), ('467', '617', '91'), ('467', '644', '91'), ('467', '743', '91'), ('467', '91', '960'), ('1029', '467', '91'), ('1109', '467', '91'), ('544', '644', '91'), ('544', '668', '91'), ('544', '694', '91'), ('544', '849', '91'), ('544', '91', '960'), ('1029', '544', '91'), ('1085', '544', '91'), ('1109', '544', '91'), ('1217', '544', '91'), ('564', '576', '91'), ('564', '668', '91'), ('564', '694', '91'), ('564', '91', '960'), ('1217', '564', '91'), ('1403', '564', '91'), ('576', '91', '960'), ('1085', '576', '91'), ('1117', '576', '91'), ('1172', '576', '91'), ('1217', '576', '91'), ('1279', '576', '91'), ('1284', '576', '91'), ('1321', '576', '91'), ('617', '644', '91'), ('617', '91', '960'), ('1029', '617', '91'), ('1109', '617', '91'), ('1279', '617', '91'), ('1283', '617', '91'), ('644', '747', '91'), ('644', '880', '91'), ('644', '91', '955'), ('1172', '644', '91'), ('1279', '644', '91'), ('1284', '644', '91'), ('1321', '644', '91'), ('1029', '658', '91'), ('1109', '658', '91'), ('668', '694', '91'), ('668', '743', '91'), ('668', '91', '960'), ('1109', '668', '91'), ('694', '849', '91'), ('1085', '694', '91'), ('1109', '711', '91'), ('743', '780', '91'), ('743', '880', '91'), ('743', '91', '955'), ('1027', '743', '91'), ('1120', '743', '91'), ('1172', '743', '91'), ('1190', '743', '91'), ('1279', '743', '91'), ('1366', '743', '91'), ('1377', '743', '91'), ('1387', '743', '91'), ('1403', '743', '91'), ('747', '880', '91'), ('1029', '747', '91'), ('1217', '747', '91'), ('1284', '747', '91'), ('780', '91', '960'), ('1109', '780', '91'), ('1085', '802', '91'), ('1217', '802', '91'), ('1029', '828', '91'), ('1217', '849', '91'), ('1387', '849', '91'), ('880', '91', '960'), ('1085', '880', '91'), ('1117', '880', '91'), ('1217', '880', '91'), ('1279', '880', '91'), ('1321', '880', '91'), ('1377', '880', '91'), ('1029', '91', '955'), ('1283', '91', '955'), ('1283', '91', '960'), ('1027', '1029', '91'), ('1029', '1117', '91'), ('1029', '1366', '91'), ('1029', '1403', '91'), ('1085', '1172', '91'), ('1085', '1217', '91'), ('1109', '1172', '91'), ('1109', '1279', '91'), ('1109', '1284', '91'), ('1109', '1366', '91'), ('1109', '1377', '91'), ('1109', '1387', '91'), ('1120', '1217', '91'), ('123', '166', '644'), ('123', '166', '880'), ('1109', '123', '445'), ('166', '240', '644'), ('166', '240', '880'), ('166', '368', '467'), ('166', '368', '644'), ('166', '445', '467'), ('166', '445', '644'), ('166', '445', '960'), ('166', '467', '617'), ('166', '467', '644'), ('166', '467', '960'), ('1279', '166', '467'), ('166', '576', '644'), ('166', '576', '880'), ('1085', '166', '576'), ('1109', '166', '576'), ('1279', '166', '576'), ('166', '644', '694'), ('166', '644', '747'), ('166', '644', '880'), ('166', '644', '960'), ('1109', '166', '644'), ('1217', '166', '644'), ('1291', '166', '644'), ('1321', '166', '644'), ('1109', '166', '747'), ('1279', '166', '747'), ('1279', '166', '880'), ('1109', '166', '960'), ('1279', '166', '960'), ('1029', '1109', '166'), ('1085', '1109', '166'), ('1109', '1217', '166'), ('1109', '1279', '166'), ('1279', '1321', '166'), ('1109', '168', '743'), ('1109', '1217', '168'), ('181', '368', '445'), ('181', '368', '743'), ('1029', '181', '445'), ('1217', '181', '445'), ('1029', '181', '743'), ('197', '368', '445'), ('197', '368', '644'), ('197', '368', '694'), ('197', '368', '743'), ('1109', '197', '368'), ('1283', '197', '368'), ('197', '445', '564'), ('197', '445', '576'), ('197', '445', '644'), ('1085', '197', '445'), ('1109', '197', '467'), ('1109', '197', '564'), ('197', '576', '644'), ('197', '644', '694'), ('1109', '197', '644'), ('1109', '197', '668'), ('197', '743', '960'), ('1029', '197', '743'), ('1085', '197', '743'), ('1109', '197', '802'), ('1029', '197', '960'), ('1029', '1085', '197'), ('1085', '1109', '197'), ('1109', '1217', '197'), ('1109', '224', '743'), ('240', '368', '644'), ('240', '368', '880'), ('1109', '240', '368'), ('240', '445', '880'), ('240', '467', '780'), ('1109', '240', '467'), ('240', '644', '955'), ('240', '644', '960'), ('1109', '240', '880'), ('1109', '240', '955'), ('1109', '240', '960'), ('1029', '1109', '240'), ('1085', '1109', '240'), ('1109', '1217', '240'), ('1109', '1387', '240'), ('251', '644', '747'), ('1029', '306', '413'), ('1109', '306', '413'), ('1085', '358', '996'), ('1029', '1109', '358'), ('1029', '1217', '358'), ('368', '445', '644'), ('368', '445', '694'), ('368', '445', '880'), ('1084', '368', '445'), ('1085', '368', '445'), ('1217', '368', '445'), ('368', '544', '743'), ('1109', '368', '544'), ('1109', '368', '564'), ('1217', '368', '564'), ('368', '576', '644'), ('368', '576', '743'), ('368', '576', '802'), ('1109', '368', '576'), ('1217', '368', '644'), ('368', '658', '743'), ('1109', '368', '658'), ('1109', '368', '668'), ('368', '694', '802'), ('1029', '368', '694'), ('368', '743', '880'), ('368', '743', '960'), ('1085', '368', '743'), ('368', '747', '880'), ('1029', '368', '802'), ('368', '880', '960'), ('1085', '368', '880'), ('1217', '368', '880'), ('1109', '368', '955'), ('1029', '1283', '368'), ('1085', '1109', '368'), ('1109', '1283', '368'), ('1109', '1377', '368'), ('1109', '1387', '368'), ('1217', '1283', '368'), ('1109', '398', '743'), ('1109', '445', '467'), ('1029', '445', '544'), ('1109', '445', '544'), ('445', '564', '644'), ('445', '564', '694'), ('445', '564', '880'), ('445', '564', '960'), ('1109', '445', '564'), ('1217', '445', '564'), ('445', '576', '644'), ('445', '576', '802'), ('1029', '445', '576'), ('1109', '445', '576'), ('1217', '445', '576'), ('445', '644', '802'), ('445', '644', '880'), ('445', '644', '960'), ('1029', '445', '644'), ('1085', '445', '644'), ('1217', '445', '644'), ('1279', '445', '644'), ('1283', '445', '644'), ('1029', '445', '658'), ('445', '668', '743'), ('445', '694', '802'), ('1085', '445', '694'), ('1283', '445', '694'), ('445', '743', '747'), ('445', '743', '849'), ('445', '743', '880'), ('1099', '445', '743'), ('1403', '445', '743'), ('445', '747', '880'), ('445', '747', '960'), ('1029', '445', '747'), ('1085', '445', '747'), ('445', '802', '960'), ('1085', '445', '802'), ('1217', '445', '802'), ('1029', '445', '828'), ('1109', '445', '828'), ('1217', '445', '849'), ('445', '880', '960'), ('1029', '445', '880'), ('1217', '445', '880'), ('1029', '445', '955'), ('1085', '1283', '445'), ('1099', '1217', '445'), ('467', '617', '644'), ('1109', '467', '644'), ('1279', '467', '644'), ('1109', '467', '743'), ('1085', '467', '960'), ('1109', '467', '960'), ('1029', '1109', '467'), ('1085', '1109', '467'), ('1109', '1366', '467'), ('1109', '544', '644'), ('1029', '544', '743'), ('1085', '544', '743'), ('1109', '544', '849'), ('1109', '544', '960'), ('1029', '1109', '544'), ('1029', '1217', '544'), ('1109', '1217', '544'), ('1029', '564', '694'), ('1085', '564', '743'), ('1109', '564', '849'), ('1109', '564', '960'), ('1029', '1109', '564'), ('1029', '1217', '564'), ('1085', '1283', '564'), ('1109', '1217', '564'), ('1217', '1283', '564'), ('576', '644', '694'), ('576', '644', '743'), ('576', '644', '802'), ('576', '644', '880'), ('1120', '576', '644'), ('1217', '576', '644'), ('1279', '576', '644'), ('1310', '576', '644'), ('1321', '576', '644'), ('576', '668', '694'), ('576', '694', '828'), ('576', '694', '960'), ('1029', '576', '694'), ('1387', '576', '694'), ('1109', '576', '711'), ('576', '743', '960'), ('1085', '576', '743'), ('1283', '576', '743'), ('1029', '576', '802'), ('1085', '576', '802'), ('1109', '576', '802'), ('1217', '576', '802'), ('1109', '576', '849'), ('576', '880', '960'), ('1085', '576', '880'), ('1117', '576', '880'), ('1321', '576', '880'), ('1321', '576', '960'), ('1029', '1109', '576'), ('1029', '1217', '576'), ('1109', '1217', '576'), ('617', '644', '747'), ('1279', '644', '651'), ('1029', '644', '694'), ('1109', '644', '711'), ('644', '743', '880'), ('1085', '644', '743'), ('1217', '644', '743'), ('644', '747', '880'), ('644', '747', '960'), ('1109', '644', '747'), ('1279', '644', '747'), ('1284', '644', '747'), ('1321', '644', '747'), ('644', '802', '960'), ('1029', '644', '802'), ('1109', '644', '802'), ('1217', '644', '802'), ('1283', '644', '802'), ('1109', '644', '849'), ('1279', '644', '857'), ('1029', '644', '880'), ('1279', '644', '880'), ('1109', '644', '955'), ('1217', '644', '960'), ('1279', '644', '960'), ('1321', '644', '960'), ('1109', '1279', '644'), ('1109', '1284', '644'), ('1109', '1366', '644'), ('1109', '1387', '644'), ('1172', '1279', '644'), ('1217', '1283', '644'), ('1029', '658', '743'), ('1029', '1085', '658'), ('1029', '1109', '658'), ('1085', '1109', '658'), ('694', '743', '802'), ('694', '743', '828'), ('1029', '694', '743'), ('1085', '694', '743'), ('694', '802', '828'), ('1085', '694', '802'), ('1109', '694', '802'), ('1283', '694', '802'), ('1029', '694', '828'), ('1109', '694', '828'), ('1109', '694', '849'), ('694', '880', '960'), ('1085', '694', '880'), ('1029', '694', '960'), ('1029', '1283', '694'), ('1109', '1217', '694'), ('1109', '711', '960'), ('1029', '1109', '711'), ('1085', '743', '802'), ('1109', '743', '802'), ('1029', '743', '849'), ('1217', '743', '849'), ('1029', '743', '880'), ('1085', '743', '880'), ('1109', '743', '880'), ('1109', '743', '955'), ('1403', '743', '955'), ('1029', '743', '960'), ('1029', '1403', '743'), ('1085', '1217', '743'), ('1085', '1283', '743'), ('1085', '1366', '743'), ('1109', '1120', '743'), ('1109', '1366', '743'), ('1283', '1403', '743'), ('1029', '747', '828'), ('747', '880', '955'), ('1029', '747', '880'), ('1109', '747', '880'), ('1109', '747', '960'), ('1029', '1085', '747'), ('1029', '1109', '747'), ('1085', '1109', '747'), ('1029', '802', '828'), ('1085', '802', '960'), ('1029', '1085', '802'), ('1029', '1217', '802'), ('1085', '1109', '802'), ('1029', '1085', '828'), ('1029', '1109', '828'), ('1109', '849', '880'), ('1085', '1109', '849'), ('1109', '1217', '849'), ('1109', '1366', '849'), ('1029', '880', '960'), ('1085', '880', '960'), ('1109', '880', '960'), ('1029', '1085', '880'), ('1029', '1109', '880'), ('1085', '1109', '880'), ('1109', '1217', '880'), ('1029', '1109', '955'), ('1085', '1109', '955'), ('1109', '1283', '955'), ('1109', '1279', '960'), ('1109', '1366', '960'), ('1029', '1084', '1109'), ('1029', '1109', '1366'), ('1085', '1109', '1217'), ('1085', '1109', '1283'), ('1109', '1217', '1283'), ('1109', '1279', '1366'), ('1109', '1283', '1366'), ('13', '368', '445', '91'), ('13', '368', '564', '91'), ('13', '368', '743', '91'), ('13', '368', '802', '91'), ('1029', '13', '368', '91'), ('1109', '13', '368', '91'), ('13', '445', '564', '91'), ('1109', '13', '445', '91'), ('13', '564', '802', '91'), ('1029', '13', '564', '91'), ('1109', '13', '564', '91'), ('13', '694', '802', '91'), ('13', '743', '802', '91'), ('1109', '13', '802', '91'), ('1283', '13', '802', '91'), ('1109', '13', '849', '91'), ('1029', '1109', '13', '91'), ('13', '368', '445', '743'), ('1029', '13', '368', '445'), ('13', '445', '743', '802'), ('1283', '13', '445', '743'), ('1109', '13', '445', '849'), ('1029', '1109', '13', '445'), ('1283', '13', '743', '802'), ('181', '445', '743', '91'), ('197', '445', '91', '960'), ('1109', '197', '445', '91'), ('1109', '197', '743', '91'), ('1283', '197', '743', '91'), ('1109', '197', '91', '960'), ('1109', '240', '445', '91'), ('1109', '240', '743', '91'), ('368', '445', '564', '91'), ('368', '445', '743', '91'), ('368', '445', '802', '91'), ('368', '445', '91', '960'), ('1109', '368', '445', '91'), ('368', '564', '802', '91'), ('1029', '368', '564', '91'), ('1283', '368', '564', '91'), ('368', '644', '743', '91'), ('368', '644', '802', '91'), ('368', '644', '91', '960'), ('1109', '368', '644', '91'), ('368', '743', '802', '91'), ('1029', '368', '743', '91'), ('1109', '368', '743', '91'), ('1217', '368', '743', '91'), ('1283', '368', '743', '91'), ('1109', '368', '747', '91'), ('1109', '368', '802', '91'), ('1109', '368', '849', '91'), ('1109', '368', '880', '91'), ('1109', '368', '91', '960'), ('1217', '368', '91', '960'), ('1029', '1109', '368', '91'), ('1029', '1217', '368', '91'), ('1109', '1217', '368', '91'), ('445', '544', '743', '91'), ('445', '564', '802', '91'), ('445', '576', '694', '91'), ('445', '576', '743', '91'), ('445', '644', '694', '91'), ('445', '644', '743', '91'), ('1109', '445', '644', '91'), ('445', '694', '743', '91'), ('1029', '445', '694', '91'), ('445', '743', '802', '91'), ('445', '743', '91', '960'), ('1085', '445', '743', '91'), ('1109', '445', '743', '91'), ('1217', '445', '743', '91'), ('1283', '445', '802', '91'), ('1109', '445', '849', '91'), ('1109', '445', '880', '91'), ('1109', '445', '91', '955'), ('1029', '445', '91', '960'), ('1109', '445', '91', '960'), ('1217', '445', '91', '960'), ('1029', '1217', '445', '91'), ('1085', '1109', '445', '91'), ('1109', '1217', '445', '91'), ('1029', '564', '802', '91'), ('1109', '564', '802', '91'), ('1109', '576', '644', '91'), ('576', '694', '743', '91'), ('576', '743', '802', '91'), ('1029', '576', '743', '91'), ('1109', '576', '743', '91'), ('1029', '576', '880', '91'), ('1109', '644', '694', '91'), ('1109', '644', '743', '91'), ('1109', '644', '91', '960'), ('1029', '1109', '644', '91'), ('1029', '1283', '644', '91'), ('1109', '1217', '644', '91'), ('1029', '694', '802', '91'), ('1109', '694', '91', '960'), ('1029', '1109', '694', '91'), ('1109', '743', '849', '91'), ('1217', '743', '91', '960'), ('1085', '1109', '743', '91'), ('1109', '1283', '743', '91'), ('1109', '802', '91', '960'), ('1029', '1283', '802', '91'), ('1109', '1283', '802', '91'), ('1109', '849', '91', '960'), ('1029', '1109', '849', '91'), ('1029', '1109', '91', '960'), ('1029', '1217', '91', '960'), ('1085', '1109', '91', '960'), ('1109', '1217', '91', '960'), ('1029', '1085', '1109', '91'), ('1029', '1109', '1283', '91'), ('1279', '166', '617', '644'), ('1283', '181', '445', '743'), ('1217', '197', '445', '743'), ('1283', '197', '445', '743'), ('1029', '1109', '197', '445'), ('1283', '197', '564', '743'), ('1109', '197', '576', '694'), ('1109', '197', '576', '743'), ('1109', '1283', '197', '743'), ('1217', '1283', '197', '743'), ('1109', '1283', '240', '644'), ('1283', '368', '445', '564'), ('368', '445', '743', '802'), ('1283', '368', '445', '743'), ('1283', '368', '564', '743'), ('1085', '368', '576', '694'), ('1109', '368', '644', '694'), ('368', '644', '743', '802'), ('1109', '368', '644', '880'), ('1283', '368', '743', '802'), ('445', '576', '694', '743'), ('1109', '445', '644', '694'), ('1029', '445', '743', '802'), ('1283', '445', '743', '802'), ('1029', '1109', '445', '743'), ('1029', '1217', '445', '743'), ('1109', '1217', '445', '743'), ('1109', '1283', '445', '743'), ('1217', '1283', '445', '743'), ('1109', '445', '747', '955'), ('1109', '445', '849', '960'), ('1029', '1109', '445', '960'), ('1029', '1085', '1109', '445'), ('1029', '1217', '1283', '445'), ('1029', '1283', '564', '743'), ('1109', '1283', '564', '743'), ('1109', '576', '644', '960'), ('1085', '1109', '576', '644'), ('576', '694', '743', '880'), ('1109', '576', '694', '743'), ('1109', '576', '694', '880'), ('1085', '1109', '576', '960'), ('1109', '644', '694', '960'), ('1109', '1283', '644', '743'), ('1109', '1283', '644', '960'), ('1085', '1109', '694', '960'), ('1085', '1109', '743', '960'), ('1029', '1085', '1109', '743'), ('1029', '1109', '1283', '743'), ('1029', '13', '445', '743', '91'), ('1029', '13', '445', '802', '91'), ('1029', '13', '445', '849', '91'), ('1283', '13', '564', '743', '91'), ('1029', '445', '564', '743', '91'), ('1283', '445', '564', '743', '91'), ('1029', '1283', '445', '743', '91'), ('1029', '1109', '445', '802', '91'), ('1283', '564', '743', '802', '91'), ('1029', '1109', '1217', '743', '91'), ('1029', '1217', '1283', '743', '91')]\n",
            "minRSup 0.028 yielded 1353 skyline frequent itemsets:\n",
            "[('2',), ('3',), ('8',), ('25',), ('42',), ('49',), ('72',), ('85',), ('107',), ('125',), ('136',), ('190',), ('195',), ('204',), ('210',), ('239',), ('276',), ('295',), ('305',), ('338',), ('339',), ('421',), ('435',), ('441',), ('444',), ('482',), ('512',), ('522',), ('524',), ('548',), ('551',), ('631',), ('633',), ('641',), ('648',), ('687',), ('689',), ('697',), ('728',), ('753',), ('760',), ('803',), ('805',), ('818',), ('851',), ('852',), ('863',), ('878',), ('912',), ('947',), ('954',), ('965',), ('993',), ('1014',), ('1044',), ('1087',), ('1107',), ('1156',), ('1178',), ('1195',), ('1199',), ('1214',), ('1224',), ('1233',), ('1259',), ('1274',), ('1282',), ('1290',), ('1322',), ('1334',), ('1362',), ('1405',), ('445', '6'), ('564', '6'), ('1109', '6'), ('1283', '6'), ('13', '32'), ('13', '48'), ('13', '68'), ('109', '13'), ('13', '166'), ('13', '168'), ('13', '197'), ('13', '240'), ('13', '668'), ('13', '747'), ('13', '880'), ('1084', '13'), ('1117', '13'), ('1279', '13'), ('13', '1387'), ('18', '644'), ('197', '32'), ('32', '445'), ('32', '576'), ('32', '617'), ('32', '644'), ('32', '802'), ('32', '814'), ('32', '849'), ('32', '880'), ('32', '960'), ('1029', '32'), ('1279', '32'), ('109', '48'), ('240', '48'), ('368', '48'), ('467', '48'), ('48', '617'), ('48', '651'), ('48', '668'), ('48', '743'), ('48', '747'), ('48', '857'), ('48', '960'), ('1109', '48'), ('1117', '48'), ('1120', '48'), ('1217', '48'), ('1321', '48'), ('445', '68'), ('576', '68'), ('644', '68'), ('68', '743'), ('1029', '68'), ('88', '95'), ('197', '88'), ('199', '88'), ('240', '88'), ('358', '88'), ('368', '88'), ('445', '88'), ('467', '88'), ('606', '88'), ('651', '88'), ('694', '88'), ('747', '88'), ('780', '88'), ('802', '88'), ('849', '88'), ('857', '88'), ('88', '880'), ('88', '977'), ('1117', '88'), ('1120', '88'), ('1206', '88'), ('1217', '88'), ('1279', '88'), ('1283', '88'), ('1291', '88'), ('1353', '88'), ('1387', '88'), ('91', '95'), ('109', '91'), ('188', '91'), ('199', '91'), ('272', '91'), ('382', '91'), ('433', '91'), ('449', '91'), ('651', '91'), ('725', '91'), ('757', '91'), ('814', '91'), ('845', '91'), ('857', '91'), ('870', '91'), ('91', '996'), ('1023', '91'), ('1038', '91'), ('1084', '91'), ('1088', '91'), ('1099', '91'), ('1115', '91'), ('1206', '91'), ('1244', '91'), ('1264', '91'), ('1271', '91'), ('1310', '91'), ('1323', '91'), ('1337', '91'), ('1353', '91'), ('1381', '91'), ('1406', '91'), ('576', '95'), ('644', '95'), ('743', '95'), ('1029', '95'), ('1109', '95'), ('1120', '95'), ('1206', '95'), ('1279', '95'), ('1283', '95'), ('109', '166'), ('109', '576'), ('109', '606'), ('109', '617'), ('109', '644'), ('109', '743'), ('109', '747'), ('109', '880'), ('109', '960'), ('109', '1109'), ('109', '1117'), ('109', '1279'), ('109', '1291'), ('109', '1310'), ('113', '166'), ('113', '368'), ('113', '467'), ('113', '576'), ('113', '644'), ('113', '849'), ('113', '880'), ('1085', '113'), ('1109', '113'), ('123', '368'), ('123', '467'), ('123', '544'), ('123', '576'), ('123', '743'), ('123', '747'), ('123', '781'), ('123', '960'), ('1085', '123'), ('123', '1279'), ('123', '1283'), ('127', '576'), ('127', '644'), ('127', '880'), ('166', '188'), ('166', '197'), ('166', '199'), ('166', '259'), ('166', '358'), ('166', '387'), ('166', '544'), ('166', '564'), ('166', '668'), ('166', '711'), ('166', '757'), ('166', '781'), ('166', '802'), ('166', '814'), ('166', '828'), ('166', '849'), ('166', '857'), ('166', '955'), ('1033', '166'), ('1117', '166'), ('1172', '166'), ('1283', '166'), ('1310', '166'), ('1323', '166'), ('1366', '166'), ('1377', '166'), ('1403', '166'), ('1406', '166'), ('168', '445'), ('169', '644'), ('1109', '169'), ('181', '564'), ('181', '644'), ('181', '802'), ('181', '880'), ('1109', '181'), ('1029', '183'), ('188', '240'), ('188', '576'), ('188', '644'), ('188', '747'), ('1217', '188'), ('197', '658'), ('197', '747'), ('197', '814'), ('197', '828'), ('197', '849'), ('197', '880'), ('1377', '197'), ('1387', '197'), ('1403', '197'), ('199', '240'), ('199', '467'), ('199', '544'), ('199', '644'), ('199', '651'), ('199', '960'), ('1109', '199'), ('1279', '199'), ('215', '644'), ('1109', '215'), ('218', '368'), ('218', '445'), ('218', '576'), ('218', '743'), ('1109', '218'), ('1279', '218'), ('224', '644'), ('240', '382'), ('240', '576'), ('240', '711'), ('240', '747'), ('240', '757'), ('240', '781'), ('240', '802'), ('240', '906'), ('1117', '240'), ('1172', '240'), ('1206', '240'), ('1279', '240'), ('1310', '240'), ('1321', '240'), ('1337', '240'), ('1366', '240'), ('1310', '251'), ('272', '445'), ('272', '747'), ('272', '960'), ('1029', '272'), ('1109', '272'), ('279', '880'), ('347', '368'), ('357', '828'), ('358', '368'), ('358', '445'), ('358', '576'), ('358', '644'), ('358', '694'), ('358', '743'), ('358', '747'), ('358', '802'), ('358', '880'), ('358', '977'), ('1283', '358'), ('1291', '358'), ('368', '398'), ('368', '617'), ('368', '651'), ('368', '845'), ('368', '857'), ('368', '996'), ('1027', '368'), ('1117', '368'), ('1120', '368'), ('1190', '368'), ('1245', '368'), ('1279', '368'), ('1284', '368'), ('1353', '368'), ('1381', '368'), ('1406', '368'), ('382', '644'), ('1109', '382'), ('1285', '382'), ('387', '576'), ('387', '644'), ('387', '743'), ('387', '747'), ('387', '955'), ('1109', '387'), ('1279', '387'), ('398', '467'), ('398', '564'), ('398', '576'), ('398', '644'), ('398', '668'), ('398', '880'), ('1120', '433'), ('445', '814'), ('445', '845'), ('445', '996'), ('1023', '445'), ('1027', '445'), ('1088', '445'), ('1115', '445'), ('1117', '445'), ('1120', '445'), ('1172', '445'), ('1323', '445'), ('1366', '445'), ('449', '672'), ('449', '743'), ('1217', '449'), ('467', '576'), ('467', '668'), ('467', '747'), ('467', '849'), ('467', '857'), ('467', '880'), ('467', '955'), ('1117', '467'), ('1120', '467'), ('1217', '467'), ('1321', '467'), ('1337', '467'), ('507', '694'), ('544', '576'), ('544', '747'), ('1120', '544'), ('1279', '544'), ('1283', '544'), ('564', '658'), ('564', '780'), ('1027', '564'), ('572', '644'), ('1109', '572'), ('1217', '572'), ('576', '617'), ('576', '651'), ('576', '747'), ('576', '781'), ('576', '845'), ('576', '857'), ('576', '955'), ('1206', '576'), ('1323', '576'), ('1366', '576'), ('1377', '576'), ('1109', '597'), ('606', '644'), ('1283', '606'), ('617', '849'), ('617', '880'), ('1117', '617'), ('1120', '617'), ('1172', '617'), ('1337', '617'), ('1109', '629'), ('644', '668'), ('644', '725'), ('644', '752'), ('644', '757'), ('644', '780'), ('644', '781'), ('644', '814'), ('644', '828'), ('644', '845'), ('644', '861'), ('644', '870'), ('644', '906'), ('644', '973'), ('644', '977'), ('644', '996'), ('1023', '644'), ('1033', '644'), ('1084', '644'), ('1110', '644'), ('1117', '644'), ('1206', '644'), ('1247', '644'), ('1264', '644'), ('1271', '644'), ('1285', '644'), ('1337', '644'), ('1342', '644'), ('1377', '644'), ('1381', '644'), ('1403', '644'), ('651', '802'), ('651', '857'), ('651', '880'), ('651', '960'), ('1029', '651'), ('1109', '651'), ('1206', '651'), ('1387', '651'), ('658', '960'), ('1217', '658'), ('668', '747'), ('668', '802'), ('668', '849'), ('668', '880'), ('1029', '668'), ('1085', '668'), ('1217', '668'), ('1283', '668'), ('1377', '668'), ('1387', '668'), ('694', '747'), ('694', '955'), ('1084', '694'), ('1117', '694'), ('1284', '694'), ('1377', '694'), ('711', '743'), ('711', '880'), ('1117', '711'), ('1217', '711'), ('743', '814'), ('743', '996'), ('1023', '743'), ('1084', '743'), ('1117', '743'), ('1206', '743'), ('1284', '743'), ('1310', '743'), ('1323', '743'), ('1342', '743'), ('747', '802'), ('747', '845'), ('747', '849'), ('747', '857'), ('747', '973'), ('747', '996'), ('1084', '747'), ('1117', '747'), ('1271', '747'), ('1283', '747'), ('1291', '747'), ('1310', '747'), ('1366', '747'), ('1387', '747'), ('1403', '747'), ('1029', '757'), ('1109', '757'), ('1172', '757'), ('1217', '780'), ('1283', '780'), ('1366', '780'), ('802', '845'), ('802', '880'), ('802', '955'), ('1084', '802'), ('1110', '802'), ('1117', '802'), ('1279', '802'), ('1029', '814'), ('1085', '814'), ('1109', '814'), ('828', '880'), ('828', '955'), ('828', '960'), ('1283', '828'), ('1323', '828'), ('845', '880'), ('1217', '845'), ('1403', '845'), ('1120', '849'), ('1279', '849'), ('1283', '849'), ('1377', '849'), ('1403', '849'), ('857', '880'), ('857', '960'), ('1029', '857'), ('1109', '857'), ('1120', '857'), ('1217', '857'), ('1283', '857'), ('1027', '880'), ('1172', '880'), ('1283', '880'), ('1284', '880'), ('1310', '880'), ('1366', '880'), ('1387', '880'), ('1403', '880'), ('955', '960'), ('1217', '955'), ('1279', '955'), ('960', '973'), ('1023', '960'), ('1027', '960'), ('1117', '960'), ('1120', '960'), ('1206', '960'), ('1284', '960'), ('1353', '960'), ('1387', '960'), ('1403', '960'), ('1109', '973'), ('1217', '973'), ('1029', '996'), ('1109', '996'), ('1217', '996'), ('1283', '996'), ('1291', '996'), ('1023', '1109'), ('1027', '1109'), ('1027', '1403'), ('1029', '1038'), ('1029', '1088'), ('1029', '1110'), ('1029', '1120'), ('1029', '1172'), ('1029', '1279'), ('1029', '1284'), ('1029', '1310'), ('1029', '1321'), ('1029', '1323'), ('1029', '1337'), ('1029', '1387'), ('1038', '1109'), ('1085', '1117'), ('1085', '1120'), ('1085', '1279'), ('1085', '1323'), ('1085', '1353'), ('1085', '1377'), ('1085', '1403'), ('1088', '1109'), ('1099', '1109'), ('1109', '1110'), ('1109', '1117'), ('1109', '1190'), ('1109', '1264'), ('1109', '1285'), ('1109', '1310'), ('1109', '1321'), ('1109', '1323'), ('1109', '1337'), ('1109', '1342'), ('1109', '1353'), ('1109', '1381'), ('1109', '1403'), ('1109', '1406'), ('1117', '1172'), ('1117', '1279'), ('1117', '1283'), ('1117', '1377'), ('1120', '1279'), ('1120', '1283'), ('1172', '1310'), ('1190', '1217'), ('1201', '1385'), ('1206', '1279'), ('1217', '1284'), ('1217', '1321'), ('1217', '1323'), ('1217', '1366'), ('1217', '1403'), ('1279', '1283'), ('1283', '1387'), ('1284', '1321'), ('1284', '1403'), ('1310', '1387'), ('368', '6', '91'), ('1029', '6', '743'), ('13', '218', '91'), ('13', '544', '91'), ('13', '576', '91'), ('13', '644', '91'), ('13', '91', '960'), ('1217', '13', '91'), ('1283', '13', '368'), ('13', '445', '644'), ('13', '445', '694'), ('1085', '13', '445'), ('1109', '13', '544'), ('1109', '13', '644'), ('1029', '13', '658'), ('1029', '13', '694'), ('13', '743', '849'), ('1085', '13', '743'), ('1109', '13', '743'), ('1217', '13', '743'), ('13', '802', '849'), ('1029', '13', '828'), ('13', '849', '960'), ('1029', '13', '960'), ('1109', '13', '960'), ('1085', '1109', '13'), ('1109', '1283', '13'), ('1109', '32', '91'), ('1109', '32', '743'), ('1283', '32', '743'), ('1085', '1109', '32'), ('1109', '1283', '32'), ('48', '644', '88'), ('1029', '48', '91'), ('166', '48', '644'), ('48', '576', '644'), ('48', '644', '880'), ('1172', '48', '644'), ('1279', '48', '644'), ('1109', '68', '91'), ('1109', '68', '960'), ('1109', '1283', '68'), ('1029', '88', '91'), ('1109', '88', '91'), ('166', '644', '88'), ('576', '644', '88'), ('644', '743', '88'), ('644', '88', '960'), ('1109', '644', '88'), ('1321', '644', '88'), ('1109', '743', '88'), ('1029', '1085', '88'), ('1029', '1109', '88'), ('113', '743', '91'), ('123', '240', '91'), ('123', '880', '91'), ('123', '91', '955'), ('1109', '123', '91'), ('166', '368', '91'), ('166', '467', '91'), ('166', '576', '91'), ('166', '617', '91'), ('166', '644', '91'), ('166', '743', '91'), ('166', '880', '91'), ('166', '91', '960'), ('1029', '166', '91'), ('1109', '166', '91'), ('1120', '166', '91'), ('1217', '166', '91'), ('1279', '166', '91'), ('1321', '166', '91'), ('181', '368', '91'), ('197', '368', '91'), ('197', '564', '91'), ('197', '576', '91'), ('197', '644', '91'), ('1029', '197', '91'), ('1085', '197', '91'), ('1217', '197', '91'), ('240', '368', '91'), ('240', '467', '91'), ('240', '617', '91'), ('240', '644', '91'), ('240', '880', '91'), ('240', '91', '955'), ('1029', '240', '91'), ('1283', '240', '91'), ('1029', '358', '91'), ('1217', '358', '91'), ('368', '544', '91'), ('368', '576', '91'), ('368', '658', '91'), ('368', '668', '91'), ('368', '694', '91'), ('368', '780', '91'), ('368', '91', '955'), ('1085', '368', '91'), ('1377', '368', '91'), ('1387', '368', '91'), ('1403', '368', '91'), ('398', '743', '91'), ('445', '467', '91'), ('445', '668', '91'), ('1110', '445', '91'), ('1387', '445', '91'), ('467', '617', '91'), ('467', '644', '91'), ('467', '743', '91'), ('467', '91', '960'), ('1029', '467', '91'), ('1109', '467', '91'), ('544', '644', '91'), ('544', '668', '91'), ('544', '694', '91'), ('544', '849', '91'), ('544', '91', '960'), ('1029', '544', '91'), ('1085', '544', '91'), ('1109', '544', '91'), ('1217', '544', '91'), ('564', '576', '91'), ('564', '668', '91'), ('564', '694', '91'), ('564', '91', '960'), ('1217', '564', '91'), ('1403', '564', '91'), ('576', '91', '960'), ('1085', '576', '91'), ('1117', '576', '91'), ('1172', '576', '91'), ('1217', '576', '91'), ('1279', '576', '91'), ('1284', '576', '91'), ('1321', '576', '91'), ('617', '644', '91'), ('617', '91', '960'), ('1029', '617', '91'), ('1109', '617', '91'), ('1279', '617', '91'), ('1283', '617', '91'), ('644', '747', '91'), ('644', '880', '91'), ('644', '91', '955'), ('1172', '644', '91'), ('1279', '644', '91'), ('1284', '644', '91'), ('1321', '644', '91'), ('1029', '658', '91'), ('1109', '658', '91'), ('668', '694', '91'), ('668', '743', '91'), ('668', '91', '960'), ('1109', '668', '91'), ('694', '849', '91'), ('1085', '694', '91'), ('1109', '711', '91'), ('743', '780', '91'), ('743', '880', '91'), ('743', '91', '955'), ('1027', '743', '91'), ('1120', '743', '91'), ('1172', '743', '91'), ('1190', '743', '91'), ('1279', '743', '91'), ('1366', '743', '91'), ('1377', '743', '91'), ('1387', '743', '91'), ('1403', '743', '91'), ('747', '880', '91'), ('1029', '747', '91'), ('1217', '747', '91'), ('1284', '747', '91'), ('780', '91', '960'), ('1109', '780', '91'), ('1085', '802', '91'), ('1217', '802', '91'), ('1029', '828', '91'), ('1217', '849', '91'), ('1387', '849', '91'), ('880', '91', '960'), ('1085', '880', '91'), ('1117', '880', '91'), ('1217', '880', '91'), ('1279', '880', '91'), ('1321', '880', '91'), ('1377', '880', '91'), ('1029', '91', '955'), ('1283', '91', '955'), ('1283', '91', '960'), ('1027', '1029', '91'), ('1029', '1117', '91'), ('1029', '1366', '91'), ('1029', '1403', '91'), ('1085', '1172', '91'), ('1085', '1217', '91'), ('1109', '1172', '91'), ('1109', '1279', '91'), ('1109', '1284', '91'), ('1109', '1366', '91'), ('1109', '1377', '91'), ('1109', '1387', '91'), ('1120', '1217', '91'), ('123', '166', '644'), ('123', '166', '880'), ('1109', '123', '445'), ('166', '240', '644'), ('166', '240', '880'), ('166', '368', '467'), ('166', '368', '644'), ('166', '445', '467'), ('166', '445', '644'), ('166', '445', '960'), ('166', '467', '617'), ('166', '467', '644'), ('166', '467', '960'), ('1279', '166', '467'), ('166', '576', '644'), ('166', '576', '880'), ('1085', '166', '576'), ('1109', '166', '576'), ('1279', '166', '576'), ('166', '644', '694'), ('166', '644', '747'), ('166', '644', '880'), ('166', '644', '960'), ('1109', '166', '644'), ('1217', '166', '644'), ('1291', '166', '644'), ('1321', '166', '644'), ('1109', '166', '747'), ('1279', '166', '747'), ('1279', '166', '880'), ('1109', '166', '960'), ('1279', '166', '960'), ('1029', '1109', '166'), ('1085', '1109', '166'), ('1109', '1217', '166'), ('1109', '1279', '166'), ('1279', '1321', '166'), ('1109', '168', '743'), ('1109', '1217', '168'), ('181', '368', '445'), ('181', '368', '743'), ('1029', '181', '445'), ('1217', '181', '445'), ('1029', '181', '743'), ('197', '368', '445'), ('197', '368', '644'), ('197', '368', '694'), ('197', '368', '743'), ('1109', '197', '368'), ('1283', '197', '368'), ('197', '445', '564'), ('197', '445', '576'), ('197', '445', '644'), ('1085', '197', '445'), ('1109', '197', '467'), ('1109', '197', '564'), ('197', '576', '644'), ('197', '644', '694'), ('1109', '197', '644'), ('1109', '197', '668'), ('197', '743', '960'), ('1029', '197', '743'), ('1085', '197', '743'), ('1109', '197', '802'), ('1029', '197', '960'), ('1029', '1085', '197'), ('1085', '1109', '197'), ('1109', '1217', '197'), ('1109', '224', '743'), ('240', '368', '644'), ('240', '368', '880'), ('1109', '240', '368'), ('240', '445', '880'), ('240', '467', '780'), ('1109', '240', '467'), ('240', '644', '955'), ('240', '644', '960'), ('1109', '240', '880'), ('1109', '240', '955'), ('1109', '240', '960'), ('1029', '1109', '240'), ('1085', '1109', '240'), ('1109', '1217', '240'), ('1109', '1387', '240'), ('251', '644', '747'), ('1029', '306', '413'), ('1109', '306', '413'), ('1085', '358', '996'), ('1029', '1109', '358'), ('1029', '1217', '358'), ('368', '445', '644'), ('368', '445', '694'), ('368', '445', '880'), ('1084', '368', '445'), ('1085', '368', '445'), ('1217', '368', '445'), ('368', '544', '743'), ('1109', '368', '544'), ('1109', '368', '564'), ('1217', '368', '564'), ('368', '576', '644'), ('368', '576', '743'), ('368', '576', '802'), ('1109', '368', '576'), ('1217', '368', '644'), ('368', '658', '743'), ('1109', '368', '658'), ('1109', '368', '668'), ('368', '694', '802'), ('1029', '368', '694'), ('368', '743', '880'), ('368', '743', '960'), ('1085', '368', '743'), ('368', '747', '880'), ('1029', '368', '802'), ('368', '880', '960'), ('1085', '368', '880'), ('1217', '368', '880'), ('1109', '368', '955'), ('1029', '1283', '368'), ('1085', '1109', '368'), ('1109', '1283', '368'), ('1109', '1377', '368'), ('1109', '1387', '368'), ('1217', '1283', '368'), ('1109', '398', '743'), ('1109', '445', '467'), ('1029', '445', '544'), ('1109', '445', '544'), ('445', '564', '644'), ('445', '564', '694'), ('445', '564', '880'), ('445', '564', '960'), ('1109', '445', '564'), ('1217', '445', '564'), ('445', '576', '644'), ('445', '576', '802'), ('1029', '445', '576'), ('1109', '445', '576'), ('1217', '445', '576'), ('445', '644', '802'), ('445', '644', '880'), ('445', '644', '960'), ('1029', '445', '644'), ('1085', '445', '644'), ('1217', '445', '644'), ('1279', '445', '644'), ('1283', '445', '644'), ('1029', '445', '658'), ('445', '668', '743'), ('445', '694', '802'), ('1085', '445', '694'), ('1283', '445', '694'), ('445', '743', '747'), ('445', '743', '849'), ('445', '743', '880'), ('1099', '445', '743'), ('1403', '445', '743'), ('445', '747', '880'), ('445', '747', '960'), ('1029', '445', '747'), ('1085', '445', '747'), ('445', '802', '960'), ('1085', '445', '802'), ('1217', '445', '802'), ('1029', '445', '828'), ('1109', '445', '828'), ('1217', '445', '849'), ('445', '880', '960'), ('1029', '445', '880'), ('1217', '445', '880'), ('1029', '445', '955'), ('1085', '1283', '445'), ('1099', '1217', '445'), ('467', '617', '644'), ('1109', '467', '644'), ('1279', '467', '644'), ('1109', '467', '743'), ('1085', '467', '960'), ('1109', '467', '960'), ('1029', '1109', '467'), ('1085', '1109', '467'), ('1109', '1366', '467'), ('1109', '544', '644'), ('1029', '544', '743'), ('1085', '544', '743'), ('1109', '544', '849'), ('1109', '544', '960'), ('1029', '1109', '544'), ('1029', '1217', '544'), ('1109', '1217', '544'), ('1029', '564', '694'), ('1085', '564', '743'), ('1109', '564', '849'), ('1109', '564', '960'), ('1029', '1109', '564'), ('1029', '1217', '564'), ('1085', '1283', '564'), ('1109', '1217', '564'), ('1217', '1283', '564'), ('576', '644', '694'), ('576', '644', '743'), ('576', '644', '802'), ('576', '644', '880'), ('1120', '576', '644'), ('1217', '576', '644'), ('1279', '576', '644'), ('1310', '576', '644'), ('1321', '576', '644'), ('576', '668', '694'), ('576', '694', '828'), ('576', '694', '960'), ('1029', '576', '694'), ('1387', '576', '694'), ('1109', '576', '711'), ('576', '743', '960'), ('1085', '576', '743'), ('1283', '576', '743'), ('1029', '576', '802'), ('1085', '576', '802'), ('1109', '576', '802'), ('1217', '576', '802'), ('1109', '576', '849'), ('576', '880', '960'), ('1085', '576', '880'), ('1117', '576', '880'), ('1321', '576', '880'), ('1321', '576', '960'), ('1029', '1109', '576'), ('1029', '1217', '576'), ('1109', '1217', '576'), ('617', '644', '747'), ('1279', '644', '651'), ('1029', '644', '694'), ('1109', '644', '711'), ('644', '743', '880'), ('1085', '644', '743'), ('1217', '644', '743'), ('644', '747', '880'), ('644', '747', '960'), ('1109', '644', '747'), ('1279', '644', '747'), ('1284', '644', '747'), ('1321', '644', '747'), ('644', '802', '960'), ('1029', '644', '802'), ('1109', '644', '802'), ('1217', '644', '802'), ('1283', '644', '802'), ('1109', '644', '849'), ('1279', '644', '857'), ('1029', '644', '880'), ('1279', '644', '880'), ('1109', '644', '955'), ('1217', '644', '960'), ('1279', '644', '960'), ('1321', '644', '960'), ('1109', '1279', '644'), ('1109', '1284', '644'), ('1109', '1366', '644'), ('1109', '1387', '644'), ('1172', '1279', '644'), ('1217', '1283', '644'), ('1029', '658', '743'), ('1029', '1085', '658'), ('1029', '1109', '658'), ('1085', '1109', '658'), ('694', '743', '802'), ('694', '743', '828'), ('1029', '694', '743'), ('1085', '694', '743'), ('694', '802', '828'), ('1085', '694', '802'), ('1109', '694', '802'), ('1283', '694', '802'), ('1029', '694', '828'), ('1109', '694', '828'), ('1109', '694', '849'), ('694', '880', '960'), ('1085', '694', '880'), ('1029', '694', '960'), ('1029', '1283', '694'), ('1109', '1217', '694'), ('1109', '711', '960'), ('1029', '1109', '711'), ('1085', '743', '802'), ('1109', '743', '802'), ('1029', '743', '849'), ('1217', '743', '849'), ('1029', '743', '880'), ('1085', '743', '880'), ('1109', '743', '880'), ('1109', '743', '955'), ('1403', '743', '955'), ('1029', '743', '960'), ('1029', '1403', '743'), ('1085', '1217', '743'), ('1085', '1283', '743'), ('1085', '1366', '743'), ('1109', '1120', '743'), ('1109', '1366', '743'), ('1283', '1403', '743'), ('1029', '747', '828'), ('747', '880', '955'), ('1029', '747', '880'), ('1109', '747', '880'), ('1109', '747', '960'), ('1029', '1085', '747'), ('1029', '1109', '747'), ('1085', '1109', '747'), ('1029', '802', '828'), ('1085', '802', '960'), ('1029', '1085', '802'), ('1029', '1217', '802'), ('1085', '1109', '802'), ('1029', '1085', '828'), ('1029', '1109', '828'), ('1109', '849', '880'), ('1085', '1109', '849'), ('1109', '1217', '849'), ('1109', '1366', '849'), ('1029', '880', '960'), ('1085', '880', '960'), ('1109', '880', '960'), ('1029', '1085', '880'), ('1029', '1109', '880'), ('1085', '1109', '880'), ('1109', '1217', '880'), ('1029', '1109', '955'), ('1085', '1109', '955'), ('1109', '1283', '955'), ('1109', '1279', '960'), ('1109', '1366', '960'), ('1029', '1084', '1109'), ('1029', '1109', '1366'), ('1085', '1109', '1217'), ('1085', '1109', '1283'), ('1109', '1217', '1283'), ('1109', '1279', '1366'), ('1109', '1283', '1366'), ('13', '368', '445', '91'), ('13', '368', '564', '91'), ('13', '368', '743', '91'), ('13', '368', '802', '91'), ('1029', '13', '368', '91'), ('1109', '13', '368', '91'), ('13', '445', '564', '91'), ('1109', '13', '445', '91'), ('13', '564', '802', '91'), ('1029', '13', '564', '91'), ('1109', '13', '564', '91'), ('13', '694', '802', '91'), ('13', '743', '802', '91'), ('1109', '13', '802', '91'), ('1283', '13', '802', '91'), ('1109', '13', '849', '91'), ('1029', '1109', '13', '91'), ('13', '368', '445', '743'), ('1029', '13', '368', '445'), ('13', '445', '743', '802'), ('1283', '13', '445', '743'), ('1109', '13', '445', '849'), ('1029', '1109', '13', '445'), ('1283', '13', '743', '802'), ('181', '445', '743', '91'), ('197', '445', '91', '960'), ('1109', '197', '445', '91'), ('1109', '197', '743', '91'), ('1283', '197', '743', '91'), ('1109', '197', '91', '960'), ('1109', '240', '445', '91'), ('1109', '240', '743', '91'), ('368', '445', '564', '91'), ('368', '445', '743', '91'), ('368', '445', '802', '91'), ('368', '445', '91', '960'), ('1109', '368', '445', '91'), ('368', '564', '802', '91'), ('1029', '368', '564', '91'), ('1283', '368', '564', '91'), ('368', '644', '743', '91'), ('368', '644', '802', '91'), ('368', '644', '91', '960'), ('1109', '368', '644', '91'), ('368', '743', '802', '91'), ('1029', '368', '743', '91'), ('1109', '368', '743', '91'), ('1217', '368', '743', '91'), ('1283', '368', '743', '91'), ('1109', '368', '747', '91'), ('1109', '368', '802', '91'), ('1109', '368', '849', '91'), ('1109', '368', '880', '91'), ('1109', '368', '91', '960'), ('1217', '368', '91', '960'), ('1029', '1109', '368', '91'), ('1029', '1217', '368', '91'), ('1109', '1217', '368', '91'), ('445', '544', '743', '91'), ('445', '564', '802', '91'), ('445', '576', '694', '91'), ('445', '576', '743', '91'), ('445', '644', '694', '91'), ('445', '644', '743', '91'), ('1109', '445', '644', '91'), ('445', '694', '743', '91'), ('1029', '445', '694', '91'), ('445', '743', '802', '91'), ('445', '743', '91', '960'), ('1085', '445', '743', '91'), ('1109', '445', '743', '91'), ('1217', '445', '743', '91'), ('1283', '445', '802', '91'), ('1109', '445', '849', '91'), ('1109', '445', '880', '91'), ('1109', '445', '91', '955'), ('1029', '445', '91', '960'), ('1109', '445', '91', '960'), ('1217', '445', '91', '960'), ('1029', '1217', '445', '91'), ('1085', '1109', '445', '91'), ('1109', '1217', '445', '91'), ('1029', '564', '802', '91'), ('1109', '564', '802', '91'), ('1109', '576', '644', '91'), ('576', '694', '743', '91'), ('576', '743', '802', '91'), ('1029', '576', '743', '91'), ('1109', '576', '743', '91'), ('1029', '576', '880', '91'), ('1109', '644', '694', '91'), ('1109', '644', '743', '91'), ('1109', '644', '91', '960'), ('1029', '1109', '644', '91'), ('1029', '1283', '644', '91'), ('1109', '1217', '644', '91'), ('1029', '694', '802', '91'), ('1109', '694', '91', '960'), ('1029', '1109', '694', '91'), ('1109', '743', '849', '91'), ('1217', '743', '91', '960'), ('1085', '1109', '743', '91'), ('1109', '1283', '743', '91'), ('1109', '802', '91', '960'), ('1029', '1283', '802', '91'), ('1109', '1283', '802', '91'), ('1109', '849', '91', '960'), ('1029', '1109', '849', '91'), ('1029', '1109', '91', '960'), ('1029', '1217', '91', '960'), ('1085', '1109', '91', '960'), ('1109', '1217', '91', '960'), ('1029', '1085', '1109', '91'), ('1029', '1109', '1283', '91'), ('1279', '166', '617', '644'), ('1283', '181', '445', '743'), ('1217', '197', '445', '743'), ('1283', '197', '445', '743'), ('1029', '1109', '197', '445'), ('1283', '197', '564', '743'), ('1109', '197', '576', '694'), ('1109', '197', '576', '743'), ('1109', '1283', '197', '743'), ('1217', '1283', '197', '743'), ('1109', '1283', '240', '644'), ('1283', '368', '445', '564'), ('368', '445', '743', '802'), ('1283', '368', '445', '743'), ('1283', '368', '564', '743'), ('1085', '368', '576', '694'), ('1109', '368', '644', '694'), ('368', '644', '743', '802'), ('1109', '368', '644', '880'), ('1283', '368', '743', '802'), ('445', '576', '694', '743'), ('1109', '445', '644', '694'), ('1029', '445', '743', '802'), ('1283', '445', '743', '802'), ('1029', '1109', '445', '743'), ('1029', '1217', '445', '743'), ('1109', '1217', '445', '743'), ('1109', '1283', '445', '743'), ('1217', '1283', '445', '743'), ('1109', '445', '747', '955'), ('1109', '445', '849', '960'), ('1029', '1109', '445', '960'), ('1029', '1085', '1109', '445'), ('1029', '1217', '1283', '445'), ('1029', '1283', '564', '743'), ('1109', '1283', '564', '743'), ('1109', '576', '644', '960'), ('1085', '1109', '576', '644'), ('576', '694', '743', '880'), ('1109', '576', '694', '743'), ('1109', '576', '694', '880'), ('1085', '1109', '576', '960'), ('1109', '644', '694', '960'), ('1109', '1283', '644', '743'), ('1109', '1283', '644', '960'), ('1085', '1109', '694', '960'), ('1085', '1109', '743', '960'), ('1029', '1085', '1109', '743'), ('1029', '1109', '1283', '743'), ('1029', '13', '445', '743', '91'), ('1029', '13', '445', '802', '91'), ('1029', '13', '445', '849', '91'), ('1283', '13', '564', '743', '91'), ('1029', '445', '564', '743', '91'), ('1283', '445', '564', '743', '91'), ('1029', '1283', '445', '743', '91'), ('1029', '1109', '445', '802', '91'), ('1283', '564', '743', '802', '91'), ('1029', '1109', '1217', '743', '91'), ('1029', '1217', '1283', '743', '91')]\n",
            "minRSup 0.029 yielded 1022 skyline frequent itemsets:\n",
            "[('3',), ('8',), ('18',), ('42',), ('49',), ('85',), ('107',), ('125',), ('136',), ('183',), ('190',), ('195',), ('204',), ('215',), ('239',), ('259',), ('276',), ('279',), ('305',), ('338',), ('347',), ('421',), ('435',), ('441',), ('444',), ('482',), ('507',), ('522',), ('524',), ('548',), ('551',), ('641',), ('648',), ('672',), ('689',), ('725',), ('728',), ('752',), ('753',), ('803',), ('805',), ('818',), ('852',), ('861',), ('863',), ('870',), ('878',), ('912',), ('947',), ('954',), ('965',), ('993',), ('1014',), ('1044',), ('1107',), ('1115',), ('1156',), ('1178',), ('1195',), ('1224',), ('1244',), ('1245',), ('1247',), ('1259',), ('1274',), ('1290',), ('1405',), ('6', '91'), ('368', '6'), ('445', '6'), ('6', '743'), ('1029', '6'), ('1109', '6'), ('13', '32'), ('13', '48'), ('13', '68'), ('109', '13'), ('13', '166'), ('13', '197'), ('13', '218'), ('13', '544'), ('13', '644'), ('13', '668'), ('13', '747'), ('13', '880'), ('1117', '13'), ('1217', '13'), ('1279', '13'), ('13', '1387'), ('32', '445'), ('32', '576'), ('32', '617'), ('32', '644'), ('32', '849'), ('32', '880'), ('1029', '32'), ('1085', '32'), ('1279', '32'), ('1283', '32'), ('48', '88'), ('48', '91'), ('109', '48'), ('166', '48'), ('240', '48'), ('368', '48'), ('48', '617'), ('48', '668'), ('48', '747'), ('48', '857'), ('48', '880'), ('48', '960'), ('1029', '48'), ('1109', '48'), ('1120', '48'), ('1172', '48'), ('1217', '48'), ('1279', '48'), ('1321', '48'), ('68', '91'), ('445', '68'), ('644', '68'), ('68', '960'), ('1029', '68'), ('1109', '68'), ('1283', '68'), ('88', '91'), ('197', '88'), ('240', '88'), ('368', '88'), ('445', '88'), ('467', '88'), ('576', '88'), ('743', '88'), ('747', '88'), ('802', '88'), ('849', '88'), ('88', '880'), ('88', '977'), ('1029', '88'), ('1085', '88'), ('1117', '88'), ('1120', '88'), ('1206', '88'), ('1279', '88'), ('1283', '88'), ('1291', '88'), ('1321', '88'), ('91', '95'), ('109', '91'), ('113', '91'), ('188', '91'), ('199', '91'), ('218', '91'), ('272', '91'), ('358', '91'), ('398', '91'), ('433', '91'), ('449', '91'), ('651', '91'), ('757', '91'), ('814', '91'), ('857', '91'), ('1023', '91'), ('1027', '91'), ('1038', '91'), ('1088', '91'), ('1110', '91'), ('1172', '91'), ('1190', '91'), ('1264', '91'), ('1271', '91'), ('1310', '91'), ('1323', '91'), ('1353', '91'), ('1406', '91'), ('644', '95'), ('743', '95'), ('1029', '95'), ('1109', '95'), ('109', '166'), ('109', '576'), ('109', '606'), ('109', '644'), ('109', '747'), ('109', '880'), ('109', '960'), ('109', '1109'), ('109', '1279'), ('109', '1310'), ('113', '166'), ('113', '368'), ('113', '576'), ('113', '644'), ('113', '743'), ('113', '880'), ('1109', '113'), ('123', '166'), ('123', '368'), ('123', '467'), ('123', '576'), ('123', '644'), ('123', '743'), ('123', '747'), ('123', '781'), ('123', '880'), ('123', '955'), ('1085', '123'), ('123', '1279'), ('123', '1283'), ('127', '880'), ('166', '188'), ('166', '197'), ('166', '199'), ('166', '358'), ('166', '445'), ('166', '544'), ('166', '668'), ('166', '694'), ('166', '711'), ('166', '757'), ('166', '802'), ('166', '828'), ('166', '849'), ('166', '857'), ('166', '955'), ('1117', '166'), ('1120', '166'), ('1172', '166'), ('1217', '166'), ('1283', '166'), ('1291', '166'), ('1310', '166'), ('1366', '166'), ('1377', '166'), ('1403', '166'), ('1406', '166'), ('1217', '168'), ('1109', '169'), ('181', '564'), ('181', '644'), ('181', '802'), ('1029', '181'), ('1109', '181'), ('188', '240'), ('188', '644'), ('188', '747'), ('197', '658'), ('197', '668'), ('197', '802'), ('197', '849'), ('197', '880'), ('1377', '197'), ('1403', '197'), ('199', '240'), ('199', '544'), ('199', '644'), ('199', '960'), ('1109', '199'), ('1279', '199'), ('1279', '218'), ('224', '644'), ('1109', '224'), ('240', '382'), ('240', '576'), ('240', '747'), ('240', '780'), ('240', '781'), ('240', '906'), ('240', '955'), ('1085', '240'), ('1117', '240'), ('1206', '240'), ('1279', '240'), ('1366', '240'), ('251', '644'), ('272', '445'), ('272', '960'), ('1029', '272'), ('1109', '272'), ('306', '413'), ('357', '828'), ('358', '368'), ('358', '445'), ('358', '576'), ('358', '644'), ('358', '743'), ('358', '747'), ('358', '802'), ('358', '880'), ('358', '996'), ('1029', '358'), ('1085', '358'), ('1109', '358'), ('1217', '358'), ('1283', '358'), ('368', '467'), ('368', '617'), ('368', '651'), ('368', '857'), ('368', '955'), ('368', '996'), ('1084', '368'), ('1117', '368'), ('1120', '368'), ('1279', '368'), ('1284', '368'), ('1353', '368'), ('1377', '368'), ('1406', '368'), ('387', '576'), ('387', '644'), ('387', '955'), ('1109', '387'), ('398', '467'), ('398', '644'), ('398', '880'), ('445', '658'), ('445', '996'), ('1027', '445'), ('1084', '445'), ('1088', '445'), ('1099', '445'), ('1110', '445'), ('1120', '445'), ('1279', '445'), ('1323', '445'), ('1366', '445'), ('1387', '445'), ('467', '576'), ('467', '747'), ('467', '780'), ('467', '849'), ('467', '880'), ('467', '955'), ('1120', '467'), ('1217', '467'), ('1366', '467'), ('544', '576'), ('544', '644'), ('544', '668'), ('544', '694'), ('1217', '544'), ('1283', '544'), ('564', '576'), ('564', '644'), ('564', '668'), ('564', '694'), ('564', '880'), ('1085', '564'), ('1403', '564'), ('572', '644'), ('1109', '572'), ('576', '651'), ('576', '668'), ('576', '711'), ('576', '747'), ('576', '781'), ('576', '828'), ('576', '845'), ('576', '857'), ('576', '955'), ('1120', '576'), ('1172', '576'), ('1283', '576'), ('1284', '576'), ('1310', '576'), ('1321', '576'), ('1366', '576'), ('1377', '576'), ('1387', '576'), ('1109', '597'), ('617', '747'), ('1029', '617'), ('1109', '617'), ('1120', '617'), ('1283', '617'), ('1337', '617'), ('1109', '629'), ('644', '651'), ('644', '668'), ('644', '711'), ('644', '757'), ('644', '781'), ('644', '828'), ('644', '845'), ('644', '849'), ('644', '857'), ('644', '906'), ('644', '973'), ('644', '977'), ('644', '996'), ('1033', '644'), ('1110', '644'), ('1117', '644'), ('1120', '644'), ('1172', '644'), ('1206', '644'), ('1285', '644'), ('1291', '644'), ('1310', '644'), ('1337', '644'), ('1342', '644'), ('1366', '644'), ('1377', '644'), ('1381', '644'), ('1387', '644'), ('1403', '644'), ('651', '857'), ('651', '880'), ('651', '960'), ('1109', '651'), ('1206', '651'), ('1279', '651'), ('1387', '651'), ('658', '743'), ('1085', '658'), ('1217', '658'), ('668', '880'), ('1029', '668'), ('1085', '668'), ('1283', '668'), ('1387', '668'), ('1084', '694'), ('1117', '694'), ('1283', '694'), ('1377', '694'), ('711', '743'), ('711', '880'), ('711', '960'), ('743', '747'), ('743', '780'), ('743', '828'), ('1023', '743'), ('1027', '743'), ('1099', '743'), ('1117', '743'), ('1172', '743'), ('1190', '743'), ('1279', '743'), ('1284', '743'), ('1323', '743'), ('1342', '743'), ('747', '802'), ('747', '828'), ('747', '849'), ('747', '973'), ('1117', '747'), ('1283', '747'), ('1321', '747'), ('1366', '747'), ('1387', '747'), ('1403', '747'), ('1109', '757'), ('1217', '780'), ('1283', '780'), ('1366', '780'), ('802', '828'), ('802', '849'), ('802', '880'), ('1084', '802'), ('1110', '802'), ('1117', '802'), ('1279', '802'), ('1085', '814'), ('1109', '814'), ('828', '880'), ('828', '960'), ('1403', '845'), ('849', '880'), ('1283', '849'), ('1377', '849'), ('1387', '849'), ('857', '880'), ('1109', '857'), ('1120', '857'), ('1279', '857'), ('1283', '857'), ('880', '955'), ('1027', '880'), ('1172', '880'), ('1284', '880'), ('1310', '880'), ('1366', '880'), ('1377', '880'), ('1387', '880'), ('1403', '880'), ('955', '960'), ('1085', '955'), ('1279', '955'), ('1403', '955'), ('1117', '960'), ('1120', '960'), ('1366', '960'), ('1387', '960'), ('1403', '960'), ('1085', '996'), ('1109', '996'), ('1217', '996'), ('1023', '1109'), ('1027', '1029'), ('1029', '1084'), ('1029', '1110'), ('1029', '1120'), ('1029', '1279'), ('1029', '1310'), ('1029', '1321'), ('1029', '1323'), ('1029', '1337'), ('1038', '1109'), ('1084', '1109'), ('1085', '1117'), ('1085', '1120'), ('1085', '1172'), ('1085', '1279'), ('1085', '1323'), ('1085', '1353'), ('1085', '1377'), ('1085', '1403'), ('1088', '1109'), ('1099', '1109'), ('1099', '1217'), ('1109', '1117'), ('1109', '1120'), ('1109', '1172'), ('1109', '1190'), ('1109', '1264'), ('1109', '1310'), ('1109', '1321'), ('1109', '1323'), ('1109', '1342'), ('1109', '1353'), ('1109', '1381'), ('1109', '1403'), ('1117', '1283'), ('1120', '1279'), ('1120', '1283'), ('1172', '1279'), ('1201', '1385'), ('1206', '1279'), ('1217', '1403'), ('1279', '1283'), ('1279', '1366'), ('1283', '1366'), ('1283', '1403'), ('1284', '1403'), ('13', '576', '91'), ('13', '694', '91'), ('13', '849', '91'), ('13', '91', '960'), ('13', '368', '802'), ('1029', '13', '368'), ('1109', '13', '368'), ('13', '445', '694'), ('13', '445', '849'), ('1109', '13', '445'), ('1283', '13', '445'), ('13', '564', '743'), ('1029', '13', '564'), ('1109', '13', '564'), ('1029', '13', '694'), ('1085', '13', '743'), ('1109', '13', '743'), ('1283', '13', '802'), ('1029', '13', '849'), ('1109', '13', '849'), ('1029', '13', '960'), ('1109', '13', '960'), ('1029', '1109', '13'), ('1109', '1283', '13'), ('1109', '32', '91'), ('1109', '32', '743'), ('48', '576', '644'), ('166', '644', '88'), ('644', '88', '960'), ('1109', '644', '88'), ('123', '240', '91'), ('1109', '123', '91'), ('166', '368', '91'), ('166', '467', '91'), ('166', '576', '91'), ('166', '617', '91'), ('166', '644', '91'), ('166', '743', '91'), ('166', '880', '91'), ('166', '91', '960'), ('1109', '166', '91'), ('1279', '166', '91'), ('181', '368', '91'), ('181', '445', '91'), ('197', '368', '91'), ('197', '445', '91'), ('197', '564', '91'), ('197', '576', '91'), ('197', '91', '960'), ('1085', '197', '91'), ('240', '368', '91'), ('240', '445', '91'), ('240', '467', '91'), ('240', '644', '91'), ('1029', '240', '91'), ('1283', '240', '91'), ('368', '544', '91'), ('368', '576', '91'), ('368', '658', '91'), ('368', '668', '91'), ('368', '747', '91'), ('368', '780', '91'), ('368', '849', '91'), ('1283', '368', '91'), ('1387', '368', '91'), ('1403', '368', '91'), ('445', '544', '91'), ('445', '668', '91'), ('445', '880', '91'), ('445', '91', '955'), ('1085', '445', '91'), ('467', '617', '91'), ('467', '743', '91'), ('467', '91', '960'), ('1109', '467', '91'), ('544', '743', '91'), ('544', '849', '91'), ('544', '91', '960'), ('1109', '544', '91'), ('564', '91', '960'), ('1109', '564', '91'), ('576', '880', '91'), ('1029', '576', '91'), ('1085', '576', '91'), ('1217', '576', '91'), ('617', '644', '91'), ('617', '91', '960'), ('1279', '617', '91'), ('644', '694', '91'), ('644', '802', '91'), ('644', '880', '91'), ('644', '91', '955'), ('1029', '644', '91'), ('1279', '644', '91'), ('1283', '644', '91'), ('1284', '644', '91'), ('668', '694', '91'), ('668', '743', '91'), ('668', '91', '960'), ('1109', '668', '91'), ('694', '802', '91'), ('1085', '694', '91'), ('1109', '711', '91'), ('743', '849', '91'), ('743', '880', '91'), ('743', '91', '960'), ('1085', '743', '91'), ('1120', '743', '91'), ('1377', '743', '91'), ('1387', '743', '91'), ('1029', '747', '91'), ('1109', '747', '91'), ('1217', '747', '91'), ('1284', '747', '91'), ('780', '91', '960'), ('1109', '780', '91'), ('802', '91', '960'), ('1085', '802', '91'), ('1217', '802', '91'), ('1029', '828', '91'), ('849', '91', '960'), ('1217', '849', '91'), ('880', '91', '960'), ('1029', '880', '91'), ('1085', '880', '91'), ('1217', '880', '91'), ('1321', '880', '91'), ('1029', '91', '955'), ('1109', '91', '955'), ('1283', '91', '955'), ('1085', '91', '960'), ('1283', '91', '960'), ('1029', '1085', '91'), ('1029', '1117', '91'), ('1029', '1366', '91'), ('1029', '1403', '91'), ('1085', '1109', '91'), ('1085', '1217', '91'), ('1109', '1279', '91'), ('1109', '1366', '91'), ('1109', '1377', '91'), ('1109', '1387', '91'), ('1120', '1217', '91'), ('1109', '123', '445'), ('166', '240', '644'), ('166', '467', '644'), ('166', '576', '644'), ('166', '576', '880'), ('1279', '166', '576'), ('166', '617', '644'), ('1279', '166', '617'), ('166', '644', '747'), ('166', '644', '880'), ('166', '644', '960'), ('1109', '166', '644'), ('1279', '166', '644'), ('1321', '166', '644'), ('1279', '166', '747'), ('1279', '166', '880'), ('1109', '166', '960'), ('1279', '166', '960'), ('1029', '1109', '166'), ('1085', '1109', '166'), ('1109', '1279', '166'), ('1279', '1321', '166'), ('1109', '168', '743'), ('181', '445', '743'), ('1217', '181', '445'), ('1283', '181', '445'), ('1283', '181', '743'), ('197', '368', '445'), ('1109', '197', '368'), ('197', '445', '564'), ('197', '445', '960'), ('1217', '197', '445'), ('197', '564', '743'), ('1109', '197', '564'), ('197', '576', '694'), ('197', '576', '743'), ('1109', '197', '576'), ('1109', '197', '644'), ('1109', '197', '694'), ('197', '743', '960'), ('1085', '197', '743'), ('1217', '197', '743'), ('1029', '197', '960'), ('1109', '197', '960'), ('1085', '1109', '197'), ('1109', '1283', '197'), ('1217', '1283', '197'), ('240', '368', '880'), ('1109', '240', '368'), ('1109', '240', '445'), ('240', '644', '960'), ('1109', '240', '644'), ('1283', '240', '644'), ('1109', '240', '960'), ('1109', '1217', '240'), ('1109', '1283', '240'), ('1109', '1387', '240'), ('368', '445', '644'), ('368', '445', '694'), ('368', '445', '880'), ('1029', '368', '445'), ('1085', '368', '445'), ('1109', '368', '445'), ('1217', '368', '445'), ('1109', '368', '544'), ('368', '564', '802'), ('1029', '368', '564'), ('368', '576', '694'), ('1085', '368', '576'), ('1109', '368', '576'), ('368', '644', '694'), ('368', '644', '743'), ('368', '644', '802'), ('368', '644', '880'), ('368', '644', '960'), ('368', '694', '802'), ('1085', '368', '694'), ('1109', '368', '694'), ('368', '743', '880'), ('368', '743', '960'), ('1029', '368', '743'), ('1085', '368', '743'), ('1217', '368', '743'), ('368', '747', '880'), ('1109', '368', '747'), ('1029', '368', '802'), ('1109', '368', '802'), ('1217', '368', '880'), ('1029', '1283', '368'), ('1085', '1109', '368'), ('1109', '1387', '368'), ('1109', '398', '743'), ('1109', '445', '467'), ('445', '544', '743'), ('1109', '445', '544'), ('445', '564', '802'), ('1109', '445', '564'), ('445', '576', '644'), ('445', '576', '694'), ('1029', '445', '576'), ('1109', '445', '576'), ('1217', '445', '576'), ('445', '644', '694'), ('445', '644', '802'), ('445', '644', '960'), ('1029', '445', '644'), ('1217', '445', '644'), ('1283', '445', '644'), ('1085', '445', '694'), ('1109', '445', '694'), ('445', '743', '880'), ('445', '743', '960'), ('1085', '445', '743'), ('1403', '445', '743'), ('445', '747', '880'), ('445', '747', '955'), ('1029', '445', '747'), ('1109', '445', '747'), ('445', '802', '960'), ('1217', '445', '802'), ('1029', '445', '828'), ('445', '849', '960'), ('1217', '445', '849'), ('445', '880', '960'), ('1029', '445', '880'), ('1109', '445', '880'), ('1109', '445', '955'), ('1029', '1217', '445'), ('1085', '1283', '445'), ('1217', '1283', '445'), ('1279', '467', '644'), ('1109', '467', '743'), ('1109', '467', '960'), ('1029', '1109', '467'), ('1085', '1109', '467'), ('1029', '544', '743'), ('1085', '544', '743'), ('1109', '544', '960'), ('1109', '564', '743'), ('1109', '564', '849'), ('1029', '1109', '564'), ('1029', '1217', '564'), ('1109', '1283', '564'), ('1217', '1283', '564'), ('576', '644', '694'), ('576', '644', '743'), ('576', '644', '802'), ('576', '644', '880'), ('576', '644', '960'), ('1279', '576', '644'), ('576', '694', '960'), ('1085', '576', '694'), ('576', '743', '960'), ('1029', '576', '743'), ('1085', '576', '743'), ('1109', '576', '802'), ('1217', '576', '802'), ('1109', '576', '849'), ('576', '880', '960'), ('1029', '576', '880'), ('1085', '576', '880'), ('1117', '576', '880'), ('1085', '576', '960'), ('1109', '576', '960'), ('1029', '1109', '576'), ('1029', '1217', '576'), ('1109', '1217', '576'), ('1279', '617', '644'), ('1109', '644', '694'), ('644', '743', '802'), ('1085', '644', '743'), ('1109', '644', '743'), ('1283', '644', '743'), ('644', '747', '960'), ('1109', '644', '747'), ('1279', '644', '747'), ('1284', '644', '747'), ('1109', '644', '802'), ('1109', '644', '880'), ('1109', '644', '955'), ('1217', '644', '960'), ('1279', '644', '960'), ('1283', '644', '960'), ('1321', '644', '960'), ('1029', '1109', '644'), ('1029', '1283', '644'), ('1109', '1279', '644'), ('1109', '1283', '644'), ('1109', '1284', '644'), ('1029', '1109', '658'), ('694', '743', '802'), ('694', '743', '880'), ('1085', '694', '743'), ('1109', '694', '743'), ('1029', '694', '802'), ('1109', '694', '802'), ('1109', '694', '828'), ('1109', '694', '849'), ('1085', '694', '960'), ('1029', '1109', '694'), ('1085', '1109', '694'), ('1109', '1217', '694'), ('1029', '743', '802'), ('1085', '743', '802'), ('1109', '743', '802'), ('1029', '743', '849'), ('1109', '743', '849'), ('1217', '743', '849'), ('1029', '743', '880'), ('1109', '743', '880'), ('1109', '743', '955'), ('1029', '743', '960'), ('1085', '743', '960'), ('1109', '743', '960'), ('1029', '1085', '743'), ('1085', '1109', '743'), ('1085', '1217', '743'), ('1085', '1283', '743'), ('1085', '1366', '743'), ('1109', '1366', '743'), ('1109', '747', '880'), ('1109', '747', '955'), ('1109', '747', '960'), ('1085', '1109', '747'), ('1109', '802', '960'), ('1029', '1283', '802'), ('1085', '1109', '802'), ('1109', '1283', '802'), ('1029', '1085', '828'), ('1109', '849', '960'), ('1029', '1109', '849'), ('1085', '1109', '849'), ('1109', '1217', '849'), ('1109', '1366', '849'), ('1029', '880', '960'), ('1085', '880', '960'), ('1109', '880', '960'), ('1029', '1085', '880'), ('1029', '1109', '880'), ('1085', '1109', '880'), ('1109', '1217', '880'), ('1029', '1109', '955'), ('1085', '1109', '960'), ('1109', '1283', '960'), ('1029', '1109', '1283'), ('1085', '1109', '1217'), ('1109', '1217', '1283'), ('13', '368', '445', '91'), ('13', '368', '564', '91'), ('13', '445', '743', '91'), ('13', '564', '802', '91'), ('13', '743', '802', '91'), ('1283', '13', '743', '91'), ('1109', '13', '802', '91'), ('13', '368', '445', '743'), ('1029', '13', '445', '743'), ('1109', '197', '743', '91'), ('1283', '197', '743', '91'), ('1109', '240', '743', '91'), ('368', '445', '564', '91'), ('368', '445', '743', '91'), ('1109', '368', '644', '91'), ('368', '743', '802', '91'), ('1109', '368', '743', '91'), ('1109', '368', '880', '91'), ('1109', '368', '91', '960'), ('1217', '368', '91', '960'), ('1029', '1109', '368', '91'), ('1029', '1217', '368', '91'), ('1109', '1217', '368', '91'), ('445', '564', '743', '91'), ('1029', '445', '564', '91'), ('1283', '445', '564', '91'), ('445', '576', '743', '91'), ('445', '644', '743', '91'), ('1109', '445', '644', '91'), ('445', '694', '743', '91'), ('1029', '445', '694', '91'), ('445', '743', '802', '91'), ('1029', '445', '743', '91'), ('1109', '445', '743', '91'), ('1217', '445', '743', '91'), ('1283', '445', '743', '91'), ('1029', '445', '849', '91'), ('1109', '445', '849', '91'), ('1029', '445', '91', '960'), ('1109', '445', '91', '960'), ('1217', '445', '91', '960'), ('1029', '1109', '445', '91'), ('1029', '1283', '445', '91'), ('1109', '1217', '445', '91'), ('1029', '564', '743', '91'), ('1283', '564', '743', '91'), ('1109', '576', '644', '91'), ('576', '694', '743', '91'), ('576', '743', '802', '91'), ('1109', '576', '743', '91'), ('1109', '644', '91', '960'), ('1109', '1217', '644', '91'), ('1109', '694', '91', '960'), ('1283', '743', '802', '91'), ('1029', '1109', '743', '91'), ('1029', '1217', '743', '91'), ('1029', '1283', '743', '91'), ('1109', '1217', '743', '91'), ('1109', '1283', '743', '91'), ('1217', '1283', '743', '91'), ('1029', '1109', '802', '91'), ('1029', '1109', '91', '960'), ('1109', '1217', '91', '960'), ('1029', '1109', '1217', '91'), ('1029', '1217', '1283', '91'), ('1283', '197', '445', '743'), ('1029', '1109', '197', '445'), ('1283', '368', '445', '564'), ('368', '445', '743', '802'), ('1283', '368', '445', '743'), ('1283', '368', '743', '802'), ('1029', '445', '564', '743'), ('1283', '445', '564', '743'), ('1283', '445', '743', '802'), ('1029', '1109', '445', '743'), ('1029', '1283', '445', '743'), ('1109', '1217', '445', '743'), ('1109', '1283', '445', '743'), ('1029', '1109', '445', '802'), ('1029', '1085', '1109', '445'), ('1283', '564', '743', '802'), ('1029', '1283', '564', '743'), ('1085', '1109', '576', '644'), ('1109', '576', '694', '880'), ('1029', '1109', '1217', '743'), ('1029', '1217', '1283', '743'), ('1029', '13', '445', '802', '91')]\n"
          ]
        }
      ]
    },
    {
      "cell_type": "code",
      "metadata": {
        "id": "aGmHgi_9M6DL"
      },
      "source": [
        "minRSup_bingo = 0.065\n",
        "bingo_apriori_final = apriori(bingo_baskets, author_ids, minRSup_bingo)"
      ],
      "execution_count": null,
      "outputs": []
    },
    {
      "cell_type": "code",
      "metadata": {
        "colab": {
          "base_uri": "https://localhost:8080/"
        },
        "id": "PmrMNsGrMXGS",
        "outputId": "727af3f3-f248-4457-dab6-b09be4d19722"
      },
      "source": [
        "bingo_assoc = iterate_minX(find_associations, bingo_apriori_final[0], bingo_apriori_final[1], 0.5, 1, 11)"
      ],
      "execution_count": null,
      "outputs": [
        {
          "name": "stdout",
          "output_type": "stream",
          "text": [
            "minConf 0.5 yielded 64 skyline associations:\n",
            "{(('13',), '91'): 0.5853658536585366, (('13',), '1109'): 0.5609756097560976, (('544',), '91'): 0.6176470588235294, (('564',), '91'): 0.6451612903225806, (('617',), '91'): 0.5757575757575758, (('668',), '91'): 0.6060606060606061, (('694',), '91'): 0.5, (('802',), '91'): 0.5416666666666666, (('1172',), '91'): 0.5517241379310345, (('1284',), '91'): 0.5333333333333333, (('197',), '743'): 0.5384615384615384, (('197',), '1109'): 0.6666666666666666, (('564',), '445'): 0.5806451612903226, (('467',), '1109'): 0.5, (('564',), '743'): 0.5483870967741935, (('564',), '1029'): 0.6129032258064516, (('564',), '1109'): 0.5806451612903226, (('564',), '1283'): 0.5483870967741935, (('694',), '576'): 0.5227272727272727, (('617',), '644'): 0.5454545454545454, (('1172',), '644'): 0.5517241379310345, (('1279',), '644'): 0.56, (('1321',), '644'): 0.5666666666666667, (('694',), '1109'): 0.5681818181818182, (('802',), '1029'): 0.5, (('802',), '1109'): 0.5, (('849',), '1109'): 0.6428571428571429, (('955',), '1109'): 0.5555555555555556, (('1366',), '1109'): 0.5428571428571428, (('368', '743'), '91'): 0.5714285714285714, (('368', '91'), '1109'): 0.6060606060606061, (('1109', '368'), '91'): 0.6451612903225806, (('445', '91'), '743'): 0.6451612903225806, (('445', '743'), '91'): 0.6896551724137931, (('445', '91'), '1029'): 0.5806451612903226, (('1029', '445'), '91'): 0.6206896551724138, (('445', '91'), '1109'): 0.5806451612903226, (('576', '91'), '743'): 0.53125, (('576', '743'), '91'): 0.6538461538461539, (('576', '91'), '1109'): 0.5, (('1109', '576'), '91'): 0.5161290322580645, (('644', '91'), '1109'): 0.6060606060606061, (('1029', '743'), '91'): 0.6923076923076923, (('743', '91'), '1109'): 0.5121951219512195, (('1109', '743'), '91'): 0.5384615384615384, (('1217', '91'), '743'): 0.5625, (('1217', '743'), '91'): 0.75, (('1283', '91'), '743'): 0.6153846153846154, (('1283', '743'), '91'): 0.5714285714285714, (('91', '960'), '1109'): 0.6363636363636364, (('1109', '960'), '91'): 0.5833333333333334, (('1029', '91'), '1109'): 0.5, (('1029', '1109'), '91'): 0.5882352941176471, (('1217', '91'), '1029'): 0.53125, (('1029', '1217'), '91'): 0.7391304347826086, (('1217', '91'), '1109'): 0.5, (('1109', '1217'), '91'): 0.5, (('1029', '445'), '1109'): 0.5862068965517241, (('1029', '1109'), '445'): 0.5, (('644', '960'), '1109'): 0.5862068965517241, (('1085', '743'), '1109'): 0.6071428571428571, (('1085', '1109'), '743'): 0.5, (('1283', '743'), '1109'): 0.5714285714285714, (('1109', '1283'), '743'): 0.5925925925925926}\n",
            "minConf 0.55 yielded 41 skyline associations:\n",
            "{(('13',), '91'): 0.5853658536585366, (('13',), '1109'): 0.5609756097560976, (('544',), '91'): 0.6176470588235294, (('564',), '91'): 0.6451612903225806, (('617',), '91'): 0.5757575757575758, (('668',), '91'): 0.6060606060606061, (('1172',), '91'): 0.5517241379310345, (('197',), '1109'): 0.6666666666666666, (('564',), '445'): 0.5806451612903226, (('564',), '1029'): 0.6129032258064516, (('564',), '1109'): 0.5806451612903226, (('1172',), '644'): 0.5517241379310345, (('1279',), '644'): 0.56, (('1321',), '644'): 0.5666666666666667, (('694',), '1109'): 0.5681818181818182, (('849',), '1109'): 0.6428571428571429, (('955',), '1109'): 0.5555555555555556, (('368', '743'), '91'): 0.5714285714285714, (('368', '91'), '1109'): 0.6060606060606061, (('1109', '368'), '91'): 0.6451612903225806, (('445', '91'), '743'): 0.6451612903225806, (('445', '743'), '91'): 0.6896551724137931, (('445', '91'), '1029'): 0.5806451612903226, (('1029', '445'), '91'): 0.6206896551724138, (('445', '91'), '1109'): 0.5806451612903226, (('576', '743'), '91'): 0.6538461538461539, (('644', '91'), '1109'): 0.6060606060606061, (('1029', '743'), '91'): 0.6923076923076923, (('1217', '91'), '743'): 0.5625, (('1217', '743'), '91'): 0.75, (('1283', '91'), '743'): 0.6153846153846154, (('1283', '743'), '91'): 0.5714285714285714, (('91', '960'), '1109'): 0.6363636363636364, (('1109', '960'), '91'): 0.5833333333333334, (('1029', '1109'), '91'): 0.5882352941176471, (('1029', '1217'), '91'): 0.7391304347826086, (('1029', '445'), '1109'): 0.5862068965517241, (('644', '960'), '1109'): 0.5862068965517241, (('1085', '743'), '1109'): 0.6071428571428571, (('1283', '743'), '1109'): 0.5714285714285714, (('1109', '1283'), '743'): 0.5925925925925926}\n",
            "minConf 0.6 yielded 19 skyline associations:\n",
            "{(('544',), '91'): 0.6176470588235294, (('564',), '91'): 0.6451612903225806, (('668',), '91'): 0.6060606060606061, (('197',), '1109'): 0.6666666666666666, (('564',), '1029'): 0.6129032258064516, (('849',), '1109'): 0.6428571428571429, (('368', '91'), '1109'): 0.6060606060606061, (('1109', '368'), '91'): 0.6451612903225806, (('445', '91'), '743'): 0.6451612903225806, (('445', '743'), '91'): 0.6896551724137931, (('1029', '445'), '91'): 0.6206896551724138, (('576', '743'), '91'): 0.6538461538461539, (('644', '91'), '1109'): 0.6060606060606061, (('1029', '743'), '91'): 0.6923076923076923, (('1217', '743'), '91'): 0.75, (('1283', '91'), '743'): 0.6153846153846154, (('91', '960'), '1109'): 0.6363636363636364, (('1029', '1217'), '91'): 0.7391304347826086, (('1085', '743'), '1109'): 0.6071428571428571}\n",
            "minConf 0.65 yielded 6 skyline associations:\n",
            "{(('197',), '1109'): 0.6666666666666666, (('445', '743'), '91'): 0.6896551724137931, (('576', '743'), '91'): 0.6538461538461539, (('1029', '743'), '91'): 0.6923076923076923, (('1217', '743'), '91'): 0.75, (('1029', '1217'), '91'): 0.7391304347826086}\n",
            "minConf 0.7 yielded 2 skyline associations:\n",
            "{(('1217', '743'), '91'): 0.75, (('1029', '1217'), '91'): 0.7391304347826086}\n",
            "minConf 0.75 yielded 1 skyline associations:\n",
            "{(('1217', '743'), '91'): 0.75}\n",
            "minConf 0.8 yielded 0 skyline associations:\n",
            "{}\n",
            "minConf 0.8500000000000001 yielded 0 skyline associations:\n",
            "{}\n",
            "minConf 0.9 yielded 0 skyline associations:\n",
            "{}\n",
            "minConf 0.95 yielded 0 skyline associations:\n",
            "{}\n",
            "minConf 1.0 yielded 0 skyline associations:\n",
            "{}\n"
          ]
        }
      ]
    },
    {
      "cell_type": "code",
      "metadata": {
        "colab": {
          "base_uri": "https://localhost:8080/"
        },
        "id": "sbfxwA-iMB_a",
        "outputId": "1b5a6b45-13c0-46e4-e8d2-eac2b14310be"
      },
      "source": [
        "# Final bingo choices\n",
        "minRSup_bingo = 0.065\n",
        "minConf_bingo = 0.65\n",
        "print(f\"There are {len(bingo_apriori_final[1])} skyline frequent itemsets for minRSup {minRSup_bingo}:\")\n",
        "print_skyline_with_freqs(bingo_apriori_final[1], bingo_apriori_final[0], author_id_to_names, len(bingo_baskets))\n",
        "print(\"\")\n",
        "print(f\"There are {len(bingo_assoc[minConf_bingo])} skyline frequent itemset association rules for minConf {minConf_bingo*100:.1f}%:\")\n",
        "print_associations_with_sups_and_confs(bingo_assoc[minConf_bingo], bingo_apriori_final[0], author_id_to_names, len(bingo_baskets))"
      ],
      "execution_count": null,
      "outputs": [
        {
          "name": "stdout",
          "output_type": "stream",
          "text": [
            "There are 200 skyline frequent itemsets for minRSup 0.065:\n",
            "  (Abercrombie, Joe) has rsupport 0.066\n",
            "  (Anders, Charlie Jane) has rsupport 0.099\n",
            "  (Atwood, Margaret) has rsupport 0.095\n",
            "  (Bardugo, Leigh) has rsupport 0.103\n",
            "  (Bear, Elizabeth) has rsupport 0.119\n",
            "  (Beaulieu, Bradley P.) has rsupport 0.099\n",
            "  (Bennett, Robert Jackson) has rsupport 0.128\n",
            "  (Brett, Peter V.) has rsupport 0.066\n",
            "  (Brown, Pierce) has rsupport 0.103\n",
            "  (Bujold, Lois McMaster) has rsupport 0.091\n",
            "  (Butler, Octavia E.) has rsupport 0.091\n",
            "  (Carey, Mike / Carey, M. R.) has rsupport 0.074\n",
            "  (Carriger, Gail) has rsupport 0.086\n",
            "  (Clarke, Susanna) has rsupport 0.066\n",
            "  (Drake, Darrell) has rsupport 0.119\n",
            "  (El-Mohtar, Amal) has rsupport 0.066\n",
            "  (Elliott, Kate / Rasmussen, Alis A.) has rsupport 0.086\n",
            "  (Erikson, Steven) has rsupport 0.086\n",
            "  (Hill, Joe) has rsupport 0.070\n",
            "  (Huff, Tanya) has rsupport 0.082\n",
            "  (Jones, Diana Wynne) has rsupport 0.115\n",
            "  (Jordan, Robert) has rsupport 0.066\n",
            "  (Kowal, Mary Robinette) has rsupport 0.111\n",
            "  (Lee, Yoon Ha) has rsupport 0.099\n",
            "  (Liu, Ken) has rsupport 0.103\n",
            "  (Liu, Marjorie) has rsupport 0.086\n",
            "  (Malerman, Josh) has rsupport 0.078\n",
            "  (Martin, George R. R.) has rsupport 0.091\n",
            "  (McCaffrey, Anne) has rsupport 0.078\n",
            "  (McGuire, Seanan / Grant, Mira) has rsupport 0.140\n",
            "  (Okorafor, Nnedi) has rsupport 0.091\n",
            "  (Patrick, Benedict) has rsupport 0.099\n",
            "  (Polansky, Daniel) has rsupport 0.070\n",
            "  (Powers, Tim) has rsupport 0.074\n",
            "  (Pullman, Philip) has rsupport 0.074\n",
            "  (Rothfuss, Patrick) has rsupport 0.078\n",
            "  (Rowling, J. K. / Galbraith, Robert) has rsupport 0.066\n",
            "  (Staveley, Brian) has rsupport 0.070\n",
            "  (Stiefvater, Maggie) has rsupport 0.103\n",
            "  (Villoso, K. S.) has rsupport 0.086\n",
            "  (Walton, Jo) has rsupport 0.128\n",
            "  (Wells, Martha) has rsupport 0.091\n",
            "  (Wight, Will) has rsupport 0.070\n",
            "  (Wolfe, Gene) has rsupport 0.099\n",
            "  (Wurts, Janny) has rsupport 0.136\n",
            "  (de Castell, Sebastien) has rsupport 0.074\n",
            "  (Addison, Katherine / Monette, Sarah, Bancroft, Josiah) has rsupport 0.099\n",
            "  (Addison, Katherine / Monette, Sarah, Gaiman, Neil) has rsupport 0.078\n",
            "  (Addison, Katherine / Monette, Sarah, Lawrence, Mark) has rsupport 0.070\n",
            "  (Addison, Katherine / Monette, Sarah, McClellan, Brian) has rsupport 0.070\n",
            "  (Pratchett, Terry, Addison, Katherine / Monette, Sarah) has rsupport 0.070\n",
            "  (Sanderson, Brandon, Addison, Katherine / Monette, Sarah) has rsupport 0.095\n",
            "  (Arden, Katherine, Jemisin, N. K.) has rsupport 0.074\n",
            "  (Jemisin, N. K., Ball, Krista D. / Ball, K.) has rsupport 0.086\n",
            "  (Sanderson, Brandon, Ball, Krista D. / Ball, K.) has rsupport 0.066\n",
            "  (Brennan, Marie, Bancroft, Josiah) has rsupport 0.111\n",
            "  (Butcher, Jim, Bancroft, Josiah) has rsupport 0.078\n",
            "  (Chambers, Becky, Bancroft, Josiah) has rsupport 0.099\n",
            "  (Gladstone, Max, Bancroft, Josiah) has rsupport 0.086\n",
            "  (Hawkins, Scott, Bancroft, Josiah) has rsupport 0.086\n",
            "  (Herbert, Frank, Bancroft, Josiah) has rsupport 0.082\n",
            "  (Hurley, Kameron, Bancroft, Josiah) has rsupport 0.078\n",
            "  (Kay, Guy Gavriel, Bancroft, Josiah) has rsupport 0.082\n",
            "  (King, Stephen, Bancroft, Josiah) has rsupport 0.091\n",
            "  (Le Guin, Ursula K., Bancroft, Josiah) has rsupport 0.082\n",
            "  (Lynch, Scott, Bancroft, Josiah) has rsupport 0.107\n",
            "  (McClellan, Brian, Bancroft, Josiah) has rsupport 0.082\n",
            "  (Mieville, China, Bancroft, Josiah) has rsupport 0.111\n",
            "  (Bancroft, Josiah, North, Claire / Webb, Catherine / Griffin, Kate) has rsupport 0.070\n",
            "  (Rowe, Andrew, Bancroft, Josiah) has rsupport 0.107\n",
            "  (Schafer, Courtney, Bancroft, Josiah) has rsupport 0.074\n",
            "  (Schwab, V. E. / Schwab, Victoria, Bancroft, Josiah) has rsupport 0.066\n",
            "  (Smith, Sherwood, Bancroft, Josiah) has rsupport 0.066\n",
            "  (Valente, Catherynne M., Bancroft, Josiah) has rsupport 0.078\n",
            "  (Vaughan, Brian K., Bancroft, Josiah) has rsupport 0.066\n",
            "  (Zelazny, Roger, Bancroft, Josiah) has rsupport 0.066\n",
            "  (Brennan, Marie, Chambers, Becky) has rsupport 0.066\n",
            "  (Brennan, Marie, Gladstone, Max) has rsupport 0.078\n",
            "  (Brennan, Marie, Hobb, Robin / Lindholm, Megan) has rsupport 0.082\n",
            "  (Brennan, Marie, Jemisin, N. K.) has rsupport 0.136\n",
            "  (Brennan, Marie, Le Guin, Ursula K.) has rsupport 0.070\n",
            "  (Brennan, Marie, Mieville, China) has rsupport 0.091\n",
            "  (Brennan, Marie, Novik, Naomi) has rsupport 0.078\n",
            "  (Pratchett, Terry, Brennan, Marie) has rsupport 0.074\n",
            "  (Rowe, Andrew, Brennan, Marie) has rsupport 0.066\n",
            "  (Sanderson, Brandon, Brennan, Marie) has rsupport 0.091\n",
            "  (Valente, Catherynne M., Brennan, Marie) has rsupport 0.099\n",
            "  (Butcher, Jim, Gaiman, Neil) has rsupport 0.074\n",
            "  (Butcher, Jim, Hobb, Robin / Lindholm, Megan) has rsupport 0.066\n",
            "  (Butcher, Jim, Lawrence, Mark) has rsupport 0.086\n",
            "  (Butcher, Jim, Novik, Naomi) has rsupport 0.066\n",
            "  (Sanderson, Brandon, Butcher, Jim) has rsupport 0.107\n",
            "  (VanderMeer, Jeff, Butcher, Jim) has rsupport 0.066\n",
            "  (Chambers, Becky, Jemisin, N. K.) has rsupport 0.086\n",
            "  (Sanderson, Brandon, Chambers, Becky) has rsupport 0.099\n",
            "  (VanderMeer, Jeff, Chambers, Becky) has rsupport 0.070\n",
            "  (Eames, Nicholas, Gaiman, Neil) has rsupport 0.091\n",
            "  (Eames, Nicholas, Jemisin, N. K.) has rsupport 0.091\n",
            "  (Eames, Nicholas, King, Stephen) has rsupport 0.074\n",
            "  (Eames, Nicholas, Lynch, Scott) has rsupport 0.091\n",
            "  (Eames, Nicholas, Mieville, China) has rsupport 0.099\n",
            "  (Eames, Nicholas, Novik, Naomi) has rsupport 0.074\n",
            "  (Pratchett, Terry, Eames, Nicholas) has rsupport 0.078\n",
            "  (Rowe, Andrew, Eames, Nicholas) has rsupport 0.070\n",
            "  (Sullivan, Michael J., Eames, Nicholas) has rsupport 0.086\n",
            "  (VanderMeer, Jeff, Eames, Nicholas) has rsupport 0.074\n",
            "  (Gaiman, Neil, Herbert, Frank) has rsupport 0.074\n",
            "  (Gaiman, Neil, Hobb, Robin / Lindholm, Megan) has rsupport 0.082\n",
            "  (Gaiman, Neil, Jemisin, N. K.) has rsupport 0.095\n",
            "  (Gaiman, Neil, King, Stephen) has rsupport 0.074\n",
            "  (Gaiman, Neil, Le Guin, Ursula K.) has rsupport 0.074\n",
            "  (Gaiman, Neil, Lynch, Scott) has rsupport 0.095\n",
            "  (Gaiman, Neil, McClellan, Brian) has rsupport 0.074\n",
            "  (Gaiman, Neil, Mieville, China) has rsupport 0.082\n",
            "  (Gaiman, Neil, Novik, Naomi) has rsupport 0.095\n",
            "  (Rowe, Andrew, Gaiman, Neil) has rsupport 0.091\n",
            "  (Sullivan, Michael J., Gaiman, Neil) has rsupport 0.099\n",
            "  (VanderMeer, Jeff, Gaiman, Neil) has rsupport 0.099\n",
            "  (Gladstone, Max, Jemisin, N. K.) has rsupport 0.066\n",
            "  (Gladstone, Max, Novik, Naomi) has rsupport 0.066\n",
            "  (Sanderson, Brandon, Gladstone, Max) has rsupport 0.091\n",
            "  (Hawkins, Scott, Lawrence, Mark) has rsupport 0.066\n",
            "  (Sanderson, Brandon, Hawkins, Scott) has rsupport 0.066\n",
            "  (Herbert, Frank, Lawrence, Mark) has rsupport 0.070\n",
            "  (Pratchett, Terry, Herbert, Frank) has rsupport 0.078\n",
            "  (Sanderson, Brandon, Herbert, Frank) has rsupport 0.074\n",
            "  (VanderMeer, Jeff, Herbert, Frank) has rsupport 0.070\n",
            "  (Hobb, Robin / Lindholm, Megan, Jemisin, N. K.) has rsupport 0.123\n",
            "  (Hobb, Robin / Lindholm, Megan, King, Stephen) has rsupport 0.095\n",
            "  (Hobb, Robin / Lindholm, Megan, Lynch, Scott) has rsupport 0.082\n",
            "  (Hobb, Robin / Lindholm, Megan, Mieville, China) has rsupport 0.099\n",
            "  (Hobb, Robin / Lindholm, Megan, Novik, Naomi) has rsupport 0.086\n",
            "  (Pratchett, Terry, Hobb, Robin / Lindholm, Megan) has rsupport 0.082\n",
            "  (Rowe, Andrew, Hobb, Robin / Lindholm, Megan) has rsupport 0.082\n",
            "  (Sullivan, Michael J., Hobb, Robin / Lindholm, Megan) has rsupport 0.066\n",
            "  (Hurley, Kameron, Jemisin, N. K.) has rsupport 0.074\n",
            "  (Jemisin, N. K., King, Stephen) has rsupport 0.066\n",
            "  (Jemisin, N. K., Lawrence, Mark) has rsupport 0.099\n",
            "  (Jemisin, N. K., Le Guin, Ursula K.) has rsupport 0.107\n",
            "  (Jemisin, N. K., Lynch, Scott) has rsupport 0.074\n",
            "  (Jemisin, N. K., Mieville, China) has rsupport 0.091\n",
            "  (Jemisin, N. K., North, Claire / Webb, Catherine / Griffin, Kate) has rsupport 0.070\n",
            "  (Pratchett, Terry, Jemisin, N. K.) has rsupport 0.082\n",
            "  (Rowe, Andrew, Jemisin, N. K.) has rsupport 0.074\n",
            "  (Schwab, V. E. / Schwab, Victoria, Jemisin, N. K.) has rsupport 0.066\n",
            "  (Smith, Sherwood, Jemisin, N. K.) has rsupport 0.066\n",
            "  (Sullivan, Michael J., Jemisin, N. K.) has rsupport 0.082\n",
            "  (Valente, Catherynne M., Jemisin, N. K.) has rsupport 0.115\n",
            "  (VanderMeer, Jeff, Jemisin, N. K.) has rsupport 0.086\n",
            "  (Wecker, Helene, Jemisin, N. K.) has rsupport 0.070\n",
            "  (King, Stephen, Lawrence, Mark) has rsupport 0.078\n",
            "  (King, Stephen, Mieville, China) has rsupport 0.066\n",
            "  (King, Stephen, Novik, Naomi) has rsupport 0.070\n",
            "  (Pratchett, Terry, King, Stephen) has rsupport 0.070\n",
            "  (Rowe, Andrew, King, Stephen) has rsupport 0.074\n",
            "  (Sanderson, Brandon, King, Stephen) has rsupport 0.103\n",
            "  (Lawrence, Mark, Lynch, Scott) has rsupport 0.095\n",
            "  (Lawrence, Mark, McClellan, Brian) has rsupport 0.066\n",
            "  (Lawrence, Mark, Mieville, China) has rsupport 0.074\n",
            "  (Lawrence, Mark, Novik, Naomi) has rsupport 0.082\n",
            "  (Le Guin, Ursula K., Mieville, China) has rsupport 0.078\n",
            "  (Le Guin, Ursula K., Novik, Naomi) has rsupport 0.070\n",
            "  (Pratchett, Terry, Le Guin, Ursula K.) has rsupport 0.066\n",
            "  (Sanderson, Brandon, Le Guin, Ursula K.) has rsupport 0.091\n",
            "  (Pratchett, Terry, Lynch, Scott) has rsupport 0.099\n",
            "  (Sanderson, Brandon, Lynch, Scott) has rsupport 0.099\n",
            "  (VanderMeer, Jeff, Lynch, Scott) has rsupport 0.078\n",
            "  (Sanderson, Brandon, McClellan, Brian) has rsupport 0.111\n",
            "  (Mieville, China, Novik, Naomi) has rsupport 0.074\n",
            "  (Pratchett, Terry, Mieville, China) has rsupport 0.091\n",
            "  (Rowe, Andrew, Mieville, China) has rsupport 0.074\n",
            "  (Sanderson, Brandon, Mieville, China) has rsupport 0.111\n",
            "  (Sanderson, Brandon, North, Claire / Webb, Catherine / Griffin, Kate) has rsupport 0.082\n",
            "  (Pratchett, Terry, Novik, Naomi) has rsupport 0.082\n",
            "  (Rowe, Andrew, Novik, Naomi) has rsupport 0.082\n",
            "  (Sullivan, Michael J., Novik, Naomi) has rsupport 0.074\n",
            "  (Pratchett, Terry, Rowe, Andrew) has rsupport 0.082\n",
            "  (Pratchett, Terry, VanderMeer, Jeff) has rsupport 0.091\n",
            "  (Sanderson, Brandon, Valente, Catherynne M.) has rsupport 0.074\n",
            "  (Sanderson, Brandon, Willis, Connie) has rsupport 0.078\n",
            "  (Eames, Nicholas, Lawrence, Mark, Bancroft, Josiah) has rsupport 0.066\n",
            "  (Sanderson, Brandon, Eames, Nicholas, Bancroft, Josiah) has rsupport 0.082\n",
            "  (Gaiman, Neil, Lawrence, Mark, Bancroft, Josiah) has rsupport 0.082\n",
            "  (Pratchett, Terry, Gaiman, Neil, Bancroft, Josiah) has rsupport 0.074\n",
            "  (Sanderson, Brandon, Gaiman, Neil, Bancroft, Josiah) has rsupport 0.074\n",
            "  (Hobb, Robin / Lindholm, Megan, Lawrence, Mark, Bancroft, Josiah) has rsupport 0.070\n",
            "  (Sanderson, Brandon, Hobb, Robin / Lindholm, Megan, Bancroft, Josiah) has rsupport 0.066\n",
            "  (Sanderson, Brandon, Jemisin, N. K., Bancroft, Josiah) has rsupport 0.082\n",
            "  (Pratchett, Terry, Lawrence, Mark, Bancroft, Josiah) has rsupport 0.074\n",
            "  (Sanderson, Brandon, Lawrence, Mark, Bancroft, Josiah) has rsupport 0.086\n",
            "  (Sullivan, Michael J., Lawrence, Mark, Bancroft, Josiah) has rsupport 0.074\n",
            "  (VanderMeer, Jeff, Lawrence, Mark, Bancroft, Josiah) has rsupport 0.066\n",
            "  (Sanderson, Brandon, Bancroft, Josiah, Novik, Naomi) has rsupport 0.086\n",
            "  (Pratchett, Terry, Sanderson, Brandon, Bancroft, Josiah) has rsupport 0.082\n",
            "  (Pratchett, Terry, Sullivan, Michael J., Bancroft, Josiah) has rsupport 0.070\n",
            "  (Sanderson, Brandon, Sullivan, Michael J., Bancroft, Josiah) has rsupport 0.066\n",
            "  (Pratchett, Terry, Sanderson, Brandon, Gaiman, Neil) has rsupport 0.070\n",
            "  (Sanderson, Brandon, Jemisin, N. K., Novik, Naomi) has rsupport 0.070\n",
            "  (Rowe, Andrew, Sanderson, Brandon, Lawrence, Mark) has rsupport 0.070\n",
            "  (Sanderson, Brandon, VanderMeer, Jeff, Lawrence, Mark) has rsupport 0.066\n",
            "\n",
            "There are 6 skyline frequent itemset association rules for minConf 65.0%:\n",
            "  Butcher, Jim -> Sanderson, Brandon :   rsupport = 0.107,   conf = 66.67%\n",
            "  Gaiman, Neil, Lawrence, Mark -> Bancroft, Josiah :   rsupport = 0.082,   conf = 68.97%\n",
            "  Hobb, Robin / Lindholm, Megan, Lawrence, Mark -> Bancroft, Josiah :   rsupport = 0.070,   conf = 65.38%\n",
            "  Pratchett, Terry, Lawrence, Mark -> Bancroft, Josiah :   rsupport = 0.074,   conf = 69.23%\n",
            "  Sullivan, Michael J., Lawrence, Mark -> Bancroft, Josiah :   rsupport = 0.074,   conf = 75.00%\n",
            "  Pratchett, Terry, Sullivan, Michael J. -> Bancroft, Josiah :   rsupport = 0.070,   conf = 73.91%\n"
          ]
        }
      ]
    },
    {
      "cell_type": "code",
      "metadata": {
        "colab": {
          "base_uri": "https://localhost:8080/"
        },
        "id": "psfRAenHVKGu",
        "outputId": "f8c98ebc-9f89-4669-f1c4-c246f23df166"
      },
      "source": [
        "# TEST OF OUTERMOST FUNCTION\n",
        "outer_find_associations(\"/content/drive/MyDrive/Data/75000-out1.csv\", 0.02, 0.96, goods_ids_to_names, rules_and_itemsets=3)"
      ],
      "execution_count": null,
      "outputs": [
        {
          "name": "stdout",
          "output_type": "stream",
          "text": [
            "There are 26 skyline frequent itemsets for minRSup 0.02:\n",
            "  (Chocolate Eclair) has rsupport 0.042\n",
            "  (Vanilla Eclair) has rsupport 0.043\n",
            "  (Almond Tart) has rsupport 0.042\n",
            "  (Apricot Tart) has rsupport 0.042\n",
            "  (Pecan Tart) has rsupport 0.043\n",
            "  (Ganache Cookie) has rsupport 0.043\n",
            "  (Chocolate Meringue) has rsupport 0.042\n",
            "  (Vanilla Meringue) has rsupport 0.042\n",
            "  (Almond Croissant) has rsupport 0.043\n",
            "  (Chocolate Croissant) has rsupport 0.043\n",
            "  (Almond Bear Claw) has rsupport 0.042\n",
            "  (Blueberry Danish) has rsupport 0.044\n",
            "  (Lemon Cake, Lemon Tart) has rsupport 0.037\n",
            "  (Strawberry Cake, Napoleon Cake) has rsupport 0.043\n",
            "  (Gongolais Cookie, Truffle Cake) has rsupport 0.044\n",
            "  (Berry Tart, Bottled Water) has rsupport 0.038\n",
            "  (Marzipan Cookie, Tuile Cookie) has rsupport 0.051\n",
            "  (Cheese Croissant, Orange Juice) has rsupport 0.043\n",
            "  (Chocolate Cake, Casino Cake, Chocolate Coffee) has rsupport 0.033\n",
            "  (Cherry Tart, Opera Cake, Apricot Danish) has rsupport 0.041\n",
            "  (Blackberry Tart, Single Espresso, Coffee Eclair) has rsupport 0.027\n",
            "  (Blueberry Tart, Apricot Croissant, Hot Coffee) has rsupport 0.033\n",
            "  (Chocolate Tart, Walnut Cookie, Vanilla Frappuccino) has rsupport 0.027\n",
            "  (Apple Pie, Almond Twist, Hot Coffee, Coffee Eclair) has rsupport 0.028\n",
            "  (Apple Tart, Apple Croissant, Apple Danish, Cherry Soda) has rsupport 0.021\n",
            "  (Raspberry Cookie, Lemon Cookie, Lemon Lemonade, Raspberry Lemonade, Green Tea) has rsupport 0.021\n",
            "\n",
            "There are 10 skyline frequent itemset association rules for minConf 96.0%:\n",
            "  Almond Twist, Hot Coffee, Coffee Eclair -> Apple Pie :   rsupport = 0.028,   conf = 99.29%\n",
            "  Apple Pie, Hot Coffee, Coffee Eclair -> Almond Twist :   rsupport = 0.028,   conf = 99.38%\n",
            "  Apple Pie, Almond Twist, Hot Coffee -> Coffee Eclair :   rsupport = 0.028,   conf = 99.52%\n",
            "  Apple Croissant, Apple Danish, Cherry Soda -> Apple Tart :   rsupport = 0.021,   conf = 98.97%\n",
            "  Apple Tart, Apple Danish, Cherry Soda -> Apple Croissant :   rsupport = 0.021,   conf = 99.29%\n",
            "  Apple Tart, Apple Croissant, Cherry Soda -> Apple Danish :   rsupport = 0.021,   conf = 99.10%\n",
            "  Lemon Cookie, Lemon Lemonade, Raspberry Lemonade, Green Tea -> Raspberry Cookie :   rsupport = 0.021,   conf = 100.00%\n",
            "  Raspberry Cookie, Lemon Lemonade, Raspberry Lemonade, Green Tea -> Lemon Cookie :   rsupport = 0.021,   conf = 99.94%\n",
            "  Raspberry Cookie, Lemon Cookie, Raspberry Lemonade, Green Tea -> Lemon Lemonade :   rsupport = 0.021,   conf = 100.00%\n",
            "  Raspberry Cookie, Lemon Cookie, Lemon Lemonade, Green Tea -> Raspberry Lemonade :   rsupport = 0.021,   conf = 100.00%\n"
          ]
        }
      ]
    },
    {
      "cell_type": "code",
      "metadata": {
        "colab": {
          "background_save": true
        },
        "id": "nBrAyfjlhdSl",
        "outputId": "e1ee8e89-c1b3-4c2d-ce13-d7550ddd3de8"
      },
      "source": [
        "author_names_to_id[\"91\"]"
      ],
      "execution_count": null,
      "outputs": [
        {
          "ename": "NameError",
          "evalue": "ignored",
          "output_type": "error",
          "traceback": [
            "\u001b[0;31m---------------------------------------------------------------------------\u001b[0m",
            "\u001b[0;31mNameError\u001b[0m                                 Traceback (most recent call last)",
            "\u001b[0;32m<ipython-input-118-d6507ba087a2>\u001b[0m in \u001b[0;36m<module>\u001b[0;34m()\u001b[0m\n\u001b[0;32m----> 1\u001b[0;31m \u001b[0mauthor_names_to_id\u001b[0m\u001b[0;34m[\u001b[0m\u001b[0;34m\"91\"\u001b[0m\u001b[0;34m]\u001b[0m\u001b[0;34m\u001b[0m\u001b[0;34m\u001b[0m\u001b[0m\n\u001b[0m",
            "\u001b[0;31mNameError\u001b[0m: name 'author_names_to_id' is not defined"
          ]
        }
      ]
    }
  ]
}